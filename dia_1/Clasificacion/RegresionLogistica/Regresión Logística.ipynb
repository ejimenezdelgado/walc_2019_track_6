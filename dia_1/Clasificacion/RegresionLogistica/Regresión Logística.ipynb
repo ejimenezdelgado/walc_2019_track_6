{
 "cells": [
  {
   "cell_type": "markdown",
   "metadata": {},
   "source": [
    "# Regresión Logística\n",
    "En estadística, la regresión logística es un tipo de análisis de regresión utilizado para predecir el resultado de una variable categórica (una variable que puede adoptar un número limitado de categorías) en función de las variables independientes o predictoras.\n",
    "\n",
    "### Autores\n",
    "   * Efrén Jiménez\n",
    "   \n",
    "## Análisis del Problema\n",
    "\n",
    "Cuando sucede un accidente en un medio de transporte colectivo de gran tamaño como un barco o un avión, una de las situaciones más sensibles es cómo saber las posibilidades de que un pasajero sobreviva. En el caso del Titanic, ya no hay nada que se pueda hacer sobre los pasajeros, no hay decisión que se pueda tomar. Sin embargo, la forma en que se van a manejar los datos para determinar si un pasajero sobrevivió o no se puede transportar a otros escenarios actuales.\n",
    "Al momento en que sucede un accidente, conforme se empiecen a encontrar los primeros sobrevivientes y los primeros cuerpos, podríamos comenzar a crear un modelo que permita predecir las probabilidades de otros pasajeros de haber sobrevivido. Esto podría ayudar en el momento a los cuerpos de rescate a saber qué es necesario tener en la escena del accidente, para poder reaccionar inmediatamente ante cualquier situación.\n",
    "\n",
    "![titanic](img/titanic.png)"
   ]
  },
  {
   "cell_type": "markdown",
   "metadata": {},
   "source": [
    "## Entendimiento de los Datos\n",
    "\n"
   ]
  },
  {
   "cell_type": "markdown",
   "metadata": {},
   "source": [
    "El conjunto de datos que se va a analizar cuenta con 891 observaciones y 12 variables:\n",
    "- PassengerID: Número de pasajero; numérico, rango de 1 a 891.\n",
    "- Survived: Indica si el pasajero sobrevivió o no; valores posibles: 0 (no), 1 (sí).\n",
    "- Pclass: Clase en la cual viajaba el pasajero; valores posibles: 1, 2 ó 3.\n",
    "- Name: Nombre del pasajero; variable cualitativa categórica.\n",
    "- Sex: Género del pasajero; valores posibles: male (hombre) y female (mujer).\n",
    "- Age: Edad del pasajero; rango: 0.42 a 80 años, con 177 valores faltantes.\n",
    "- SibSp: Cantidad de hermanos o cónyuges en el barco; numérica, rango de 0 a 8.\n",
    "- Parch: Cantidad de hij@s o padres a bordo; numérica, rango de 0 a 6.\n",
    "- Ticket: Número de tiquete; variable cualitativa categórica.\n",
    "- Fare: Monto pagado por el pasajero por su tiquete; rango: de 0 a 512.33.\n",
    "- Cabin: Cabina en la cual esaba hospedado el pasajero; variable cualitiva categórica.\n",
    "- Embarked: Puerto en el cual embarcó el pasajero; variable cualitiva categórica."
   ]
  },
  {
   "cell_type": "code",
   "execution_count": 3,
   "metadata": {},
   "outputs": [
    {
     "name": "stderr",
     "output_type": "stream",
     "text": [
      "Loading required package: gplots\n",
      "\n",
      "Attaching package: 'gplots'\n",
      "\n",
      "The following object is masked from 'package:stats':\n",
      "\n",
      "    lowess\n",
      "\n"
     ]
    }
   ],
   "source": [
    "#librerías utiliadas (puede que necesiten instalar una o más de estas librerías, en ese caso, utilicen install.packages)\n",
    "options(warn=-1)\n",
    "library(titanic)\n",
    "library(lattice)\n",
    "library(caTools)\n",
    "library(ROCR)"
   ]
  },
  {
   "cell_type": "code",
   "execution_count": 4,
   "metadata": {},
   "outputs": [
    {
     "name": "stdout",
     "output_type": "stream",
     "text": [
      "'data.frame':\t891 obs. of  12 variables:\n",
      " $ PassengerId: int  1 2 3 4 5 6 7 8 9 10 ...\n",
      " $ Survived   : Factor w/ 2 levels \"0\",\"1\": 1 2 2 2 1 1 1 1 2 2 ...\n",
      " $ Pclass     : Factor w/ 3 levels \"1\",\"2\",\"3\": 3 1 3 1 3 3 1 3 3 2 ...\n",
      " $ Name       : chr  \"Braund, Mr. Owen Harris\" \"Cumings, Mrs. John Bradley (Florence Briggs Thayer)\" \"Heikkinen, Miss. Laina\" \"Futrelle, Mrs. Jacques Heath (Lily May Peel)\" ...\n",
      " $ Sex        : Factor w/ 2 levels \"female\",\"male\": 2 1 1 1 2 2 2 2 1 1 ...\n",
      " $ Age        : num  22 38 26 35 35 NA 54 2 27 14 ...\n",
      " $ SibSp      : int  1 1 0 1 0 0 0 3 0 1 ...\n",
      " $ Parch      : int  0 0 0 0 0 0 0 1 2 0 ...\n",
      " $ Ticket     : chr  \"A/5 21171\" \"PC 17599\" \"STON/O2. 3101282\" \"113803\" ...\n",
      " $ Fare       : num  7.25 71.28 7.92 53.1 8.05 ...\n",
      " $ Cabin      : Factor w/ 148 levels \"\",\"A10\",\"A14\",..: 1 83 1 57 1 1 131 1 1 1 ...\n",
      " $ Embarked   : Factor w/ 4 levels \"\",\"C\",\"Q\",\"S\": 4 2 4 4 4 3 4 4 4 2 ...\n"
     ]
    }
   ],
   "source": [
    "data(titanic_train)\n",
    "data(titanic_test)\n",
    "#crear factores\n",
    "titanic_train$Survived <- factor(titanic_train$Survived)\n",
    "titanic_train$Pclass <- factor(titanic_train$Pclass)\n",
    "titanic_train$Sex <- factor(titanic_train$Sex)\n",
    "titanic_train$Cabin <- factor(titanic_train$Cabin)\n",
    "titanic_train$Embarked <- factor(titanic_train$Embarked)\n",
    "str(titanic_train)"
   ]
  },
  {
   "cell_type": "code",
   "execution_count": 5,
   "metadata": {},
   "outputs": [],
   "source": [
    "#Dividir el conjunto de datos en entrenamiento y prueba\n",
    "set.seed(351)\n",
    "splt <- sample.split(titanic_train$Survived, SplitRatio = 0.7)\n",
    "datos.entrenamiento <- titanic_train[splt,]\n",
    "datos.prueba <- titanic_train[!splt,]"
   ]
  },
  {
   "cell_type": "markdown",
   "metadata": {},
   "source": [
    "Una vez cargados los datos, podemos comenzar a explorarlos. Para comenzar, podemos analizar la distribución\n",
    "de la variable Edad, en el contexto de si el pasajero sobrevivió o no:"
   ]
  },
  {
   "cell_type": "code",
   "execution_count": 6,
   "metadata": {},
   "outputs": [
    {
     "data": {
      "image/png": "[encoded data removed]",
      "text/plain": [
       "Plot with title \"Distribuciones de edad\""
      ]
     },
     "metadata": {},
     "output_type": "display_data"
    }
   ],
   "source": [
    "boxplot(datos.entrenamiento$Age ~ datos.entrenamiento$Survived,\n",
    "main = 'Distribuciones de edad',\n",
    "ylab = 'Edad',\n",
    "xlab = 'Sobrevivió (1 = sí)')"
   ]
  },
  {
   "cell_type": "markdown",
   "metadata": {},
   "source": [
    "Del gráfico anterior, podemos concluir que hubo sobrevivientes y víctimas en diferentes rangos de edades, y\n",
    "que no se aprecia un patrón dictado por la edad que favorezca al a sobrevivir el accidente. Alternativamente,\n",
    "podemos comparar proporciones entre los sobrevivientes y el genero:"
   ]
  },
  {
   "cell_type": "code",
   "execution_count": 7,
   "metadata": {},
   "outputs": [
    {
     "data": {
      "image/png": "[encoded data removed]",
      "text/plain": [
       "Plot with title \"Proporción de sobrevivientes por género\""
      ]
     },
     "metadata": {},
     "output_type": "display_data"
    }
   ],
   "source": [
    "mosaicplot(~datos.entrenamiento$Survived + datos.entrenamiento$Sex,\n",
    "main = 'Proporción de sobrevivientes por género',\n",
    "ylab = 'Género',\n",
    "xlab = '¿Sobrevivió? (0 = No)')"
   ]
  },
  {
   "cell_type": "markdown",
   "metadata": {},
   "source": [
    "En el gráfico de mosaico arriba, podemos apreciar cómo hay un mayor número de víctimas masculinas,\n",
    "complementado por una gran cantidad de mujeres sobrevivientes.\n",
    "Dada la época en la cual sucedió el accidente del Titanic, también es importante analizar la proporción de\n",
    "sobrevivientes por clase en la cual viajaba:"
   ]
  },
  {
   "cell_type": "code",
   "execution_count": 8,
   "metadata": {},
   "outputs": [
    {
     "data": {
      "image/png": "[encoded data removed]",
      "text/plain": [
       "Plot with title \"Proporción de sobrevivientes por clase\""
      ]
     },
     "metadata": {},
     "output_type": "display_data"
    }
   ],
   "source": [
    "mosaicplot(~datos.entrenamiento$Survived + datos.entrenamiento$Pclass,\n",
    "main = 'Proporción de sobrevivientes por clase',\n",
    "ylab = 'Clase',\n",
    "xlab = '¿Sobrevivió? (0 = No)')"
   ]
  },
  {
   "cell_type": "markdown",
   "metadata": {},
   "source": [
    "En el gráfico anterior, se puede apreciar cómo la mayoría de personas que no sobrevivió viajaba en tercera\n",
    "clase , mientras que la proporción de sobrevivientes la domina la gente que iba en primera clase.\n",
    "Adicionalmente, se puede analizar la interacción de variables como el género y la edad, para ver si a pesar de\n",
    "que la edad no parece ser importante por sí sola para determinar quién sobrevivió, pero talvez en combinación\n",
    "con el género sí pueda ser interesante."
   ]
  },
  {
   "cell_type": "code",
   "execution_count": 9,
   "metadata": {},
   "outputs": [
    {
     "data": {},
     "metadata": {},
     "output_type": "display_data"
    },
    {
     "data": {
      "image/png": "[encoded data removed]",
      "text/plain": [
       "plot without title"
      ]
     },
     "metadata": {},
     "output_type": "display_data"
    }
   ],
   "source": [
    "bwplot(datos.entrenamiento$Age ~ datos.entrenamiento$Survived | datos.entrenamiento$Sex,\n",
    "main = 'Distribución de edades por género y si sobrevivieron (1) o no (0)',\n",
    "xlab = '¿Sobrevivieron?',\n",
    "ylab = 'Edad')"
   ]
  },
  {
   "cell_type": "markdown",
   "metadata": {},
   "source": [
    "Del gráfico anterior, se puede observar una mayor tendencia de hombres de mayor edad y mujeres de menos\n",
    "edad a no sobrevivir, por lo cual no vamos a descartar la variable de la edad a la hora de hacer el gráfico.\n",
    "Para terminar, podemos ver la proporción de sobrevivientes de acuerdo con su punto de embarque:"
   ]
  },
  {
   "cell_type": "code",
   "execution_count": 10,
   "metadata": {},
   "outputs": [
    {
     "data": {
      "image/png": "[encoded data removed]",
      "text/plain": [
       "Plot with title \"Proporción de sobrevivientes por punto de embarque\""
      ]
     },
     "metadata": {},
     "output_type": "display_data"
    }
   ],
   "source": [
    "mosaicplot(~datos.entrenamiento$Survived + datos.entrenamiento$Embarked,\n",
    "main = 'Proporción de sobrevivientes por punto de embarque',\n",
    "ylab = 'Punto de Embarque',\n",
    "xlab = '¿Sobrevivió? (0 = No)')"
   ]
  },
  {
   "cell_type": "markdown",
   "metadata": {},
   "source": [
    "A primera vista, se puede apreciar cómo ambos valores (sobrevivieron y no sobrevivieron) son dominados\n",
    "por las observaciones del punto de embarque “S”. Esto tiene mucho sentido porque, según la segunda tabla\n",
    "abajo, la mayoría de las personas embarcó en este punto (72%, o 450 observaciones de 623). Lo que sí resulta\n",
    "interesante es ver cómo la mayoría de las personas que embarcaron en el punto “C”, según la tercera table\n",
    "abajo, sobrevivió: 57%, comparado con menos del 46% en los otros dos puntos de embarque, obviando las 2\n",
    "observaciones para las cuales no se tiene esa información."
   ]
  },
  {
   "cell_type": "code",
   "execution_count": 11,
   "metadata": {},
   "outputs": [
    {
     "data": {
      "text/plain": [
       "\n",
       "      C   Q   S \n",
       "  2 118  53 450 "
      ]
     },
     "metadata": {},
     "output_type": "display_data"
    }
   ],
   "source": [
    "table(datos.entrenamiento$Embarked)"
   ]
  },
  {
   "cell_type": "code",
   "execution_count": 12,
   "metadata": {},
   "outputs": [
    {
     "data": {
      "text/plain": [
       "\n",
       "          C     Q     S \n",
       " 0.32 18.94  8.51 72.23 "
      ]
     },
     "metadata": {},
     "output_type": "display_data"
    }
   ],
   "source": [
    "\n",
    "round(table(datos.entrenamiento$Embarked)/nrow(datos.entrenamiento)*100,2)"
   ]
  },
  {
   "cell_type": "code",
   "execution_count": 13,
   "metadata": {},
   "outputs": [
    {
     "data": {
      "text/plain": [
       "   \n",
       "         0      1\n",
       "      0.00 100.00\n",
       "  C  43.22  56.78\n",
       "  Q  54.72  45.28\n",
       "  S  67.56  32.44"
      ]
     },
     "metadata": {},
     "output_type": "display_data"
    }
   ],
   "source": [
    "round(table(datos.entrenamiento$Embarked, datos.entrenamiento$Survived)/\n",
    "rowSums(table(datos.entrenamiento$Embarked, datos.entrenamiento$Survived))*100,2)"
   ]
  },
  {
   "cell_type": "markdown",
   "metadata": {},
   "source": [
    "## Modelo de Minería de Datos\n",
    "\n",
    "Para modelar este caso, se va a utilizar una regresión logística, dejando de lado columnas como el identificador\n",
    "del pasajero, el nombre, el número de tiquete y el número de cabina en la cual estuvo hospedado el pasajero:"
   ]
  },
  {
   "cell_type": "code",
   "execution_count": 14,
   "metadata": {},
   "outputs": [],
   "source": [
    "titanic.fit <- glm(Survived ~ Pclass + Sex + Age + SibSp + Parch + Fare + Embarked,\n",
    "data = datos.entrenamiento,\n",
    "family = binomial)"
   ]
  },
  {
   "cell_type": "markdown",
   "metadata": {},
   "source": [
    "Al ver los detalles del modelo:"
   ]
  },
  {
   "cell_type": "code",
   "execution_count": 15,
   "metadata": {},
   "outputs": [
    {
     "data": {
      "text/plain": [
       "\n",
       "Call:\n",
       "glm(formula = Survived ~ Pclass + Sex + Age + SibSp + Parch + \n",
       "    Fare + Embarked, family = binomial, data = datos.entrenamiento)\n",
       "\n",
       "Deviance Residuals: \n",
       "    Min       1Q   Median       3Q      Max  \n",
       "-2.7717  -0.6390  -0.3591   0.5515   2.5430  \n",
       "\n",
       "Coefficients:\n",
       "              Estimate Std. Error z value Pr(>|z|)    \n",
       "(Intercept)  16.690641 608.038382   0.027  0.97810    \n",
       "Pclass2      -1.148664   0.402096  -2.857  0.00428 ** \n",
       "Pclass3      -2.586663   0.430218  -6.012 1.83e-09 ***\n",
       "Sexmale      -2.585890   0.273213  -9.465  < 2e-16 ***\n",
       "Age          -0.043615   0.010350  -4.214 2.51e-05 ***\n",
       "SibSp        -0.340159   0.162014  -2.100  0.03577 *  \n",
       "Parch         0.031517   0.155045   0.203  0.83892    \n",
       "Fare          0.001685   0.003663   0.460  0.64538    \n",
       "EmbarkedC   -12.220417 608.038168  -0.020  0.98397    \n",
       "EmbarkedQ   -12.647053 608.038464  -0.021  0.98341    \n",
       "EmbarkedS   -12.762141 608.038140  -0.021  0.98325    \n",
       "---\n",
       "Signif. codes:  0 '***' 0.001 '**' 0.01 '*' 0.05 '.' 0.1 ' ' 1\n",
       "\n",
       "(Dispersion parameter for binomial family taken to be 1)\n",
       "\n",
       "    Null deviance: 669.68  on 495  degrees of freedom\n",
       "Residual deviance: 420.94  on 485  degrees of freedom\n",
       "  (127 observations deleted due to missingness)\n",
       "AIC: 442.94\n",
       "\n",
       "Number of Fisher Scoring iterations: 13\n"
      ]
     },
     "metadata": {},
     "output_type": "display_data"
    }
   ],
   "source": [
    "summary(titanic.fit)"
   ]
  },
  {
   "cell_type": "markdown",
   "metadata": {},
   "source": [
    "Se puede observar que hay muchas variables que no son significativas: el punto de embarque, el monto pagado\n",
    "por el tiquete y la cantidad de padres / hijos a bordo, así que se procede a hacer un segundo modelo sin estas\n",
    "variables:"
   ]
  },
  {
   "cell_type": "code",
   "execution_count": 16,
   "metadata": {},
   "outputs": [
    {
     "data": {
      "text/plain": [
       "\n",
       "Call:\n",
       "glm(formula = Survived ~ Pclass + Sex + Age + SibSp, family = binomial, \n",
       "    data = datos.entrenamiento)\n",
       "\n",
       "Deviance Residuals: \n",
       "    Min       1Q   Median       3Q      Max  \n",
       "-2.8208  -0.6173  -0.3595   0.5825   2.5306  \n",
       "\n",
       "Coefficients:\n",
       "            Estimate Std. Error z value Pr(>|z|)    \n",
       "(Intercept)  4.38606    0.54816   8.001 1.23e-15 ***\n",
       "Pclass2     -1.43665    0.34943  -4.111 3.93e-05 ***\n",
       "Pclass3     -2.84908    0.36032  -7.907 2.64e-15 ***\n",
       "Sexmale     -2.65573    0.26368 -10.072  < 2e-16 ***\n",
       "Age         -0.04537    0.01024  -4.432 9.32e-06 ***\n",
       "SibSp       -0.33581    0.15393  -2.182   0.0291 *  \n",
       "---\n",
       "Signif. codes:  0 '***' 0.001 '**' 0.01 '*' 0.05 '.' 0.1 ' ' 1\n",
       "\n",
       "(Dispersion parameter for binomial family taken to be 1)\n",
       "\n",
       "    Null deviance: 669.68  on 495  degrees of freedom\n",
       "Residual deviance: 424.63  on 490  degrees of freedom\n",
       "  (127 observations deleted due to missingness)\n",
       "AIC: 436.63\n",
       "\n",
       "Number of Fisher Scoring iterations: 5\n"
      ]
     },
     "metadata": {},
     "output_type": "display_data"
    }
   ],
   "source": [
    "titanic.fit <- glm(Survived ~ Pclass + Sex + Age + SibSp,\n",
    "data = datos.entrenamiento,\n",
    "family = binomial)\n",
    "summary(titanic.fit)"
   ]
  },
  {
   "cell_type": "markdown",
   "metadata": {},
   "source": [
    "En este segundo modelo, todas las variables son significativas, y el AIC bajó de 443 a 437. Tenemos suficiente\n",
    "evidencia de que el segundo modelo es mejor que el primero a nivel estadístico.\n",
    "Con respecto a la interpretación de coeficientes, se puede decir que:"
   ]
  },
  {
   "cell_type": "markdown",
   "metadata": {},
   "source": [
    "- El logaritmo de las posibilidades de los pasajeros de 2da y 3ra clase es menor que el de los pasajeros de\n",
    "primera clase.\n",
    "- La probabilidad de sobrevivir es menor para los hombres.\n",
    "- En general, a mayor edad y cantidad de hermanos / espos@s, menor probabilidad de sobrevivir."
   ]
  },
  {
   "cell_type": "markdown",
   "metadata": {},
   "source": [
    "## Evaluación\n",
    "A manera de modelo ingenuo, podemos tener un modelo que prediga que nadie sobrevivió al Titanic, pues\n",
    "es el resultado más frecuente. Dicho modelo tendría una exactitud del 61.58% (165 aciertos de 268 en el\n",
    "conjunto de pruebas)."
   ]
  },
  {
   "cell_type": "code",
   "execution_count": 17,
   "metadata": {},
   "outputs": [
    {
     "data": {
      "text/plain": [
       "\n",
       "  0   1 \n",
       "384 239 "
      ]
     },
     "metadata": {},
     "output_type": "display_data"
    }
   ],
   "source": [
    "table(datos.entrenamiento$Survived)"
   ]
  },
  {
   "cell_type": "code",
   "execution_count": 18,
   "metadata": {},
   "outputs": [
    {
     "data": {
      "text/plain": [
       "   \n",
       "      0\n",
       "  0 165\n",
       "  1 103"
      ]
     },
     "metadata": {},
     "output_type": "display_data"
    }
   ],
   "source": [
    "table(datos.prueba$Survived, rep(0, nrow(datos.prueba)))"
   ]
  },
  {
   "cell_type": "markdown",
   "metadata": {},
   "source": [
    "Al generar las predicciones del modelo sobre el conjunto de pruebas, tenemos las siguientes métricas según la\n",
    "tabla abajo (usando 0.5 como umbral de discriminación):"
   ]
  },
  {
   "cell_type": "markdown",
   "metadata": {},
   "source": [
    "- Exactitud: 63.81%\n",
    "- Sensibilidad: 70.79%\n",
    "- Especificidad: 83.72%\n",
    "- Área bajo la curva: 82.96%"
   ]
  },
  {
   "cell_type": "code",
   "execution_count": 55,
   "metadata": {},
   "outputs": [],
   "source": [
    "predicciones <- predict(titanic.fit, newdata = datos.prueba, type = 'response')\n",
    "data<-table(datos.prueba$Survived, predicciones >= 0.5)"
   ]
  },
  {
   "cell_type": "markdown",
   "metadata": {},
   "source": [
    "*Notas Importantes*:\n",
    "\n",
    "![Proceso ROC](img/matriz_de_confusión.png)"
   ]
  },
  {
   "cell_type": "markdown",
   "metadata": {},
   "source": [
    "En general, podemos sacar las siguientes métricas a partir de la tabulación anterior:"
   ]
  },
  {
   "cell_type": "markdown",
   "metadata": {},
   "source": [
    "\\begin{equation}Exactitud=\\frac{VP+VN}{Total}\\end{equation}"
   ]
  },
  {
   "cell_type": "code",
   "execution_count": 56,
   "metadata": {},
   "outputs": [
    {
     "name": "stdout",
     "output_type": "stream",
     "text": [
      "[1] 0.7844037\n"
     ]
    }
   ],
   "source": [
    "#Exactitud:\n",
    "#(108 + 63) / nrow(datos.prueba)\n",
    "print((data[1,1]+data[2,2]) / sum(data) )"
   ]
  },
  {
   "cell_type": "markdown",
   "metadata": {},
   "source": [
    "\\begin{equation}\\text{Sensibilidad}=\\frac{VP}{\\text{Total Positivos}}\\end{equation}"
   ]
  },
  {
   "cell_type": "code",
   "execution_count": 57,
   "metadata": {},
   "outputs": [
    {
     "name": "stdout",
     "output_type": "stream",
     "text": [
      "[1] 0.8372093\n"
     ]
    }
   ],
   "source": [
    "#Sensibilidad:\n",
    "#63 / (63 + 26)\n",
    "print( data[1,1] /(data[1,1]+data[1,2]))"
   ]
  },
  {
   "cell_type": "markdown",
   "metadata": {},
   "source": [
    "\\begin{equation}\\text{Precisión}=\\frac{VP}{\\text{Total clasificados positivos}}\\end{equation}"
   ]
  },
  {
   "cell_type": "code",
   "execution_count": 58,
   "metadata": {},
   "outputs": [
    {
     "name": "stdout",
     "output_type": "stream",
     "text": [
      "[1] 0.8059701\n"
     ]
    }
   ],
   "source": [
    "print(data[1,1] /(data[1,1]+data[2,1] ))"
   ]
  },
  {
   "cell_type": "markdown",
   "metadata": {},
   "source": [
    "\\begin{equation}\\text{Especificidad}=\\frac{VN}{\\text{Total Negativos}}\\end{equation}"
   ]
  },
  {
   "cell_type": "code",
   "execution_count": 59,
   "metadata": {},
   "outputs": [
    {
     "name": "stdout",
     "output_type": "stream",
     "text": [
      "[1] 0.75\n"
     ]
    }
   ],
   "source": [
    "print( data[2,2] /(data[1,2]+data[2,2]))"
   ]
  },
  {
   "cell_type": "code",
   "execution_count": 102,
   "metadata": {},
   "outputs": [
    {
     "data": {
      "text/html": [
       "0.829631565194669"
      ],
      "text/latex": [
       "0.829631565194669"
      ],
      "text/markdown": [
       "0.829631565194669"
      ],
      "text/plain": [
       "[1] 0.8296316"
      ]
     },
     "metadata": {},
     "output_type": "display_data"
    },
    {
     "data": {
      "image/png": "[encoded data removed]",
      "text/plain": [
       "Plot with title \"Curva ROC del modelo\""
      ]
     },
     "metadata": {},
     "output_type": "display_data"
    }
   ],
   "source": [
    "predicciones <- predict(titanic.fit, newdata = datos.prueba, type = 'response')\n",
    "prediccionesROC <- prediction(c(predicciones),c(datos.prueba[,\"Survived\"]))\n",
    "as.numeric(performance(prediccionesROC,measure = \"auc\")@y.values)\n",
    "\n",
    "plot(performance(prediccionesROC, \"tpr\", \"fpr\"),\n",
    "colorize = T,\n",
    "print.cutoffs.at=seq(0,1,by=0.1),\n",
    "text.adj=c(-0.2,1.7),\n",
    "main = 'Curva ROC del modelo')"
   ]
  },
  {
   "cell_type": "markdown",
   "metadata": {},
   "source": [
    "## Resultados\n",
    "\n",
    "En general, los resultados del modelo son considerablemente buenos, pero tambien representa que alrededor del 18% del error puede provocar graves problemas por que, se le estaria aceverando a las familias que existe la posibilidad que su pariente este vivo cuando hay un 18% DE probabilidad de que este muerto."
   ]
  },
  {
   "cell_type": "code",
   "execution_count": null,
   "metadata": {},
   "outputs": [],
   "source": []
  }
 ],
 "metadata": {
  "kernelspec": {
   "display_name": "R",
   "language": "R",
   "name": "ir"
  },
  "language_info": {
   "codemirror_mode": "r",
   "file_extension": ".r",
   "mimetype": "text/x-r-source",
   "name": "R",
   "pygments_lexer": "r",
   "version": "3.5.1"
  }
 },
 "nbformat": 4,
 "nbformat_minor": 2
}
