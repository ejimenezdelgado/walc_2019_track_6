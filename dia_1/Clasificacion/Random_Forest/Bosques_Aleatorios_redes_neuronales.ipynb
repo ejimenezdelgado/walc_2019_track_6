{
 "cells": [
  {
   "cell_type": "markdown",
   "metadata": {},
   "source": [
    "## Análisis del Problema"
   ]
  },
  {
   "cell_type": "markdown",
   "metadata": {},
   "source": [
    "El deporte, como inustria, mueve millones de dólares al año. Con respecto a las contrataciones, diferentes\n",
    "tienen diferentes formas de “agrupar” o “catalogar” a los jugadores, pero en general hay una categoría de\n",
    "jugadores sumamente cotizados que son considerados “súper estrellas”. Las implicaciones de estos jugadores\n",
    "son muchas, pues no solo representan una gran inversión para el equipo sino que también se convierten en\n",
    "una de las razones principales por las cuales el público va al estadio. A nivel de mercadotécnia, también es\n",
    "una decsisión súmamente importante pues las súper estrellas suelen representar una de las principales cartas\n",
    "comerciales.\n",
    "Por estas razones, la decisión de si un jugador puede ser o no una súper estrella es de suma importancia, y\n",
    "tener un modelo que pueda predecir potenciales súper estrellas para asisiter en la toma de estas decisiones\n",
    "puede ser de suma importancia para diferentes equipos."
   ]
  },
  {
   "cell_type": "markdown",
   "metadata": {},
   "source": [
    "## Entendimiento de los Datos"
   ]
  },
  {
   "cell_type": "markdown",
   "metadata": {},
   "source": [
    "Para analizar este problema, se tiene un conjunto de datos con 263 observaciones y 19 variables:\n",
    "- Nombre del jugador: cualitativa; con 263 valores diferentes.\n",
    "- ID de la Posición: cualitativa; con 10 valores diferentes entre 0 y 10.\n",
    "- Tiros: cuantitativa; cantidad de tiros en la temporada anterior, con un rango entre 19 y 687.\n",
    "- Tiros Hechos: cuantitativa; cantidad de tiros anotados en la temporada anterior, con un rango entre 1\n",
    "y 238.\n",
    "- Puntos Personales: cuantitativa; puntos anotados personalmente por el atleta la temporada anterior,\n",
    "con un rango entre 0 y 40.\n",
    "- Puntos Totales: cuantitativa; cantidad de puntos que el atleta contribuyó a anotar, con un rango entre\n",
    "0 y 130.\n",
    "- Asistencias: cuantitativa; cantidad de veces que el atleta contribuyó a quitarle la posesión del balón al\n",
    "rival, con un rango entre 0 y 121.\n",
    "- Concesiones: cuantitativa; cantidad de veces que una jugada del atleta causó que el rival cediera una\n",
    "ventaja a la ofensiva, con un valor entre 0 y 105.\n",
    "- Bloqueos: cuantitativa; cantidad de veces que el atleta bloqueó a un rival la temporada anterior, con\n",
    "un valor entre 0 y 1377.\n",
    "- Asistencias a Bloqueos: cuantitativa; cantidad de veces que el atleta asistió a un compañero a bloquear\n",
    "a un rival, con un rango entre 0 y 492.\n",
    "- Faltas: cuantitativa; cantidad de veces que el atleta cometió una falta, con un rival entre 0 y 32.\n",
    "- Años de profesional: cuantitativa; cantidad de año que el atleta ha jugado a nivel profesional, con un\n",
    "rango entre 1 y 24.\n",
    "- Tiros en la carrera: cuantitativa; cantidad de tiros en toda la carrera del atleta, con un rango de 19 a\n",
    "14053.\n",
    "- Tiros hechos en la carrera: cuantitativa; cantidad de tiros hechos en la carrera del atleta, con un rango\n",
    "de 4 a 4256.\n",
    "- Puntos Personales en la carrera: cuantitativa; cantidad de puntos personales en la carrera del atleta,\n",
    "con un rango de 0 a 548.\n",
    "- Puntos Totales en la carrera: cuantitativa; puntos totales del atleta en toda su carrera, con un rango de\n",
    "2 a 2165.\n",
    "- Asistencias en la carrera: cuantitativa; cantidad de asistencias en toda la carrera, con un rango de 3 a\n",
    "1659.\n",
    "- Concesiones en la carrera: cuantitativa; cantidad de concesiones en toda la carrera, con un rango de 1 a\n",
    "1566.\n",
    "- Valor para el equipo: cualitativa; valor que puede tener el jugador para el equipo, con cuatro valores\n",
    "posibles: Jugador de Rol, Contribuidor, Jugador de Franquicia y Súper Estrella. Esta variable se\n",
    "manipuló durante el análisis para convertirla en binaria, respondiendo a la pregunta: ¿Es el jugador\n",
    "una súper estrella? donde 0 es ‘No’ y 1 es ‘Sí’."
   ]
  },
  {
   "cell_type": "markdown",
   "metadata": {},
   "source": [
    "## Exploración de los Datos"
   ]
  },
  {
   "cell_type": "markdown",
   "metadata": {},
   "source": [
    "Antes de explorar los datos, es necesario cargarlos y aplicar la transformación respectiva a la variable “valor\n",
    "para el equipo”, pues el problema consiste en determinar cuáles jugadores son potencialmente súper estrellas.\n",
    "Adicionalmente, se procede a dividir el conjunto de datos en uno de entrenamiento y otro de prueba."
   ]
  },
  {
   "cell_type": "code",
   "execution_count": 2,
   "metadata": {
    "scrolled": true
   },
   "outputs": [
    {
     "name": "stderr",
     "output_type": "stream",
     "text": [
      "randomForest 4.6-14\n",
      "Type rfNews() to see new features/changes/bug fixes.\n",
      "Loading required package: gplots\n",
      "\n",
      "Attaching package: 'gplots'\n",
      "\n",
      "The following object is masked from 'package:stats':\n",
      "\n",
      "    lowess\n",
      "\n",
      "\n",
      "Attaching package: 'ROCR'\n",
      "\n",
      "The following object is masked from 'package:neuralnet':\n",
      "\n",
      "    prediction\n",
      "\n"
     ]
    }
   ],
   "source": [
    "#Evitar mostrar warning messages\n",
    "options(warn=-1)\n",
    "\n",
    "library(caTools)\n",
    "library(rpart)\n",
    "library(randomForest)\n",
    "library(neuralnet)\n",
    "library(ROCR)"
   ]
  },
  {
   "cell_type": "code",
   "execution_count": 3,
   "metadata": {},
   "outputs": [],
   "source": [
    "datos <- read.csv('Chapter11DataSet_Training.csv', header = T, na.strings = '?')\n",
    "datos$Team_Value <- as.character(datos$Team_Value)\n",
    "datos[datos$Team_Value != 'Superstar',]$Team_Value <- 0\n",
    "datos[datos$Team_Value == 'Superstar',]$Team_Value <- 1\n",
    "datos$Team_Value<- as.numeric(datos$Team_Value)\n",
    "splt <- sample.split(datos$Team_Value, SplitRatio = 0.7)\n",
    "entrenamiento <- datos[splt, ]\n",
    "prueba <- datos[!splt, ]"
   ]
  },
  {
   "cell_type": "markdown",
   "metadata": {},
   "source": [
    "Como podemos observar, la mayoría de las observaciones no son súper estrellas. Esto es esperado, pues la\n",
    "esta categoría de jugadores generalmente son los menos."
   ]
  },
  {
   "cell_type": "code",
   "execution_count": 4,
   "metadata": {},
   "outputs": [
    {
     "data": {
      "image/png": "[encoded data removed]",
      "text/plain": [
       "Plot with title \"Distribución de Valor para el Equipo\""
      ]
     },
     "metadata": {},
     "output_type": "display_data"
    }
   ],
   "source": [
    "barplot(table(entrenamiento$Team_Value),\n",
    "main = 'Distribución de Valor para el Equipo',\n",
    "ylab = 'Observaciones',\n",
    "xlab = '¿Es Súper Estrella? (1 = Sí)')"
   ]
  },
  {
   "cell_type": "markdown",
   "metadata": {},
   "source": [
    "Para efectos de determinar qué variables influencian la determinación de si es una súper estrella o no, podemos\n",
    "analizar algunas de las variales que acumulan el desempeño de la carrera.\n",
    "En el caso de la variable Career_TP, se puede apreciar una diferencia considerable entre las dos categorías.\n",
    "Sin embargo, los valores extremos de la categoría ‘No’ o 0 son mayores. Estos puntos anómalos en esa\n",
    "categoría pueden ser los jugadores de franquicia."
   ]
  },
  {
   "cell_type": "code",
   "execution_count": 5,
   "metadata": {},
   "outputs": [
    {
     "data": {
      "image/png": "[encoded data removed]",
      "text/plain": [
       "Plot with title \"Distribución de Career_TP por Valor para el Equipo\""
      ]
     },
     "metadata": {},
     "output_type": "display_data"
    }
   ],
   "source": [
    "boxplot(Career_TP ~ Team_Value,\n",
    "data = entrenamiento,\n",
    "main = 'Distribución de Career_TP por Valor para el Equipo',\n",
    "ylab = 'Career_TP',\n",
    "xlab = '¿Es Súper Estrella? (1 = Sí)')"
   ]
  },
  {
   "cell_type": "markdown",
   "metadata": {},
   "source": [
    "La variable Career_PP se comporta de manera similar:"
   ]
  },
  {
   "cell_type": "code",
   "execution_count": 5,
   "metadata": {},
   "outputs": [
    {
     "data": {
      "image/png": "[encoded data removed]",
      "text/plain": [
       "Plot with title \"Distribución de Career_PP por Valor para el Equipo\""
      ]
     },
     "metadata": {},
     "output_type": "display_data"
    }
   ],
   "source": [
    "boxplot(Career_PP ~ Team_Value,\n",
    "data = entrenamiento,\n",
    "main = 'Distribución de Career_PP por Valor para el Equipo',\n",
    "ylab = 'Career_PP',\n",
    "xlab = '¿Es Súper Estrella? (1 = Sí)')"
   ]
  },
  {
   "cell_type": "markdown",
   "metadata": {},
   "source": [
    "Y también la variable Career_Assists:"
   ]
  },
  {
   "cell_type": "code",
   "execution_count": 6,
   "metadata": {},
   "outputs": [
    {
     "data": {
      "image/png": "[encoded data removed]",
      "text/plain": [
       "Plot with title \"Distribución de Career_Assists por Valor para el Equipo\""
      ]
     },
     "metadata": {},
     "output_type": "display_data"
    }
   ],
   "source": [
    "boxplot(Career_Assists ~ Team_Value,\n",
    "data = entrenamiento,\n",
    "main = 'Distribución de Career_Assists por Valor para el Equipo',\n",
    "ylab = 'Career_Assists',\n",
    "xlab = '¿Es Súper Estrella? (1 = Sí)')"
   ]
  },
  {
   "cell_type": "markdown",
   "metadata": {},
   "source": [
    "Cuando se analizan las variables a nivel de la temporada anterior, el patrón se mantiene, aunque las diferencias\n",
    "son menores:"
   ]
  },
  {
   "cell_type": "code",
   "execution_count": 7,
   "metadata": {},
   "outputs": [
    {
     "data": {
      "image/png": "[encoded data removed]",
      "text/plain": [
       "Plot with title \"Distribución de Total_Points por Valor para el Equipo\""
      ]
     },
     "metadata": {},
     "output_type": "display_data"
    }
   ],
   "source": [
    "boxplot(Total_Points ~ Team_Value,\n",
    "data = entrenamiento,\n",
    "main = 'Distribución de Total_Points por Valor para el Equipo',\n",
    "ylab = 'Total_Points',\n",
    "xlab = '¿Es Súper Estrella? (1 = Sí)')"
   ]
  },
  {
   "cell_type": "markdown",
   "metadata": {},
   "source": [
    "    La variable Career_PP se comporta de manera similar:"
   ]
  },
  {
   "cell_type": "code",
   "execution_count": 8,
   "metadata": {},
   "outputs": [
    {
     "data": {
      "image/png": "[encoded data removed]",
      "text/plain": [
       "Plot with title \"Distribución de Personal_Points por Valor para el Equipo\""
      ]
     },
     "metadata": {},
     "output_type": "display_data"
    }
   ],
   "source": [
    "boxplot(Personal_Points ~ Team_Value,\n",
    "data = entrenamiento,\n",
    "main = 'Distribución de Personal_Points por Valor para el Equipo',\n",
    "ylab = 'Personal_Points',\n",
    "xlab = '¿Es Súper Estrella? (1 = Sí)')"
   ]
  },
  {
   "cell_type": "markdown",
   "metadata": {},
   "source": [
    "Y también la variable Career_Assists:"
   ]
  },
  {
   "cell_type": "code",
   "execution_count": 9,
   "metadata": {},
   "outputs": [
    {
     "data": {
      "image/png": "[encoded data removed]",
      "text/plain": [
       "Plot with title \"Distribución de Assists por Valor para el Equipo\""
      ]
     },
     "metadata": {},
     "output_type": "display_data"
    }
   ],
   "source": [
    "boxplot(Assists ~ Team_Value,\n",
    "data = entrenamiento,\n",
    "main = 'Distribución de Assists por Valor para el Equipo',\n",
    "ylab = 'Assists',\n",
    "xlab = '¿Es Súper Estrella? (1 = Sí)')"
   ]
  },
  {
   "cell_type": "markdown",
   "metadata": {},
   "source": [
    "Hay algunas variables que tienden a favorecer el no, como por ejemplo la cantidad de faltas la temporada\n",
    "anterior:"
   ]
  },
  {
   "cell_type": "code",
   "execution_count": 10,
   "metadata": {},
   "outputs": [
    {
     "data": {
      "image/png": "[encoded data removed]",
      "text/plain": [
       "Plot with title \"Distribución de Fouls por Valor para el Equipo\""
      ]
     },
     "metadata": {},
     "output_type": "display_data"
    }
   ],
   "source": [
    "boxplot(Fouls ~ Team_Value,\n",
    "data = entrenamiento,\n",
    "main = 'Distribución de Fouls por Valor para el Equipo',\n",
    "ylab = 'Fouls',\n",
    "xlab = '¿Es Súper Estrella? (1 = Sí)')"
   ]
  },
  {
   "cell_type": "markdown",
   "metadata": {},
   "source": [
    "A pesar de que el análisis exploratorio nos indica que podríamos guiarnos nada más por las estadísticas a nivel\n",
    "de la carrera, si hacemos esto, corremos el riesgo de no tomar encuenta súper estrellas potenciales que están\n",
    "en etapas tempranas en su carrera. Para evitar esto, y para aprovechar también la capacidad de las redes\n",
    "neuronales, vamos a tomar en cuenta todas las variables cuantitativas para intentar responder la pregunta."
   ]
  },
  {
   "cell_type": "markdown",
   "metadata": {},
   "source": [
    "## Creación de los Modelos"
   ]
  },
  {
   "cell_type": "markdown",
   "metadata": {},
   "source": [
    "En este caso, se van a utilizar una red neuronal, un árbol de decisión y un bosque aleatorio. Se comienza por\n",
    "crear la red neuronal y por aplicarla a los datos de prueba:"
   ]
  },
  {
   "cell_type": "code",
   "execution_count": 7,
   "metadata": {
    "scrolled": false
   },
   "outputs": [
    {
     "data": {
      "image/png": "[encoded data removed]",
      "text/plain": [
       "plot without title"
      ]
     },
     "metadata": {},
     "output_type": "display_data"
    }
   ],
   "source": [
    "#crear red neuronal con 7 unidades en la capa oculta\n",
    "modelo.red <- neuralnet(Team_Value ~ Shots + Makes + Personal_Points + Total_Points + Assists \n",
    "                        + Concessions+Blocks,data = entrenamiento,hidden =60,rep=1,linear.output=T)\n",
    "plot(modelo.red,rep=\"best\")"
   ]
  },
  {
   "cell_type": "code",
   "execution_count": 9,
   "metadata": {},
   "outputs": [
    {
     "data": {
      "text/html": [
       "<table>\n",
       "<caption>A data.frame: 79 × 2</caption>\n",
       "<thead>\n",
       "\t<tr><th></th><th scope=col>actual</th><th scope=col>prediction</th></tr>\n",
       "\t<tr><th></th><th scope=col>&lt;dbl&gt;</th><th scope=col>&lt;dbl&gt;</th></tr>\n",
       "</thead>\n",
       "<tbody>\n",
       "\t<tr><th scope=row>7</th><td>0</td><td> 0.2310358039706</td></tr>\n",
       "\t<tr><th scope=row>10</th><td>0</td><td> 0.2052602363485</td></tr>\n",
       "\t<tr><th scope=row>12</th><td>0</td><td>-0.2093687707848</td></tr>\n",
       "\t<tr><th scope=row>13</th><td>0</td><td> 0.5515751639859</td></tr>\n",
       "\t<tr><th scope=row>14</th><td>0</td><td>-0.2059062730122</td></tr>\n",
       "\t<tr><th scope=row>19</th><td>0</td><td> 0.0001065723788</td></tr>\n",
       "\t<tr><th scope=row>20</th><td>0</td><td>-0.0086772829205</td></tr>\n",
       "\t<tr><th scope=row>22</th><td>0</td><td>-0.0086154753963</td></tr>\n",
       "\t<tr><th scope=row>24</th><td>1</td><td>-0.6973135490767</td></tr>\n",
       "\t<tr><th scope=row>25</th><td>0</td><td>-0.9098661906797</td></tr>\n",
       "\t<tr><th scope=row>30</th><td>0</td><td> 0.3388321651363</td></tr>\n",
       "\t<tr><th scope=row>38</th><td>0</td><td> 0.6123186551974</td></tr>\n",
       "\t<tr><th scope=row>40</th><td>0</td><td>-0.0089174722085</td></tr>\n",
       "\t<tr><th scope=row>45</th><td>0</td><td>-0.1437589497107</td></tr>\n",
       "\t<tr><th scope=row>46</th><td>0</td><td>-1.9553444137961</td></tr>\n",
       "\t<tr><th scope=row>47</th><td>1</td><td> 0.4580345478100</td></tr>\n",
       "\t<tr><th scope=row>61</th><td>1</td><td> 0.2915988262875</td></tr>\n",
       "\t<tr><th scope=row>62</th><td>1</td><td> 0.4942167026886</td></tr>\n",
       "\t<tr><th scope=row>63</th><td>0</td><td>-0.2087079501697</td></tr>\n",
       "\t<tr><th scope=row>69</th><td>1</td><td> 1.5218709921747</td></tr>\n",
       "\t<tr><th scope=row>74</th><td>0</td><td> 1.1197246230902</td></tr>\n",
       "\t<tr><th scope=row>75</th><td>1</td><td> 0.3275687769724</td></tr>\n",
       "\t<tr><th scope=row>76</th><td>0</td><td> 0.2788830648774</td></tr>\n",
       "\t<tr><th scope=row>79</th><td>0</td><td> 0.0895539010184</td></tr>\n",
       "\t<tr><th scope=row>85</th><td>1</td><td>-1.1472094141125</td></tr>\n",
       "\t<tr><th scope=row>86</th><td>1</td><td> 1.2159802548637</td></tr>\n",
       "\t<tr><th scope=row>88</th><td>0</td><td> 1.2065500656716</td></tr>\n",
       "\t<tr><th scope=row>89</th><td>0</td><td> 0.0536048356077</td></tr>\n",
       "\t<tr><th scope=row>94</th><td>0</td><td>-0.9852032040661</td></tr>\n",
       "\t<tr><th scope=row>99</th><td>0</td><td> 0.6025266639014</td></tr>\n",
       "\t<tr><th scope=row>...</th><td>...</td><td>...</td></tr>\n",
       "\t<tr><th scope=row>173</th><td>0</td><td>-0.925998654250</td></tr>\n",
       "\t<tr><th scope=row>176</th><td>0</td><td> 0.746422576323</td></tr>\n",
       "\t<tr><th scope=row>178</th><td>0</td><td> 0.745112121829</td></tr>\n",
       "\t<tr><th scope=row>185</th><td>0</td><td>-0.094085805704</td></tr>\n",
       "\t<tr><th scope=row>186</th><td>0</td><td> 0.262740643957</td></tr>\n",
       "\t<tr><th scope=row>188</th><td>0</td><td>-0.091119788937</td></tr>\n",
       "\t<tr><th scope=row>190</th><td>0</td><td> 0.297081193082</td></tr>\n",
       "\t<tr><th scope=row>193</th><td>0</td><td>-0.117188161748</td></tr>\n",
       "\t<tr><th scope=row>194</th><td>1</td><td> 0.364754121586</td></tr>\n",
       "\t<tr><th scope=row>195</th><td>0</td><td> 0.345209692524</td></tr>\n",
       "\t<tr><th scope=row>200</th><td>0</td><td>-0.372141894691</td></tr>\n",
       "\t<tr><th scope=row>201</th><td>0</td><td>-0.446302059817</td></tr>\n",
       "\t<tr><th scope=row>206</th><td>0</td><td>-0.667813227962</td></tr>\n",
       "\t<tr><th scope=row>207</th><td>1</td><td> 0.364754121584</td></tr>\n",
       "\t<tr><th scope=row>216</th><td>0</td><td>-0.001262391045</td></tr>\n",
       "\t<tr><th scope=row>218</th><td>0</td><td> 0.893653031111</td></tr>\n",
       "\t<tr><th scope=row>219</th><td>0</td><td>-0.044802108819</td></tr>\n",
       "\t<tr><th scope=row>220</th><td>0</td><td> 0.297917359186</td></tr>\n",
       "\t<tr><th scope=row>221</th><td>0</td><td> 0.032728268777</td></tr>\n",
       "\t<tr><th scope=row>226</th><td>0</td><td>-0.615350405843</td></tr>\n",
       "\t<tr><th scope=row>243</th><td>1</td><td> 0.519500475330</td></tr>\n",
       "\t<tr><th scope=row>244</th><td>0</td><td>-0.641319530725</td></tr>\n",
       "\t<tr><th scope=row>245</th><td>1</td><td>-1.145786281435</td></tr>\n",
       "\t<tr><th scope=row>247</th><td>0</td><td>-0.295957701073</td></tr>\n",
       "\t<tr><th scope=row>249</th><td>0</td><td> 0.087028379263</td></tr>\n",
       "\t<tr><th scope=row>253</th><td>0</td><td> 0.074791578731</td></tr>\n",
       "\t<tr><th scope=row>255</th><td>0</td><td> 1.465678437544</td></tr>\n",
       "\t<tr><th scope=row>259</th><td>1</td><td> 0.733238496681</td></tr>\n",
       "\t<tr><th scope=row>261</th><td>1</td><td> 0.311791824904</td></tr>\n",
       "\t<tr><th scope=row>263</th><td>0</td><td> 1.131446194885</td></tr>\n",
       "</tbody>\n",
       "</table>\n"
      ],
      "text/latex": [
       "A data.frame: 79 × 2\n",
       "\\begin{tabular}{r|ll}\n",
       "  & actual & prediction\\\\\n",
       "  & <dbl> & <dbl>\\\\\n",
       "\\hline\n",
       "\t7 & 0 &  0.2310358039706\\\\\n",
       "\t10 & 0 &  0.2052602363485\\\\\n",
       "\t12 & 0 & -0.2093687707848\\\\\n",
       "\t13 & 0 &  0.5515751639859\\\\\n",
       "\t14 & 0 & -0.2059062730122\\\\\n",
       "\t19 & 0 &  0.0001065723788\\\\\n",
       "\t20 & 0 & -0.0086772829205\\\\\n",
       "\t22 & 0 & -0.0086154753963\\\\\n",
       "\t24 & 1 & -0.6973135490767\\\\\n",
       "\t25 & 0 & -0.9098661906797\\\\\n",
       "\t30 & 0 &  0.3388321651363\\\\\n",
       "\t38 & 0 &  0.6123186551974\\\\\n",
       "\t40 & 0 & -0.0089174722085\\\\\n",
       "\t45 & 0 & -0.1437589497107\\\\\n",
       "\t46 & 0 & -1.9553444137961\\\\\n",
       "\t47 & 1 &  0.4580345478100\\\\\n",
       "\t61 & 1 &  0.2915988262875\\\\\n",
       "\t62 & 1 &  0.4942167026886\\\\\n",
       "\t63 & 0 & -0.2087079501697\\\\\n",
       "\t69 & 1 &  1.5218709921747\\\\\n",
       "\t74 & 0 &  1.1197246230902\\\\\n",
       "\t75 & 1 &  0.3275687769724\\\\\n",
       "\t76 & 0 &  0.2788830648774\\\\\n",
       "\t79 & 0 &  0.0895539010184\\\\\n",
       "\t85 & 1 & -1.1472094141125\\\\\n",
       "\t86 & 1 &  1.2159802548637\\\\\n",
       "\t88 & 0 &  1.2065500656716\\\\\n",
       "\t89 & 0 &  0.0536048356077\\\\\n",
       "\t94 & 0 & -0.9852032040661\\\\\n",
       "\t99 & 0 &  0.6025266639014\\\\\n",
       "\t... & ... & ...\\\\\n",
       "\t173 & 0 & -0.925998654250\\\\\n",
       "\t176 & 0 &  0.746422576323\\\\\n",
       "\t178 & 0 &  0.745112121829\\\\\n",
       "\t185 & 0 & -0.094085805704\\\\\n",
       "\t186 & 0 &  0.262740643957\\\\\n",
       "\t188 & 0 & -0.091119788937\\\\\n",
       "\t190 & 0 &  0.297081193082\\\\\n",
       "\t193 & 0 & -0.117188161748\\\\\n",
       "\t194 & 1 &  0.364754121586\\\\\n",
       "\t195 & 0 &  0.345209692524\\\\\n",
       "\t200 & 0 & -0.372141894691\\\\\n",
       "\t201 & 0 & -0.446302059817\\\\\n",
       "\t206 & 0 & -0.667813227962\\\\\n",
       "\t207 & 1 &  0.364754121584\\\\\n",
       "\t216 & 0 & -0.001262391045\\\\\n",
       "\t218 & 0 &  0.893653031111\\\\\n",
       "\t219 & 0 & -0.044802108819\\\\\n",
       "\t220 & 0 &  0.297917359186\\\\\n",
       "\t221 & 0 &  0.032728268777\\\\\n",
       "\t226 & 0 & -0.615350405843\\\\\n",
       "\t243 & 1 &  0.519500475330\\\\\n",
       "\t244 & 0 & -0.641319530725\\\\\n",
       "\t245 & 1 & -1.145786281435\\\\\n",
       "\t247 & 0 & -0.295957701073\\\\\n",
       "\t249 & 0 &  0.087028379263\\\\\n",
       "\t253 & 0 &  0.074791578731\\\\\n",
       "\t255 & 0 &  1.465678437544\\\\\n",
       "\t259 & 1 &  0.733238496681\\\\\n",
       "\t261 & 1 &  0.311791824904\\\\\n",
       "\t263 & 0 &  1.131446194885\\\\\n",
       "\\end{tabular}\n"
      ],
      "text/markdown": [
       "\n",
       "A data.frame: 79 × 2\n",
       "\n",
       "| <!--/--> | actual &lt;dbl&gt; | prediction &lt;dbl&gt; |\n",
       "|---|---|---|\n",
       "| 7 | 0 |  0.2310358039706 |\n",
       "| 10 | 0 |  0.2052602363485 |\n",
       "| 12 | 0 | -0.2093687707848 |\n",
       "| 13 | 0 |  0.5515751639859 |\n",
       "| 14 | 0 | -0.2059062730122 |\n",
       "| 19 | 0 |  0.0001065723788 |\n",
       "| 20 | 0 | -0.0086772829205 |\n",
       "| 22 | 0 | -0.0086154753963 |\n",
       "| 24 | 1 | -0.6973135490767 |\n",
       "| 25 | 0 | -0.9098661906797 |\n",
       "| 30 | 0 |  0.3388321651363 |\n",
       "| 38 | 0 |  0.6123186551974 |\n",
       "| 40 | 0 | -0.0089174722085 |\n",
       "| 45 | 0 | -0.1437589497107 |\n",
       "| 46 | 0 | -1.9553444137961 |\n",
       "| 47 | 1 |  0.4580345478100 |\n",
       "| 61 | 1 |  0.2915988262875 |\n",
       "| 62 | 1 |  0.4942167026886 |\n",
       "| 63 | 0 | -0.2087079501697 |\n",
       "| 69 | 1 |  1.5218709921747 |\n",
       "| 74 | 0 |  1.1197246230902 |\n",
       "| 75 | 1 |  0.3275687769724 |\n",
       "| 76 | 0 |  0.2788830648774 |\n",
       "| 79 | 0 |  0.0895539010184 |\n",
       "| 85 | 1 | -1.1472094141125 |\n",
       "| 86 | 1 |  1.2159802548637 |\n",
       "| 88 | 0 |  1.2065500656716 |\n",
       "| 89 | 0 |  0.0536048356077 |\n",
       "| 94 | 0 | -0.9852032040661 |\n",
       "| 99 | 0 |  0.6025266639014 |\n",
       "| ... | ... | ... |\n",
       "| 173 | 0 | -0.925998654250 |\n",
       "| 176 | 0 |  0.746422576323 |\n",
       "| 178 | 0 |  0.745112121829 |\n",
       "| 185 | 0 | -0.094085805704 |\n",
       "| 186 | 0 |  0.262740643957 |\n",
       "| 188 | 0 | -0.091119788937 |\n",
       "| 190 | 0 |  0.297081193082 |\n",
       "| 193 | 0 | -0.117188161748 |\n",
       "| 194 | 1 |  0.364754121586 |\n",
       "| 195 | 0 |  0.345209692524 |\n",
       "| 200 | 0 | -0.372141894691 |\n",
       "| 201 | 0 | -0.446302059817 |\n",
       "| 206 | 0 | -0.667813227962 |\n",
       "| 207 | 1 |  0.364754121584 |\n",
       "| 216 | 0 | -0.001262391045 |\n",
       "| 218 | 0 |  0.893653031111 |\n",
       "| 219 | 0 | -0.044802108819 |\n",
       "| 220 | 0 |  0.297917359186 |\n",
       "| 221 | 0 |  0.032728268777 |\n",
       "| 226 | 0 | -0.615350405843 |\n",
       "| 243 | 1 |  0.519500475330 |\n",
       "| 244 | 0 | -0.641319530725 |\n",
       "| 245 | 1 | -1.145786281435 |\n",
       "| 247 | 0 | -0.295957701073 |\n",
       "| 249 | 0 |  0.087028379263 |\n",
       "| 253 | 0 |  0.074791578731 |\n",
       "| 255 | 0 |  1.465678437544 |\n",
       "| 259 | 1 |  0.733238496681 |\n",
       "| 261 | 1 |  0.311791824904 |\n",
       "| 263 | 0 |  1.131446194885 |\n",
       "\n"
      ],
      "text/plain": [
       "    actual prediction      \n",
       "7   0       0.2310358039706\n",
       "10  0       0.2052602363485\n",
       "12  0      -0.2093687707848\n",
       "13  0       0.5515751639859\n",
       "14  0      -0.2059062730122\n",
       "19  0       0.0001065723788\n",
       "20  0      -0.0086772829205\n",
       "22  0      -0.0086154753963\n",
       "24  1      -0.6973135490767\n",
       "25  0      -0.9098661906797\n",
       "30  0       0.3388321651363\n",
       "38  0       0.6123186551974\n",
       "40  0      -0.0089174722085\n",
       "45  0      -0.1437589497107\n",
       "46  0      -1.9553444137961\n",
       "47  1       0.4580345478100\n",
       "61  1       0.2915988262875\n",
       "62  1       0.4942167026886\n",
       "63  0      -0.2087079501697\n",
       "69  1       1.5218709921747\n",
       "74  0       1.1197246230902\n",
       "75  1       0.3275687769724\n",
       "76  0       0.2788830648774\n",
       "79  0       0.0895539010184\n",
       "85  1      -1.1472094141125\n",
       "86  1       1.2159802548637\n",
       "88  0       1.2065500656716\n",
       "89  0       0.0536048356077\n",
       "94  0      -0.9852032040661\n",
       "99  0       0.6025266639014\n",
       "... ...    ...             \n",
       "173 0      -0.925998654250 \n",
       "176 0       0.746422576323 \n",
       "178 0       0.745112121829 \n",
       "185 0      -0.094085805704 \n",
       "186 0       0.262740643957 \n",
       "188 0      -0.091119788937 \n",
       "190 0       0.297081193082 \n",
       "193 0      -0.117188161748 \n",
       "194 1       0.364754121586 \n",
       "195 0       0.345209692524 \n",
       "200 0      -0.372141894691 \n",
       "201 0      -0.446302059817 \n",
       "206 0      -0.667813227962 \n",
       "207 1       0.364754121584 \n",
       "216 0      -0.001262391045 \n",
       "218 0       0.893653031111 \n",
       "219 0      -0.044802108819 \n",
       "220 0       0.297917359186 \n",
       "221 0       0.032728268777 \n",
       "226 0      -0.615350405843 \n",
       "243 1       0.519500475330 \n",
       "244 0      -0.641319530725 \n",
       "245 1      -1.145786281435 \n",
       "247 0      -0.295957701073 \n",
       "249 0       0.087028379263 \n",
       "253 0       0.074791578731 \n",
       "255 0       1.465678437544 \n",
       "259 1       0.733238496681 \n",
       "261 1       0.311791824904 \n",
       "263 0       1.131446194885 "
      ]
     },
     "metadata": {},
     "output_type": "display_data"
    },
    {
     "data": {
      "text/html": [
       "<table>\n",
       "<caption>A matrix: 79 × 1 of type dbl</caption>\n",
       "<tbody>\n",
       "\t<tr><th scope=row>7</th><td>0</td></tr>\n",
       "\t<tr><th scope=row>10</th><td>0</td></tr>\n",
       "\t<tr><th scope=row>12</th><td>0</td></tr>\n",
       "\t<tr><th scope=row>13</th><td>1</td></tr>\n",
       "\t<tr><th scope=row>14</th><td>0</td></tr>\n",
       "\t<tr><th scope=row>19</th><td>0</td></tr>\n",
       "\t<tr><th scope=row>20</th><td>0</td></tr>\n",
       "\t<tr><th scope=row>22</th><td>0</td></tr>\n",
       "\t<tr><th scope=row>24</th><td>0</td></tr>\n",
       "\t<tr><th scope=row>25</th><td>0</td></tr>\n",
       "\t<tr><th scope=row>30</th><td>0</td></tr>\n",
       "\t<tr><th scope=row>38</th><td>1</td></tr>\n",
       "\t<tr><th scope=row>40</th><td>0</td></tr>\n",
       "\t<tr><th scope=row>45</th><td>0</td></tr>\n",
       "\t<tr><th scope=row>46</th><td>0</td></tr>\n",
       "\t<tr><th scope=row>47</th><td>0</td></tr>\n",
       "\t<tr><th scope=row>61</th><td>0</td></tr>\n",
       "\t<tr><th scope=row>62</th><td>0</td></tr>\n",
       "\t<tr><th scope=row>63</th><td>0</td></tr>\n",
       "\t<tr><th scope=row>69</th><td>1</td></tr>\n",
       "\t<tr><th scope=row>74</th><td>1</td></tr>\n",
       "\t<tr><th scope=row>75</th><td>0</td></tr>\n",
       "\t<tr><th scope=row>76</th><td>0</td></tr>\n",
       "\t<tr><th scope=row>79</th><td>0</td></tr>\n",
       "\t<tr><th scope=row>85</th><td>0</td></tr>\n",
       "\t<tr><th scope=row>86</th><td>1</td></tr>\n",
       "\t<tr><th scope=row>88</th><td>1</td></tr>\n",
       "\t<tr><th scope=row>89</th><td>0</td></tr>\n",
       "\t<tr><th scope=row>94</th><td>0</td></tr>\n",
       "\t<tr><th scope=row>99</th><td>1</td></tr>\n",
       "\t<tr><th scope=row>...</th><td>...</td></tr>\n",
       "\t<tr><th scope=row>173</th><td>0</td></tr>\n",
       "\t<tr><th scope=row>176</th><td>1</td></tr>\n",
       "\t<tr><th scope=row>178</th><td>1</td></tr>\n",
       "\t<tr><th scope=row>185</th><td>0</td></tr>\n",
       "\t<tr><th scope=row>186</th><td>0</td></tr>\n",
       "\t<tr><th scope=row>188</th><td>0</td></tr>\n",
       "\t<tr><th scope=row>190</th><td>0</td></tr>\n",
       "\t<tr><th scope=row>193</th><td>0</td></tr>\n",
       "\t<tr><th scope=row>194</th><td>0</td></tr>\n",
       "\t<tr><th scope=row>195</th><td>0</td></tr>\n",
       "\t<tr><th scope=row>200</th><td>0</td></tr>\n",
       "\t<tr><th scope=row>201</th><td>0</td></tr>\n",
       "\t<tr><th scope=row>206</th><td>0</td></tr>\n",
       "\t<tr><th scope=row>207</th><td>0</td></tr>\n",
       "\t<tr><th scope=row>216</th><td>0</td></tr>\n",
       "\t<tr><th scope=row>218</th><td>1</td></tr>\n",
       "\t<tr><th scope=row>219</th><td>0</td></tr>\n",
       "\t<tr><th scope=row>220</th><td>0</td></tr>\n",
       "\t<tr><th scope=row>221</th><td>0</td></tr>\n",
       "\t<tr><th scope=row>226</th><td>0</td></tr>\n",
       "\t<tr><th scope=row>243</th><td>1</td></tr>\n",
       "\t<tr><th scope=row>244</th><td>0</td></tr>\n",
       "\t<tr><th scope=row>245</th><td>0</td></tr>\n",
       "\t<tr><th scope=row>247</th><td>0</td></tr>\n",
       "\t<tr><th scope=row>249</th><td>0</td></tr>\n",
       "\t<tr><th scope=row>253</th><td>0</td></tr>\n",
       "\t<tr><th scope=row>255</th><td>1</td></tr>\n",
       "\t<tr><th scope=row>259</th><td>1</td></tr>\n",
       "\t<tr><th scope=row>261</th><td>0</td></tr>\n",
       "\t<tr><th scope=row>263</th><td>1</td></tr>\n",
       "</tbody>\n",
       "</table>\n"
      ],
      "text/latex": [
       "A matrix: 79 × 1 of type dbl\n",
       "\\begin{tabular}{r|l}\n",
       "\t7 & 0\\\\\n",
       "\t10 & 0\\\\\n",
       "\t12 & 0\\\\\n",
       "\t13 & 1\\\\\n",
       "\t14 & 0\\\\\n",
       "\t19 & 0\\\\\n",
       "\t20 & 0\\\\\n",
       "\t22 & 0\\\\\n",
       "\t24 & 0\\\\\n",
       "\t25 & 0\\\\\n",
       "\t30 & 0\\\\\n",
       "\t38 & 1\\\\\n",
       "\t40 & 0\\\\\n",
       "\t45 & 0\\\\\n",
       "\t46 & 0\\\\\n",
       "\t47 & 0\\\\\n",
       "\t61 & 0\\\\\n",
       "\t62 & 0\\\\\n",
       "\t63 & 0\\\\\n",
       "\t69 & 1\\\\\n",
       "\t74 & 1\\\\\n",
       "\t75 & 0\\\\\n",
       "\t76 & 0\\\\\n",
       "\t79 & 0\\\\\n",
       "\t85 & 0\\\\\n",
       "\t86 & 1\\\\\n",
       "\t88 & 1\\\\\n",
       "\t89 & 0\\\\\n",
       "\t94 & 0\\\\\n",
       "\t99 & 1\\\\\n",
       "\t... & ...\\\\\n",
       "\t173 & 0\\\\\n",
       "\t176 & 1\\\\\n",
       "\t178 & 1\\\\\n",
       "\t185 & 0\\\\\n",
       "\t186 & 0\\\\\n",
       "\t188 & 0\\\\\n",
       "\t190 & 0\\\\\n",
       "\t193 & 0\\\\\n",
       "\t194 & 0\\\\\n",
       "\t195 & 0\\\\\n",
       "\t200 & 0\\\\\n",
       "\t201 & 0\\\\\n",
       "\t206 & 0\\\\\n",
       "\t207 & 0\\\\\n",
       "\t216 & 0\\\\\n",
       "\t218 & 1\\\\\n",
       "\t219 & 0\\\\\n",
       "\t220 & 0\\\\\n",
       "\t221 & 0\\\\\n",
       "\t226 & 0\\\\\n",
       "\t243 & 1\\\\\n",
       "\t244 & 0\\\\\n",
       "\t245 & 0\\\\\n",
       "\t247 & 0\\\\\n",
       "\t249 & 0\\\\\n",
       "\t253 & 0\\\\\n",
       "\t255 & 1\\\\\n",
       "\t259 & 1\\\\\n",
       "\t261 & 0\\\\\n",
       "\t263 & 1\\\\\n",
       "\\end{tabular}\n"
      ],
      "text/markdown": [
       "\n",
       "A matrix: 79 × 1 of type dbl\n",
       "\n",
       "| 7 | 0 |\n",
       "| 10 | 0 |\n",
       "| 12 | 0 |\n",
       "| 13 | 1 |\n",
       "| 14 | 0 |\n",
       "| 19 | 0 |\n",
       "| 20 | 0 |\n",
       "| 22 | 0 |\n",
       "| 24 | 0 |\n",
       "| 25 | 0 |\n",
       "| 30 | 0 |\n",
       "| 38 | 1 |\n",
       "| 40 | 0 |\n",
       "| 45 | 0 |\n",
       "| 46 | 0 |\n",
       "| 47 | 0 |\n",
       "| 61 | 0 |\n",
       "| 62 | 0 |\n",
       "| 63 | 0 |\n",
       "| 69 | 1 |\n",
       "| 74 | 1 |\n",
       "| 75 | 0 |\n",
       "| 76 | 0 |\n",
       "| 79 | 0 |\n",
       "| 85 | 0 |\n",
       "| 86 | 1 |\n",
       "| 88 | 1 |\n",
       "| 89 | 0 |\n",
       "| 94 | 0 |\n",
       "| 99 | 1 |\n",
       "| ... | ... |\n",
       "| 173 | 0 |\n",
       "| 176 | 1 |\n",
       "| 178 | 1 |\n",
       "| 185 | 0 |\n",
       "| 186 | 0 |\n",
       "| 188 | 0 |\n",
       "| 190 | 0 |\n",
       "| 193 | 0 |\n",
       "| 194 | 0 |\n",
       "| 195 | 0 |\n",
       "| 200 | 0 |\n",
       "| 201 | 0 |\n",
       "| 206 | 0 |\n",
       "| 207 | 0 |\n",
       "| 216 | 0 |\n",
       "| 218 | 1 |\n",
       "| 219 | 0 |\n",
       "| 220 | 0 |\n",
       "| 221 | 0 |\n",
       "| 226 | 0 |\n",
       "| 243 | 1 |\n",
       "| 244 | 0 |\n",
       "| 245 | 0 |\n",
       "| 247 | 0 |\n",
       "| 249 | 0 |\n",
       "| 253 | 0 |\n",
       "| 255 | 1 |\n",
       "| 259 | 1 |\n",
       "| 261 | 0 |\n",
       "| 263 | 1 |\n",
       "\n"
      ],
      "text/plain": [
       "    [,1]\n",
       "7   0   \n",
       "10  0   \n",
       "12  0   \n",
       "13  1   \n",
       "14  0   \n",
       "19  0   \n",
       "20  0   \n",
       "22  0   \n",
       "24  0   \n",
       "25  0   \n",
       "30  0   \n",
       "38  1   \n",
       "40  0   \n",
       "45  0   \n",
       "46  0   \n",
       "47  0   \n",
       "61  0   \n",
       "62  0   \n",
       "63  0   \n",
       "69  1   \n",
       "74  1   \n",
       "75  0   \n",
       "76  0   \n",
       "79  0   \n",
       "85  0   \n",
       "86  1   \n",
       "88  1   \n",
       "89  0   \n",
       "94  0   \n",
       "99  1   \n",
       "... ... \n",
       "173 0   \n",
       "176 1   \n",
       "178 1   \n",
       "185 0   \n",
       "186 0   \n",
       "188 0   \n",
       "190 0   \n",
       "193 0   \n",
       "194 0   \n",
       "195 0   \n",
       "200 0   \n",
       "201 0   \n",
       "206 0   \n",
       "207 0   \n",
       "216 0   \n",
       "218 1   \n",
       "219 0   \n",
       "220 0   \n",
       "221 0   \n",
       "226 0   \n",
       "243 1   \n",
       "244 0   \n",
       "245 0   \n",
       "247 0   \n",
       "249 0   \n",
       "253 0   \n",
       "255 1   \n",
       "259 1   \n",
       "261 0   \n",
       "263 1   "
      ]
     },
     "metadata": {},
     "output_type": "display_data"
    }
   ],
   "source": [
    "#realizar predicciones\n",
    "predicciones.red <- neuralnet::compute(modelo.red,prueba[,c(\"Shots\",\"Makes\",\"Personal_Points\",\"Total_Points\",\"Assists\",\"Concessions\",\"Blocks\")])\n",
    "#predicciones.red$net.result\n",
    "\n",
    "results <- data.frame(actual = prueba$Team_Value, prediction = predicciones.red$net.result)\n",
    "results\n",
    "\n",
    "predicciones.redClass=ifelse(predicciones.red$net.result>=0.5,1,0)\n",
    "predicciones.redClass\n",
    "#table(predicciones.redClass)\n",
    "#table(prueba[,c(\"Team_Value\")])"
   ]
  },
  {
   "cell_type": "markdown",
   "metadata": {},
   "source": [
    "Posteriormente, se crea el árbol de decisión:"
   ]
  },
  {
   "cell_type": "code",
   "execution_count": 10,
   "metadata": {},
   "outputs": [],
   "source": [
    "#crear modelo\n",
    "set.seed(14234)\n",
    "modelo.arbol <- rpart(Team_Value ~ Shots + Makes + Personal_Points + Total_Points + Assists + Concessions+Blocks,data = entrenamiento)"
   ]
  },
  {
   "cell_type": "code",
   "execution_count": 20,
   "metadata": {},
   "outputs": [],
   "source": [
    "#realizar predicciones\n",
    "predicciones.arbol <- predict(modelo.arbol, newdata = prueba)"
   ]
  },
  {
   "cell_type": "markdown",
   "metadata": {},
   "source": [
    "Finalmente, el bosque aleatorio:"
   ]
  },
  {
   "cell_type": "code",
   "execution_count": 12,
   "metadata": {},
   "outputs": [],
   "source": [
    "#crear modelo\n",
    "set.seed(14234)\n",
    "modelo.bosque <- randomForest(Team_Value ~ Shots + Makes + Personal_Points + Total_Points + Assists + Concessions+Blocks,data = entrenamiento)"
   ]
  },
  {
   "cell_type": "code",
   "execution_count": 14,
   "metadata": {},
   "outputs": [],
   "source": [
    "#realizar predicciones\n",
    "predicciones.bosque <- predict(modelo.bosque, newdata = prueba)"
   ]
  },
  {
   "cell_type": "markdown",
   "metadata": {},
   "source": [
    "## Evaluación"
   ]
  },
  {
   "cell_type": "markdown",
   "metadata": {},
   "source": [
    "Averiguamos el desempeño de la red neuronal:"
   ]
  },
  {
   "cell_type": "code",
   "execution_count": 15,
   "metadata": {},
   "outputs": [
    {
     "data": {
      "text/html": [
       "<table>\n",
       "<caption>A matrix: 79 × 1 of type dbl</caption>\n",
       "<tbody>\n",
       "\t<tr><th scope=row>7</th><td>0</td></tr>\n",
       "\t<tr><th scope=row>10</th><td>0</td></tr>\n",
       "\t<tr><th scope=row>12</th><td>0</td></tr>\n",
       "\t<tr><th scope=row>13</th><td>1</td></tr>\n",
       "\t<tr><th scope=row>14</th><td>0</td></tr>\n",
       "\t<tr><th scope=row>19</th><td>0</td></tr>\n",
       "\t<tr><th scope=row>20</th><td>0</td></tr>\n",
       "\t<tr><th scope=row>22</th><td>0</td></tr>\n",
       "\t<tr><th scope=row>24</th><td>0</td></tr>\n",
       "\t<tr><th scope=row>25</th><td>0</td></tr>\n",
       "\t<tr><th scope=row>30</th><td>0</td></tr>\n",
       "\t<tr><th scope=row>38</th><td>1</td></tr>\n",
       "\t<tr><th scope=row>40</th><td>0</td></tr>\n",
       "\t<tr><th scope=row>45</th><td>0</td></tr>\n",
       "\t<tr><th scope=row>46</th><td>0</td></tr>\n",
       "\t<tr><th scope=row>47</th><td>0</td></tr>\n",
       "\t<tr><th scope=row>61</th><td>0</td></tr>\n",
       "\t<tr><th scope=row>62</th><td>0</td></tr>\n",
       "\t<tr><th scope=row>63</th><td>0</td></tr>\n",
       "\t<tr><th scope=row>69</th><td>1</td></tr>\n",
       "\t<tr><th scope=row>74</th><td>1</td></tr>\n",
       "\t<tr><th scope=row>75</th><td>0</td></tr>\n",
       "\t<tr><th scope=row>76</th><td>0</td></tr>\n",
       "\t<tr><th scope=row>79</th><td>0</td></tr>\n",
       "\t<tr><th scope=row>85</th><td>0</td></tr>\n",
       "\t<tr><th scope=row>86</th><td>1</td></tr>\n",
       "\t<tr><th scope=row>88</th><td>1</td></tr>\n",
       "\t<tr><th scope=row>89</th><td>0</td></tr>\n",
       "\t<tr><th scope=row>94</th><td>0</td></tr>\n",
       "\t<tr><th scope=row>99</th><td>1</td></tr>\n",
       "\t<tr><th scope=row>...</th><td>...</td></tr>\n",
       "\t<tr><th scope=row>173</th><td>0</td></tr>\n",
       "\t<tr><th scope=row>176</th><td>1</td></tr>\n",
       "\t<tr><th scope=row>178</th><td>1</td></tr>\n",
       "\t<tr><th scope=row>185</th><td>0</td></tr>\n",
       "\t<tr><th scope=row>186</th><td>0</td></tr>\n",
       "\t<tr><th scope=row>188</th><td>0</td></tr>\n",
       "\t<tr><th scope=row>190</th><td>0</td></tr>\n",
       "\t<tr><th scope=row>193</th><td>0</td></tr>\n",
       "\t<tr><th scope=row>194</th><td>0</td></tr>\n",
       "\t<tr><th scope=row>195</th><td>0</td></tr>\n",
       "\t<tr><th scope=row>200</th><td>0</td></tr>\n",
       "\t<tr><th scope=row>201</th><td>0</td></tr>\n",
       "\t<tr><th scope=row>206</th><td>0</td></tr>\n",
       "\t<tr><th scope=row>207</th><td>0</td></tr>\n",
       "\t<tr><th scope=row>216</th><td>0</td></tr>\n",
       "\t<tr><th scope=row>218</th><td>1</td></tr>\n",
       "\t<tr><th scope=row>219</th><td>0</td></tr>\n",
       "\t<tr><th scope=row>220</th><td>0</td></tr>\n",
       "\t<tr><th scope=row>221</th><td>0</td></tr>\n",
       "\t<tr><th scope=row>226</th><td>0</td></tr>\n",
       "\t<tr><th scope=row>243</th><td>1</td></tr>\n",
       "\t<tr><th scope=row>244</th><td>0</td></tr>\n",
       "\t<tr><th scope=row>245</th><td>0</td></tr>\n",
       "\t<tr><th scope=row>247</th><td>0</td></tr>\n",
       "\t<tr><th scope=row>249</th><td>0</td></tr>\n",
       "\t<tr><th scope=row>253</th><td>0</td></tr>\n",
       "\t<tr><th scope=row>255</th><td>1</td></tr>\n",
       "\t<tr><th scope=row>259</th><td>1</td></tr>\n",
       "\t<tr><th scope=row>261</th><td>0</td></tr>\n",
       "\t<tr><th scope=row>263</th><td>1</td></tr>\n",
       "</tbody>\n",
       "</table>\n"
      ],
      "text/latex": [
       "A matrix: 79 × 1 of type dbl\n",
       "\\begin{tabular}{r|l}\n",
       "\t7 & 0\\\\\n",
       "\t10 & 0\\\\\n",
       "\t12 & 0\\\\\n",
       "\t13 & 1\\\\\n",
       "\t14 & 0\\\\\n",
       "\t19 & 0\\\\\n",
       "\t20 & 0\\\\\n",
       "\t22 & 0\\\\\n",
       "\t24 & 0\\\\\n",
       "\t25 & 0\\\\\n",
       "\t30 & 0\\\\\n",
       "\t38 & 1\\\\\n",
       "\t40 & 0\\\\\n",
       "\t45 & 0\\\\\n",
       "\t46 & 0\\\\\n",
       "\t47 & 0\\\\\n",
       "\t61 & 0\\\\\n",
       "\t62 & 0\\\\\n",
       "\t63 & 0\\\\\n",
       "\t69 & 1\\\\\n",
       "\t74 & 1\\\\\n",
       "\t75 & 0\\\\\n",
       "\t76 & 0\\\\\n",
       "\t79 & 0\\\\\n",
       "\t85 & 0\\\\\n",
       "\t86 & 1\\\\\n",
       "\t88 & 1\\\\\n",
       "\t89 & 0\\\\\n",
       "\t94 & 0\\\\\n",
       "\t99 & 1\\\\\n",
       "\t... & ...\\\\\n",
       "\t173 & 0\\\\\n",
       "\t176 & 1\\\\\n",
       "\t178 & 1\\\\\n",
       "\t185 & 0\\\\\n",
       "\t186 & 0\\\\\n",
       "\t188 & 0\\\\\n",
       "\t190 & 0\\\\\n",
       "\t193 & 0\\\\\n",
       "\t194 & 0\\\\\n",
       "\t195 & 0\\\\\n",
       "\t200 & 0\\\\\n",
       "\t201 & 0\\\\\n",
       "\t206 & 0\\\\\n",
       "\t207 & 0\\\\\n",
       "\t216 & 0\\\\\n",
       "\t218 & 1\\\\\n",
       "\t219 & 0\\\\\n",
       "\t220 & 0\\\\\n",
       "\t221 & 0\\\\\n",
       "\t226 & 0\\\\\n",
       "\t243 & 1\\\\\n",
       "\t244 & 0\\\\\n",
       "\t245 & 0\\\\\n",
       "\t247 & 0\\\\\n",
       "\t249 & 0\\\\\n",
       "\t253 & 0\\\\\n",
       "\t255 & 1\\\\\n",
       "\t259 & 1\\\\\n",
       "\t261 & 0\\\\\n",
       "\t263 & 1\\\\\n",
       "\\end{tabular}\n"
      ],
      "text/markdown": [
       "\n",
       "A matrix: 79 × 1 of type dbl\n",
       "\n",
       "| 7 | 0 |\n",
       "| 10 | 0 |\n",
       "| 12 | 0 |\n",
       "| 13 | 1 |\n",
       "| 14 | 0 |\n",
       "| 19 | 0 |\n",
       "| 20 | 0 |\n",
       "| 22 | 0 |\n",
       "| 24 | 0 |\n",
       "| 25 | 0 |\n",
       "| 30 | 0 |\n",
       "| 38 | 1 |\n",
       "| 40 | 0 |\n",
       "| 45 | 0 |\n",
       "| 46 | 0 |\n",
       "| 47 | 0 |\n",
       "| 61 | 0 |\n",
       "| 62 | 0 |\n",
       "| 63 | 0 |\n",
       "| 69 | 1 |\n",
       "| 74 | 1 |\n",
       "| 75 | 0 |\n",
       "| 76 | 0 |\n",
       "| 79 | 0 |\n",
       "| 85 | 0 |\n",
       "| 86 | 1 |\n",
       "| 88 | 1 |\n",
       "| 89 | 0 |\n",
       "| 94 | 0 |\n",
       "| 99 | 1 |\n",
       "| ... | ... |\n",
       "| 173 | 0 |\n",
       "| 176 | 1 |\n",
       "| 178 | 1 |\n",
       "| 185 | 0 |\n",
       "| 186 | 0 |\n",
       "| 188 | 0 |\n",
       "| 190 | 0 |\n",
       "| 193 | 0 |\n",
       "| 194 | 0 |\n",
       "| 195 | 0 |\n",
       "| 200 | 0 |\n",
       "| 201 | 0 |\n",
       "| 206 | 0 |\n",
       "| 207 | 0 |\n",
       "| 216 | 0 |\n",
       "| 218 | 1 |\n",
       "| 219 | 0 |\n",
       "| 220 | 0 |\n",
       "| 221 | 0 |\n",
       "| 226 | 0 |\n",
       "| 243 | 1 |\n",
       "| 244 | 0 |\n",
       "| 245 | 0 |\n",
       "| 247 | 0 |\n",
       "| 249 | 0 |\n",
       "| 253 | 0 |\n",
       "| 255 | 1 |\n",
       "| 259 | 1 |\n",
       "| 261 | 0 |\n",
       "| 263 | 1 |\n",
       "\n"
      ],
      "text/plain": [
       "    [,1]\n",
       "7   0   \n",
       "10  0   \n",
       "12  0   \n",
       "13  1   \n",
       "14  0   \n",
       "19  0   \n",
       "20  0   \n",
       "22  0   \n",
       "24  0   \n",
       "25  0   \n",
       "30  0   \n",
       "38  1   \n",
       "40  0   \n",
       "45  0   \n",
       "46  0   \n",
       "47  0   \n",
       "61  0   \n",
       "62  0   \n",
       "63  0   \n",
       "69  1   \n",
       "74  1   \n",
       "75  0   \n",
       "76  0   \n",
       "79  0   \n",
       "85  0   \n",
       "86  1   \n",
       "88  1   \n",
       "89  0   \n",
       "94  0   \n",
       "99  1   \n",
       "... ... \n",
       "173 0   \n",
       "176 1   \n",
       "178 1   \n",
       "185 0   \n",
       "186 0   \n",
       "188 0   \n",
       "190 0   \n",
       "193 0   \n",
       "194 0   \n",
       "195 0   \n",
       "200 0   \n",
       "201 0   \n",
       "206 0   \n",
       "207 0   \n",
       "216 0   \n",
       "218 1   \n",
       "219 0   \n",
       "220 0   \n",
       "221 0   \n",
       "226 0   \n",
       "243 1   \n",
       "244 0   \n",
       "245 0   \n",
       "247 0   \n",
       "249 0   \n",
       "253 0   \n",
       "255 1   \n",
       "259 1   \n",
       "261 0   \n",
       "263 1   "
      ]
     },
     "metadata": {},
     "output_type": "display_data"
    },
    {
     "data": {
      "text/plain": [
       "   \n",
       "    -1.95534441379611 -1.14720941411251 -1.14578628143517 -0.985203204066077\n",
       "  0                 1                 0                 0                  1\n",
       "  1                 0                 1                 1                  0\n",
       "   \n",
       "    -0.925998654250258 -0.921852588852939 -0.909866190679661 -0.719687474169452\n",
       "  0                  1                  1                  1                  1\n",
       "  1                  0                  0                  0                  0\n",
       "   \n",
       "    -0.697313549076681 -0.667813227961542 -0.641319530724985 -0.615350405842867\n",
       "  0                  0                  1                  1                  1\n",
       "  1                  1                  0                  0                  0\n",
       "   \n",
       "    -0.48803464702027 -0.446302059816563 -0.427211549042194 -0.372141894690524\n",
       "  0                 1                  1                  1                  1\n",
       "  1                 0                  0                  0                  0\n",
       "   \n",
       "    -0.295957701072723 -0.20936877078477 -0.208707950169722 -0.205906273012167\n",
       "  0                  1                 1                  1                  1\n",
       "  1                  0                 0                  0                  0\n",
       "   \n",
       "    -0.14375894971071 -0.117188161747697 -0.0945933844933747\n",
       "  0                 1                  1                   0\n",
       "  1                 0                  0                   1\n",
       "   \n",
       "    -0.0940858057043444 -0.0911197889370101 -0.0448021088193583\n",
       "  0                   1                   1                   1\n",
       "  1                   0                   0                   0\n",
       "   \n",
       "    -0.00891747220850803 -0.00867728292049655 -0.00861547539631319\n",
       "  0                    1                    1                    1\n",
       "  1                    0                    0                    0\n",
       "   \n",
       "    -0.00850553196702466 -0.00126255182279222 -0.00126239104469683\n",
       "  0                    1                    1                    1\n",
       "  1                    0                    0                    0\n",
       "   \n",
       "    0.000106572378770209 0.0221966739000751 0.0256270963399635\n",
       "  0                    1                  1                  0\n",
       "  1                    0                  0                  1\n",
       "   \n",
       "    0.0327282687773399 0.0536048356076714 0.0747915787310943 0.0870283792626924\n",
       "  0                  1                  1                  1                  1\n",
       "  1                  0                  0                  0                  0\n",
       "   \n",
       "    0.0895539010183701 0.0946372901362323 0.170165089990885 0.20526023634846\n",
       "  0                  1                  1                 1                1\n",
       "  1                  0                  0                 0                0\n",
       "   \n",
       "    0.231035803970581 0.233308920915851 0.26274064395696 0.278883064877425\n",
       "  0                 1                 1                1                 1\n",
       "  1                 0                 0                0                 0\n",
       "   \n",
       "    0.290480096206466 0.291598826287547 0.293230718932484 0.29708119308207\n",
       "  0                 0                 0                 1                1\n",
       "  1                 1                 1                 0                0\n",
       "   \n",
       "    0.29791735918569 0.309865312090121 0.311791824903576 0.327568776972365\n",
       "  0                1                 1                 0                 0\n",
       "  1                0                 0                 1                 1\n",
       "   \n",
       "    0.338832165136306 0.345209692524105 0.364754121583715 0.364754121583716\n",
       "  0                 1                 1                 0                 1\n",
       "  1                 0                 0                 1                 0\n",
       "   \n",
       "    0.364754121586467 0.458034547558001 0.458034547810043 0.49421670268864\n",
       "  0                 0                 0                 0                0\n",
       "  1                 1                 1                 1                1\n",
       "   \n",
       "    0.519494750230855 0.519500475330288 0.551575163985927 0.602526663901445\n",
       "  0                 1                 0                 1                 1\n",
       "  1                 0                 1                 0                 0\n",
       "   \n",
       "    0.612318655197448 0.614776169393451 0.733238496681309 0.745112121829181\n",
       "  0                 1                 0                 0                 1\n",
       "  1                 0                 1                 1                 0\n",
       "   \n",
       "    0.746422576322675 0.893653031110833 1.11972462309016 1.13144619488529\n",
       "  0                 1                 1                1                1\n",
       "  1                 0                 0                0                0\n",
       "   \n",
       "    1.2065500656716 1.21598025486374 1.46567843754356 1.52187099217471\n",
       "  0               1                0                1                0\n",
       "  1               0                1                0                1"
      ]
     },
     "metadata": {},
     "output_type": "display_data"
    }
   ],
   "source": [
    "data=ifelse(predicciones.red$net.result >= 0.5,1,0)\n",
    "data\n",
    "table(prueba$Team_Value, predicciones.red$net.result)"
   ]
  },
  {
   "cell_type": "code",
   "execution_count": 16,
   "metadata": {},
   "outputs": [
    {
     "data": {
      "text/html": [
       "0.659649122807017"
      ],
      "text/latex": [
       "0.659649122807017"
      ],
      "text/markdown": [
       "0.659649122807017"
      ],
      "text/plain": [
       "[1] 0.6596491228"
      ]
     },
     "metadata": {},
     "output_type": "display_data"
    }
   ],
   "source": [
    "prediccionROC.red <- prediction(predicciones.red$net.result, prueba$Team_Value)\n",
    "as.numeric(performance(prediccionROC.red, \"auc\")@y.values)"
   ]
  },
  {
   "cell_type": "code",
   "execution_count": 37,
   "metadata": {},
   "outputs": [
    {
     "data": {
      "text/html": [
       "0.810526315789474"
      ],
      "text/latex": [
       "0.810526315789474"
      ],
      "text/markdown": [
       "0.810526315789474"
      ],
      "text/plain": [
       "[1] 0.8105263158"
      ]
     },
     "metadata": {},
     "output_type": "display_data"
    }
   ],
   "source": [
    "\n",
    "modelo.bosquep<-predict(modelo.bosque, newdata =prueba, type = 'class')\n",
    "prediccionesROC=prediction(c(modelo.bosquep),c(prueba[,'Team_Value']))\n",
    "as.numeric(performance(prediccionesROC, \"auc\")@y.values)"
   ]
  },
  {
   "cell_type": "code",
   "execution_count": 28,
   "metadata": {},
   "outputs": [],
   "source": [
    "## Conclusión"
   ]
  },
  {
   "cell_type": "code",
   "execution_count": null,
   "metadata": {},
   "outputs": [],
   "source": []
  }
 ],
 "metadata": {
  "kernelspec": {
   "display_name": "R",
   "language": "R",
   "name": "ir"
  },
  "language_info": {
   "codemirror_mode": "r",
   "file_extension": ".r",
   "mimetype": "text/x-r-source",
   "name": "R",
   "pygments_lexer": "r",
   "version": "3.5.1"
  }
 },
 "nbformat": 4,
 "nbformat_minor": 2
}
