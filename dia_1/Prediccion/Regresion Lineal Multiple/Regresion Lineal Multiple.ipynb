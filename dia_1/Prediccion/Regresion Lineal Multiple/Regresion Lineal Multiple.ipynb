{
 "cells": [
  {
   "cell_type": "markdown",
   "metadata": {},
   "source": [
    "# Regresión Lineal Múltiple\n",
    "Los modelos lineales son una de las herramientas más importantes del análisis cuantitativo. Los utilizamos cuando queremos predecir –o explicar– una variable dependiente a partir de una o más variables independientes. El uso mismo de la terminología de variables dependientes e independientes nos da una pista del abordaje: el ajuste de modelos lineales busca encontrar una función –en el sentido matemático– que nos permite expresar a una variable a partir de otras.\n",
    "\n",
    "### Autores\n",
    "   * Efrén Jiménez\n",
    "\n",
    "## Análisis del Problema\n",
    "El desempeño de un automóvil se puede medir de diferentes formas. Algunas comunes son la cantidad de caballos de fuerza y el rendimiento del mismo, que se puede resumir en cuantas millas puede recorrer el automóvil por cada galón de combustible que consume. Para los clientes, potenciales compradores de un automóvil, este rendimiento es importante pues puede ayudar a tomar una decisión con respecto a cuál automóvil comprar (si, por ejemplo, el cliente quiere un auto que rinda por muchas millas y pueda economizar en la compra de combustible).\n",
    "\n",
    "Desde este punto de vista, tanto a clientes como a fabricadores de automóviles, les conviene entender cuál es la relación entre diferentes características del automóvil y su rendimiento, pues el conocer estas relaciones les puede ayudar a inferir cuál va a ser la eficiencia del vehículo a partir de ver los valores de otras características. Para fabricantes, puede ser importante conocer estas relaciones para saber cómo hacer cada modelo más eficiente con respecto al anterior.\n",
    "\n",
    "![Autos ROC](img/dataset-cover.jpg)"
   ]
  },
  {
   "cell_type": "markdown",
   "metadata": {},
   "source": [
    "## Entendimiento de los Datos\n",
    "\n",
    "Con el fin de analizar y tratar de estimar las millas por galón de diferentes modelos de automóviles, se trabajó con un conjunto de datos que contiene 398 observaciones y 9 variables:\n",
    "\n",
    "- mpg (millas por galón): numérica, con un rango de 9 a 46.60.\n",
    "- cyl (cilindraje): categórica ordinal, con valores posibles de 3, 4, 5, 6 y 8.\n",
    "- disp (desplazamiento): numérica, con un rango de 68 a 455.\n",
    "- hp (caballos de fuerza): numérica, con un rango de 46 a 230 y 6 valores faltantes.\n",
    "- weight (peso): numérica, con un rango de 1613 a 5140.\n",
    "- acc (aceleración): numérica, con un rango de 8 a 24.80.\n",
    "- model year (año): categórica, con 13 valores diferentes representando el año del automóvil.\n",
    "- origin (origen): categórica, 3 valores posibles: 1, 2, 3.\n",
    "- model name (nombre del modelo): categórica, con 305 posibles valores."
   ]
  },
  {
   "cell_type": "markdown",
   "metadata": {},
   "source": [
    "## Exploración de los Datos"
   ]
  },
  {
   "cell_type": "code",
   "execution_count": 2,
   "metadata": {},
   "outputs": [
    {
     "data": {
      "text/html": [
       "<table>\n",
       "<caption>A matrix: 7 × 7 of type dbl</caption>\n",
       "<thead>\n",
       "\t<tr><th></th><th scope=col>mpg</th><th scope=col>cyl</th><th scope=col>disp</th><th scope=col>hp</th><th scope=col>weight</th><th scope=col>acc</th><th scope=col>model.year</th></tr>\n",
       "</thead>\n",
       "<tbody>\n",
       "\t<tr><th scope=row>mpg</th><td> 1.0000000</td><td>-0.7746012</td><td>-0.8033707</td><td>-0.7539849</td><td>-0.8309542</td><td> 0.4014181</td><td> 0.5816267</td></tr>\n",
       "\t<tr><th scope=row>cyl</th><td>-0.7746012</td><td> 1.0000000</td><td> 0.9507216</td><td> 0.8216564</td><td> 0.8960168</td><td>-0.5045623</td><td>-0.3487458</td></tr>\n",
       "\t<tr><th scope=row>disp</th><td>-0.8033707</td><td> 0.9507216</td><td> 1.0000000</td><td> 0.8719301</td><td> 0.9328224</td><td>-0.5430601</td><td>-0.3701814</td></tr>\n",
       "\t<tr><th scope=row>hp</th><td>-0.7539849</td><td> 0.8216564</td><td> 0.8719301</td><td> 1.0000000</td><td> 0.8379867</td><td>-0.6662700</td><td>-0.4115875</td></tr>\n",
       "\t<tr><th scope=row>weight</th><td>-0.8309542</td><td> 0.8960168</td><td> 0.9328224</td><td> 0.8379867</td><td> 1.0000000</td><td>-0.4119882</td><td>-0.3065643</td></tr>\n",
       "\t<tr><th scope=row>acc</th><td> 0.4014181</td><td>-0.5045623</td><td>-0.5430601</td><td>-0.6662700</td><td>-0.4119882</td><td> 1.0000000</td><td> 0.2551515</td></tr>\n",
       "\t<tr><th scope=row>model.year</th><td> 0.5816267</td><td>-0.3487458</td><td>-0.3701814</td><td>-0.4115875</td><td>-0.3065643</td><td> 0.2551515</td><td> 1.0000000</td></tr>\n",
       "</tbody>\n",
       "</table>\n"
      ],
      "text/latex": [
       "A matrix: 7 × 7 of type dbl\n",
       "\\begin{tabular}{r|lllllll}\n",
       "  & mpg & cyl & disp & hp & weight & acc & model.year\\\\\n",
       "\\hline\n",
       "\tmpg &  1.0000000 & -0.7746012 & -0.8033707 & -0.7539849 & -0.8309542 &  0.4014181 &  0.5816267\\\\\n",
       "\tcyl & -0.7746012 &  1.0000000 &  0.9507216 &  0.8216564 &  0.8960168 & -0.5045623 & -0.3487458\\\\\n",
       "\tdisp & -0.8033707 &  0.9507216 &  1.0000000 &  0.8719301 &  0.9328224 & -0.5430601 & -0.3701814\\\\\n",
       "\thp & -0.7539849 &  0.8216564 &  0.8719301 &  1.0000000 &  0.8379867 & -0.6662700 & -0.4115875\\\\\n",
       "\tweight & -0.8309542 &  0.8960168 &  0.9328224 &  0.8379867 &  1.0000000 & -0.4119882 & -0.3065643\\\\\n",
       "\tacc &  0.4014181 & -0.5045623 & -0.5430601 & -0.6662700 & -0.4119882 &  1.0000000 &  0.2551515\\\\\n",
       "\tmodel.year &  0.5816267 & -0.3487458 & -0.3701814 & -0.4115875 & -0.3065643 &  0.2551515 &  1.0000000\\\\\n",
       "\\end{tabular}\n"
      ],
      "text/markdown": [
       "\n",
       "A matrix: 7 × 7 of type dbl\n",
       "\n",
       "| <!--/--> | mpg | cyl | disp | hp | weight | acc | model.year |\n",
       "|---|---|---|---|---|---|---|---|\n",
       "| mpg |  1.0000000 | -0.7746012 | -0.8033707 | -0.7539849 | -0.8309542 |  0.4014181 |  0.5816267 |\n",
       "| cyl | -0.7746012 |  1.0000000 |  0.9507216 |  0.8216564 |  0.8960168 | -0.5045623 | -0.3487458 |\n",
       "| disp | -0.8033707 |  0.9507216 |  1.0000000 |  0.8719301 |  0.9328224 | -0.5430601 | -0.3701814 |\n",
       "| hp | -0.7539849 |  0.8216564 |  0.8719301 |  1.0000000 |  0.8379867 | -0.6662700 | -0.4115875 |\n",
       "| weight | -0.8309542 |  0.8960168 |  0.9328224 |  0.8379867 |  1.0000000 | -0.4119882 | -0.3065643 |\n",
       "| acc |  0.4014181 | -0.5045623 | -0.5430601 | -0.6662700 | -0.4119882 |  1.0000000 |  0.2551515 |\n",
       "| model.year |  0.5816267 | -0.3487458 | -0.3701814 | -0.4115875 | -0.3065643 |  0.2551515 |  1.0000000 |\n",
       "\n"
      ],
      "text/plain": [
       "           mpg        cyl        disp       hp         weight     acc       \n",
       "mpg         1.0000000 -0.7746012 -0.8033707 -0.7539849 -0.8309542  0.4014181\n",
       "cyl        -0.7746012  1.0000000  0.9507216  0.8216564  0.8960168 -0.5045623\n",
       "disp       -0.8033707  0.9507216  1.0000000  0.8719301  0.9328224 -0.5430601\n",
       "hp         -0.7539849  0.8216564  0.8719301  1.0000000  0.8379867 -0.6662700\n",
       "weight     -0.8309542  0.8960168  0.9328224  0.8379867  1.0000000 -0.4119882\n",
       "acc         0.4014181 -0.5045623 -0.5430601 -0.6662700 -0.4119882  1.0000000\n",
       "model.year  0.5816267 -0.3487458 -0.3701814 -0.4115875 -0.3065643  0.2551515\n",
       "           model.year\n",
       "mpg         0.5816267\n",
       "cyl        -0.3487458\n",
       "disp       -0.3701814\n",
       "hp         -0.4115875\n",
       "weight     -0.3065643\n",
       "acc         0.2551515\n",
       "model.year  1.0000000"
      ]
     },
     "metadata": {},
     "output_type": "display_data"
    },
    {
     "name": "stdout",
     "output_type": "stream",
     "text": [
      "'data.frame':\t275 obs. of  6 variables:\n",
      " $ mpg   : num  18 15 18 17 15 14 14 15 14 15 ...\n",
      " $ cyl   : int  8 8 8 8 8 8 8 8 8 8 ...\n",
      " $ disp  : num  307 350 318 302 429 440 455 390 340 400 ...\n",
      " $ hp    : num  130 165 150 140 198 215 225 190 160 150 ...\n",
      " $ weight: num  3504 3693 3436 3449 4341 ...\n",
      " $ acc   : num  12 12 11 11 10 9 10 9 8 10 ...\n",
      "'data.frame':\t123 obs. of  6 variables:\n",
      " $ mpg   : num  16 14 15 24 21 10 17 14 13 18 ...\n",
      " $ cyl   : int  8 8 8 4 6 8 6 8 8 6 ...\n",
      " $ disp  : num  304 454 383 113 200 360 250 400 400 258 ...\n",
      " $ hp    : num  150 220 170 95 85 215 100 175 170 110 ...\n",
      " $ weight: num  3433 4354 3563 2372 2587 ...\n",
      " $ acc   : num  12 9 10 15 16 14 16 12 12 14 ...\n"
     ]
    }
   ],
   "source": [
    "#librerías utilizadas\n",
    "library(caTools)\n",
    "library(ggplot2)\n",
    "#Evitar mostrar warning messages\n",
    "options(warn=-1)\n",
    "\n",
    "#establezca el directorio de trabajo\n",
    "#En caso de que el sitio este en algún directorio de la maquina\n",
    "#setwd('auto-mpg.txt')\n",
    "\n",
    "#cargue el archivo a una variable que se llame autos usando la función read.table\n",
    "autos <- read.csv('auto-mpg_g.csv', header = T, na.strings = '?')\n",
    "\n",
    "#autos <- read.csv('auto-mpg.csv', header = T, na.strings = '?')\n",
    "\n",
    "#Ejemplo para cambiar el nombre de las columnas\n",
    "colnames(autos) <- c('mpg', 'cyl', 'disp', 'hp', 'weight', 'acc', 'model.year', \n",
    "                     'origin', 'model.name')\n",
    "\n",
    "cor(autos[,1:7])\n",
    "\n",
    "#Ejemplo para salvar el dataset \n",
    "#write.csv(autos, file = \"MyData.csv\",row.names=FALSE)\n",
    "\n",
    "autos<-autos[,1:6]\n",
    "autos<-auto[auto$mpg>15,]\n",
    "#cambiar las variables que corresponden a numéricas\n",
    "autos$mpg <- as.numeric(as.character(autos$mpg))\n",
    "autos$disp <- as.numeric(as.character(autos$disp))\n",
    "autos$hp <- as.numeric(as.character(autos$hp))\n",
    "autos$weight <- as.numeric(as.character(autos$weight))\n",
    "autos$acc <- as.numeric(as.character(autos$acc))\n",
    "\n",
    "#Utilice la función str() para ver la estructura del conjunto de datos:\n",
    "#str(autos)\n",
    "\n",
    "#summary(autos)\n",
    "\n",
    "#Dividir el conjunto de datos en uno de entrenamiento y otro de pruebas:\n",
    "set.seed(1376)\n",
    "splt <- sample.split(autos$mpg, SplitRatio = 0.7)\n",
    "autos.entrenamiento <- autos[splt, ]\n",
    "autos.prueba <- autos[!splt, ]\n",
    "\n",
    "str(autos.entrenamiento)\n",
    "str(autos.prueba)\n"
   ]
  },
  {
   "cell_type": "markdown",
   "metadata": {},
   "source": [
    ">Es importante siempre validar los rangos de los conjuntos de datos creados, para evitar caer en extrapolación:"
   ]
  },
  {
   "cell_type": "code",
   "execution_count": 3,
   "metadata": {},
   "outputs": [
    {
     "name": "stdout",
     "output_type": "stream",
     "text": [
      "[1] \".................................Entrenamiento..................................\"\n"
     ]
    },
    {
     "data": {
      "text/plain": [
       "      mpg             cyl             disp             hp            weight    \n",
       " Min.   : 9.00   Min.   :3.000   Min.   : 68.0   Min.   :  0.0   Min.   :1649  \n",
       " 1st Qu.:17.50   1st Qu.:4.000   1st Qu.:107.0   1st Qu.: 75.5   1st Qu.:2264  \n",
       " Median :23.00   Median :4.000   Median :151.0   Median : 92.0   Median :2855  \n",
       " Mean   :23.52   Mean   :5.498   Mean   :195.9   Mean   :103.5   Mean   :2999  \n",
       " 3rd Qu.:29.00   3rd Qu.:8.000   3rd Qu.:302.0   3rd Qu.:130.0   3rd Qu.:3622  \n",
       " Max.   :47.00   Max.   :8.000   Max.   :455.0   Max.   :225.0   Max.   :5140  \n",
       "      acc       \n",
       " Min.   : 8.00  \n",
       " 1st Qu.:14.00  \n",
       " Median :15.00  \n",
       " Mean   :15.48  \n",
       " 3rd Qu.:17.00  \n",
       " Max.   :25.00  "
      ]
     },
     "metadata": {},
     "output_type": "display_data"
    },
    {
     "name": "stdout",
     "output_type": "stream",
     "text": [
      "[1] \".................................Pruebas........................................\"\n"
     ]
    },
    {
     "data": {
      "text/plain": [
       "      mpg             cyl             disp           hp            weight    \n",
       " Min.   :10.00   Min.   :3.000   Min.   : 71   Min.   :  0.0   Min.   :1613  \n",
       " 1st Qu.:18.00   1st Qu.:4.000   1st Qu.: 98   1st Qu.: 74.5   1st Qu.:2162  \n",
       " Median :23.00   Median :4.000   Median :140   Median : 92.0   Median :2720  \n",
       " Mean   :23.66   Mean   :5.358   Mean   :188   Mean   :101.6   Mean   :2907  \n",
       " 3rd Qu.:29.50   3rd Qu.:6.000   3rd Qu.:258   3rd Qu.:110.0   3rd Qu.:3530  \n",
       " Max.   :44.00   Max.   :8.000   Max.   :454   Max.   :230.0   Max.   :4952  \n",
       "      acc      \n",
       " Min.   : 9.0  \n",
       " 1st Qu.:14.0  \n",
       " Median :16.0  \n",
       " Mean   :16.2  \n",
       " 3rd Qu.:18.0  \n",
       " Max.   :25.0  "
      ]
     },
     "metadata": {},
     "output_type": "display_data"
    }
   ],
   "source": [
    "print(\".................................Entrenamiento..................................\")\n",
    "summary(autos.entrenamiento)\n",
    "print(\".................................Pruebas........................................\")\n",
    "summary(autos.prueba)"
   ]
  },
  {
   "cell_type": "markdown",
   "metadata": {},
   "source": [
    "De acuerdo con los resúmenes anteriores, hay algunas observaciones en el conjunto de datos de prueba cuyo rango de las variables disp y weight se extiende más allá del rango en el conjunto de datos de entrenamiento, así que vamos a eliminar esas observaciones del conjunto de datos de prueba."
   ]
  },
  {
   "cell_type": "code",
   "execution_count": 4,
   "metadata": {},
   "outputs": [
    {
     "name": "stdout",
     "output_type": "stream",
     "text": [
      "[1] \"Eliminar datos fuera de rango\"\n",
      "[1] \".................................Entrenamiento..................................\"\n"
     ]
    },
    {
     "data": {
      "text/plain": [
       "      mpg             cyl             disp             hp            weight    \n",
       " Min.   : 9.00   Min.   :3.000   Min.   : 68.0   Min.   :  0.0   Min.   :1649  \n",
       " 1st Qu.:17.50   1st Qu.:4.000   1st Qu.:107.0   1st Qu.: 75.5   1st Qu.:2264  \n",
       " Median :23.00   Median :4.000   Median :151.0   Median : 92.0   Median :2855  \n",
       " Mean   :23.52   Mean   :5.498   Mean   :195.9   Mean   :103.5   Mean   :2999  \n",
       " 3rd Qu.:29.00   3rd Qu.:8.000   3rd Qu.:302.0   3rd Qu.:130.0   3rd Qu.:3622  \n",
       " Max.   :47.00   Max.   :8.000   Max.   :455.0   Max.   :225.0   Max.   :5140  \n",
       "      acc       \n",
       " Min.   : 8.00  \n",
       " 1st Qu.:14.00  \n",
       " Median :15.00  \n",
       " Mean   :15.48  \n",
       " 3rd Qu.:17.00  \n",
       " Max.   :25.00  "
      ]
     },
     "metadata": {},
     "output_type": "display_data"
    },
    {
     "name": "stdout",
     "output_type": "stream",
     "text": [
      "[1] \".................................Pruebas........................................\"\n"
     ]
    },
    {
     "data": {
      "text/plain": [
       "      mpg             cyl             disp             hp            weight    \n",
       " Min.   :10.00   Min.   :3.000   Min.   : 71.0   Min.   :  0.0   Min.   :1773  \n",
       " 1st Qu.:18.00   1st Qu.:4.000   1st Qu.: 98.0   1st Qu.: 75.0   1st Qu.:2166  \n",
       " Median :23.00   Median :4.000   Median :140.0   Median : 92.0   Median :2728  \n",
       " Mean   :23.57   Mean   :5.369   Mean   :188.9   Mean   :101.9   Mean   :2917  \n",
       " 3rd Qu.:29.00   3rd Qu.:6.000   3rd Qu.:258.0   3rd Qu.:110.0   3rd Qu.:3532  \n",
       " Max.   :44.00   Max.   :8.000   Max.   :454.0   Max.   :230.0   Max.   :4952  \n",
       "      acc       \n",
       " Min.   : 9.00  \n",
       " 1st Qu.:14.00  \n",
       " Median :16.00  \n",
       " Mean   :16.19  \n",
       " 3rd Qu.:18.00  \n",
       " Max.   :25.00  "
      ]
     },
     "metadata": {},
     "output_type": "display_data"
    }
   ],
   "source": [
    "print(\"Eliminar datos fuera de rango\")\n",
    "autos.prueba <- autos.prueba[autos.prueba$weight >= 1649 & autos.prueba$disp >= 70, ]\n",
    "print(\".................................Entrenamiento..................................\")\n",
    "summary(autos.entrenamiento)\n",
    "print(\".................................Pruebas........................................\")\n",
    "summary(autos.prueba)"
   ]
  },
  {
   "cell_type": "markdown",
   "metadata": {},
   "source": [
    "En total, se eliminaron 2 observaciones."
   ]
  },
  {
   "cell_type": "markdown",
   "metadata": {},
   "source": [
    "Para trabajar con regresiones lineales, es importante trabajar solo con variables cuantitativas y estudiar las relaciones que hay entre ellas. Con esto en mente, podemos comenzar nuestra exploración creando gráficos de dispersión para ver cuál es la relación entre nuestra variable de interés (mpg) y el resto de las variables cuantitativas:"
   ]
  },
  {
   "cell_type": "code",
   "execution_count": 5,
   "metadata": {},
   "outputs": [
    {
     "data": {
      "image/png": "[encoded data removed]",
      "text/plain": [
       "Plot with title \" Relación entre mpg y acc\""
      ]
     },
     "metadata": {},
     "output_type": "display_data"
    }
   ],
   "source": [
    "par(mfrow = c(2,2)) #crear una cuadrícula de 2 columnas y 2 hileras para ver cuatro gráficos.\n",
    "\n",
    "plot(x = autos.entrenamiento$disp, y = autos.entrenamiento$mpg, main = 'Relación entre mpg y disp', ylab = 'mpg', xlab = 'disp')\n",
    "plot(x = autos.entrenamiento$hp, y = autos.entrenamiento$mpg, main = ' Relación entre mpg y hp', ylab = 'mpg', xlab = 'hp')\n",
    "plot(x = autos.entrenamiento$weight, y = autos.entrenamiento$mpg, main = ' Relación entre mpg y weight', ylab = 'mpg', xlab = 'weight')\n",
    "plot(x = autos.entrenamiento$acc, y = autos.entrenamiento$mpg, main = ' Relación entre mpg y acc', ylab = 'mpg', xlab = 'acc')"
   ]
  },
  {
   "cell_type": "markdown",
   "metadata": {},
   "source": [
    "En los gráficos creados anteriormente, podemos ver como si existe algún tipo de relación, aunque no sea exactamente lineal, entre mpg y las otras cuatro variables cuantitativas. De estas cuatro variables, la que parece tener menor relación es la variable acc con la variable mpg."
   ]
  },
  {
   "cell_type": "markdown",
   "metadata": {},
   "source": [
    "También es importante visualizar la relación entre las diferentes variables predictoras, para lo cual podemos crear una matriz de gráficos de dispersión:"
   ]
  },
  {
   "cell_type": "code",
   "execution_count": 6,
   "metadata": {},
   "outputs": [
    {
     "data": {
      "image/png": "[encoded data removed]",
      "text/plain": [
       "plot without title"
      ]
     },
     "metadata": {},
     "output_type": "display_data"
    }
   ],
   "source": [
    "par(mfrow = c(1,1)) #volver a solo un gráfico por visualización.\n",
    "\n",
    "pairs(autos.entrenamiento[!is.na(autos$hp), c(1,2,3,4,5,6)], main = 'Relación entre predictores')"
   ]
  },
  {
   "cell_type": "markdown",
   "metadata": {},
   "source": [
    "La información del gráfico anterior podemos complementarla con una matriz de correlación:"
   ]
  },
  {
   "cell_type": "code",
   "execution_count": 7,
   "metadata": {},
   "outputs": [
    {
     "data": {
      "text/html": [
       "<table>\n",
       "<caption>A matrix: 6 × 6 of type dbl</caption>\n",
       "<thead>\n",
       "\t<tr><th></th><th scope=col>mpg</th><th scope=col>cyl</th><th scope=col>disp</th><th scope=col>hp</th><th scope=col>weight</th><th scope=col>acc</th></tr>\n",
       "</thead>\n",
       "<tbody>\n",
       "\t<tr><th scope=row>mpg</th><td> 1.0000000</td><td>-0.7729188</td><td>-0.7995689</td><td>-0.7548370</td><td>-0.8287319</td><td> 0.3644897</td></tr>\n",
       "\t<tr><th scope=row>cyl</th><td>-0.7729188</td><td> 1.0000000</td><td> 0.9516784</td><td> 0.8231940</td><td> 0.8947484</td><td>-0.5093245</td></tr>\n",
       "\t<tr><th scope=row>disp</th><td>-0.7995689</td><td> 0.9516784</td><td> 1.0000000</td><td> 0.8674060</td><td> 0.9263308</td><td>-0.5410210</td></tr>\n",
       "\t<tr><th scope=row>hp</th><td>-0.7548370</td><td> 0.8231940</td><td> 0.8674060</td><td> 1.0000000</td><td> 0.8256779</td><td>-0.6427702</td></tr>\n",
       "\t<tr><th scope=row>weight</th><td>-0.8287319</td><td> 0.8947484</td><td> 0.9263308</td><td> 0.8256779</td><td> 1.0000000</td><td>-0.3801886</td></tr>\n",
       "\t<tr><th scope=row>acc</th><td> 0.3644897</td><td>-0.5093245</td><td>-0.5410210</td><td>-0.6427702</td><td>-0.3801886</td><td> 1.0000000</td></tr>\n",
       "</tbody>\n",
       "</table>\n"
      ],
      "text/latex": [
       "A matrix: 6 × 6 of type dbl\n",
       "\\begin{tabular}{r|llllll}\n",
       "  & mpg & cyl & disp & hp & weight & acc\\\\\n",
       "\\hline\n",
       "\tmpg &  1.0000000 & -0.7729188 & -0.7995689 & -0.7548370 & -0.8287319 &  0.3644897\\\\\n",
       "\tcyl & -0.7729188 &  1.0000000 &  0.9516784 &  0.8231940 &  0.8947484 & -0.5093245\\\\\n",
       "\tdisp & -0.7995689 &  0.9516784 &  1.0000000 &  0.8674060 &  0.9263308 & -0.5410210\\\\\n",
       "\thp & -0.7548370 &  0.8231940 &  0.8674060 &  1.0000000 &  0.8256779 & -0.6427702\\\\\n",
       "\tweight & -0.8287319 &  0.8947484 &  0.9263308 &  0.8256779 &  1.0000000 & -0.3801886\\\\\n",
       "\tacc &  0.3644897 & -0.5093245 & -0.5410210 & -0.6427702 & -0.3801886 &  1.0000000\\\\\n",
       "\\end{tabular}\n"
      ],
      "text/markdown": [
       "\n",
       "A matrix: 6 × 6 of type dbl\n",
       "\n",
       "| <!--/--> | mpg | cyl | disp | hp | weight | acc |\n",
       "|---|---|---|---|---|---|---|\n",
       "| mpg |  1.0000000 | -0.7729188 | -0.7995689 | -0.7548370 | -0.8287319 |  0.3644897 |\n",
       "| cyl | -0.7729188 |  1.0000000 |  0.9516784 |  0.8231940 |  0.8947484 | -0.5093245 |\n",
       "| disp | -0.7995689 |  0.9516784 |  1.0000000 |  0.8674060 |  0.9263308 | -0.5410210 |\n",
       "| hp | -0.7548370 |  0.8231940 |  0.8674060 |  1.0000000 |  0.8256779 | -0.6427702 |\n",
       "| weight | -0.8287319 |  0.8947484 |  0.9263308 |  0.8256779 |  1.0000000 | -0.3801886 |\n",
       "| acc |  0.3644897 | -0.5093245 | -0.5410210 | -0.6427702 | -0.3801886 |  1.0000000 |\n",
       "\n"
      ],
      "text/plain": [
       "       mpg        cyl        disp       hp         weight     acc       \n",
       "mpg     1.0000000 -0.7729188 -0.7995689 -0.7548370 -0.8287319  0.3644897\n",
       "cyl    -0.7729188  1.0000000  0.9516784  0.8231940  0.8947484 -0.5093245\n",
       "disp   -0.7995689  0.9516784  1.0000000  0.8674060  0.9263308 -0.5410210\n",
       "hp     -0.7548370  0.8231940  0.8674060  1.0000000  0.8256779 -0.6427702\n",
       "weight -0.8287319  0.8947484  0.9263308  0.8256779  1.0000000 -0.3801886\n",
       "acc     0.3644897 -0.5093245 -0.5410210 -0.6427702 -0.3801886  1.0000000"
      ]
     },
     "metadata": {},
     "output_type": "display_data"
    }
   ],
   "source": [
    "cor(autos.entrenamiento[!is.na(autos.entrenamiento$hp),c(1,2,3,4,5,6)])"
   ]
  },
  {
   "cell_type": "markdown",
   "metadata": {},
   "source": [
    "Como pudimos apreciar en la matriz de gráficos de dispersión, y confirmar con la matriz de correlación, hay una correlación significativa entre los variables cly con (disp, hp, weight) y viceversa. La única variable que no tiene una correlación absoluta mayor a 0.75 es acc. Dado esto, debemos escoger una variable entre hp, disp y weight, para lo cual podemos crear una matriz de correlación entre esas tres variables y mpg para ver cuál tiene una correlación mayor con mpg:"
   ]
  },
  {
   "cell_type": "code",
   "execution_count": 8,
   "metadata": {
    "scrolled": true
   },
   "outputs": [
    {
     "data": {
      "text/html": [
       "<table>\n",
       "<caption>A matrix: 5 × 5 of type dbl</caption>\n",
       "<thead>\n",
       "\t<tr><th></th><th scope=col>mpg</th><th scope=col>cyl</th><th scope=col>disp</th><th scope=col>hp</th><th scope=col>weight</th></tr>\n",
       "</thead>\n",
       "<tbody>\n",
       "\t<tr><th scope=row>mpg</th><td> 1.0000000</td><td>-0.7729188</td><td>-0.7995689</td><td>-0.7548370</td><td>-0.8287319</td></tr>\n",
       "\t<tr><th scope=row>cyl</th><td>-0.7729188</td><td> 1.0000000</td><td> 0.9516784</td><td> 0.8231940</td><td> 0.8947484</td></tr>\n",
       "\t<tr><th scope=row>disp</th><td>-0.7995689</td><td> 0.9516784</td><td> 1.0000000</td><td> 0.8674060</td><td> 0.9263308</td></tr>\n",
       "\t<tr><th scope=row>hp</th><td>-0.7548370</td><td> 0.8231940</td><td> 0.8674060</td><td> 1.0000000</td><td> 0.8256779</td></tr>\n",
       "\t<tr><th scope=row>weight</th><td>-0.8287319</td><td> 0.8947484</td><td> 0.9263308</td><td> 0.8256779</td><td> 1.0000000</td></tr>\n",
       "</tbody>\n",
       "</table>\n"
      ],
      "text/latex": [
       "A matrix: 5 × 5 of type dbl\n",
       "\\begin{tabular}{r|lllll}\n",
       "  & mpg & cyl & disp & hp & weight\\\\\n",
       "\\hline\n",
       "\tmpg &  1.0000000 & -0.7729188 & -0.7995689 & -0.7548370 & -0.8287319\\\\\n",
       "\tcyl & -0.7729188 &  1.0000000 &  0.9516784 &  0.8231940 &  0.8947484\\\\\n",
       "\tdisp & -0.7995689 &  0.9516784 &  1.0000000 &  0.8674060 &  0.9263308\\\\\n",
       "\thp & -0.7548370 &  0.8231940 &  0.8674060 &  1.0000000 &  0.8256779\\\\\n",
       "\tweight & -0.8287319 &  0.8947484 &  0.9263308 &  0.8256779 &  1.0000000\\\\\n",
       "\\end{tabular}\n"
      ],
      "text/markdown": [
       "\n",
       "A matrix: 5 × 5 of type dbl\n",
       "\n",
       "| <!--/--> | mpg | cyl | disp | hp | weight |\n",
       "|---|---|---|---|---|---|\n",
       "| mpg |  1.0000000 | -0.7729188 | -0.7995689 | -0.7548370 | -0.8287319 |\n",
       "| cyl | -0.7729188 |  1.0000000 |  0.9516784 |  0.8231940 |  0.8947484 |\n",
       "| disp | -0.7995689 |  0.9516784 |  1.0000000 |  0.8674060 |  0.9263308 |\n",
       "| hp | -0.7548370 |  0.8231940 |  0.8674060 |  1.0000000 |  0.8256779 |\n",
       "| weight | -0.8287319 |  0.8947484 |  0.9263308 |  0.8256779 |  1.0000000 |\n",
       "\n"
      ],
      "text/plain": [
       "       mpg        cyl        disp       hp         weight    \n",
       "mpg     1.0000000 -0.7729188 -0.7995689 -0.7548370 -0.8287319\n",
       "cyl    -0.7729188  1.0000000  0.9516784  0.8231940  0.8947484\n",
       "disp   -0.7995689  0.9516784  1.0000000  0.8674060  0.9263308\n",
       "hp     -0.7548370  0.8231940  0.8674060  1.0000000  0.8256779\n",
       "weight -0.8287319  0.8947484  0.9263308  0.8256779  1.0000000"
      ]
     },
     "metadata": {},
     "output_type": "display_data"
    }
   ],
   "source": [
    "cor(autos.entrenamiento[!is.na(autos.entrenamiento$hp),c(1,2,3,4,5)])"
   ]
  },
  {
   "cell_type": "markdown",
   "metadata": {},
   "source": [
    "Basándonos en la correlación absoluta, se va a escoger las variables cyl, disp, hp, weight para ser incluida en el modelo."
   ]
  },
  {
   "cell_type": "markdown",
   "metadata": {},
   "source": [
    "## Modelo de Minería de Datos"
   ]
  },
  {
   "cell_type": "markdown",
   "metadata": {},
   "source": [
    "Una vez seleccionadas las variables para incluir en el modelo de regresión, se procede a crearlo:"
   ]
  },
  {
   "cell_type": "code",
   "execution_count": null,
   "metadata": {},
   "outputs": [],
   "source": [
    "install.packages('caTools')"
   ]
  },
  {
   "cell_type": "code",
   "execution_count": 13,
   "metadata": {},
   "outputs": [
    {
     "data": {
      "text/plain": [
       "\n",
       "Call:\n",
       "lm(formula = mpg ~ hp + weight + disp, data = autos.entrenamiento)\n",
       "\n",
       "Residuals:\n",
       "     Min       1Q   Median       3Q      Max \n",
       "-11.5663  -2.7751  -0.3033   2.4244  16.5115 \n",
       "\n",
       "Coefficients:\n",
       "              Estimate Std. Error t value Pr(>|t|)    \n",
       "(Intercept) 44.9338708  1.3899794  32.327  < 2e-16 ***\n",
       "hp          -0.0378783  0.0130322  -2.907  0.00396 ** \n",
       "weight      -0.0054229  0.0008129  -6.671 1.43e-10 ***\n",
       "disp        -0.0062907  0.0075084  -0.838  0.40287    \n",
       "---\n",
       "Signif. codes:  0 '***' 0.001 '**' 0.01 '*' 0.05 '.' 0.1 ' ' 1\n",
       "\n",
       "Residual standard error: 4.287 on 271 degrees of freedom\n",
       "Multiple R-squared:  0.7032,\tAdjusted R-squared:  0.6999 \n",
       "F-statistic:   214 on 3 and 271 DF,  p-value: < 2.2e-16\n"
      ]
     },
     "metadata": {},
     "output_type": "display_data"
    }
   ],
   "source": [
    "reg.mpg <- lm(mpg ~ hp+weight+disp, data = autos.entrenamiento)\n",
    "\n",
    "summary(reg.mpg)"
   ]
  },
  {
   "cell_type": "markdown",
   "metadata": {},
   "source": [
    "### Notas importantes"
   ]
  },
  {
   "cell_type": "markdown",
   "metadata": {},
   "source": [
    "#### Nota:\n",
    "\n",
    "Al realizar este análisis los parámetros de la ecuación de la recta de mínimos cuadrados que relaciona el número de metros de construcción con respecto a las millas por galon, para ello, se obtiene la recta Y = -0.0431473 * hp + -0.0059327 * weight  + 45.7758770 + 0.7024"
   ]
  },
  {
   "cell_type": "markdown",
   "metadata": {},
   "source": [
    "![Summaryregresión lineal simple](img/summary_lm.png)"
   ]
  },
  {
   "cell_type": "markdown",
   "metadata": {},
   "source": [
    "* Call: y muestra la formula con la que obtuvimos el modelo. Es útil para evitar confusiones, especialmente si estamos comparando varios modelos a la vez. Podemos saber exactamente a qué variables dependientes e independientes corresponde el sumario.\n",
    "* Residuals: y nos da 5 estadísticos sobre la distribución de los residuos del modelo: valores mínimos, 1er, 2do y 3er cuartil y valor máximo. La media de los residuos siempre es cero, así que es un parámetro de referencia que no aparece en el sumario, pero que nos resulta útil. Si los residuos se distribuyen conforme a una distribución normal deberíamos esperar que la mediana sea 0 o muy cerca de 0, y que el 1er y 3er cuartil sean simétricos. Lo mismo para lo valores mínimos o máximos. Si hay desviaciones notables de media y mediana y no hay simetría entre cuartiles es muy probable que no estemos cumpliendo con algunos de los supuestos de los modelos lineales.\n",
    "* Coefficients: y muestra los coeficientes estimados por el modelo, es decir, los parámetros ocultos β0 y β1 de la ecuación 1. Estas son la ordenada al origen (Intercept) y las pendientes estimadas para cada variable.\n",
    "* Residual se registra el error estandar para la estimación de cada variable, al que podemos interpretar como el promedio de los residuos. A partir del coeficiente estimado y el error estándar se computa un valor t, un estadístico de la divergencia entre el estimado que produce el modelo y un estimado hipotético con valor 0. Cuanto más alto es el valor t mayor la divergencia entre los coeficientes del modelo y el coeficiente igual a cero. \n",
    "* El p-value de la prueba de hipótesis del estadístico t, que indica la probabilidad de obtener un estimado como el que obtuvimos si el coeficiente real fuera 0. Si la probabilidad de este evento es muy baja podemos rechazar la hipótesis de nulidad según la cuál el verdadero estimado es cero. Esto no significa que nuestro modelo sea verdadero, simplemente que es poco verosímil que obtuviéramos estos estimados siendo verdadero que la pendiente es 0. Si el p-value es alto (digamos, mayor que 0.05) no podemos rechazar la hipótesis de nulidad y deberíamos tratar a nuestro estimado como si fuera 0: la pendiente es horizontal, no hay diferencias significativas en los valores de y a medida que varía el valor de x.\n",
    "* El error estándar de los residuos y los valores de R2, múltiple y ajustado. El R^2 de 0.6931 indica el modelo explica un 69.31% de la varianza de la variable dependiente. El resto de la varianza puede atribuirse al azar o a otras variables que no hemos incorporado al modelo.\n",
    "*El estadístico F y el p-value correspondiente. El estadístico F considera a la varianza explicada y la no explicada y es la base de una prueba de hipótesis en la que contrasta a nuestro modelo con uno hipotético en el que las variables no tienen efectos, es decir, con todos los coeficientes iguales a 0. Si el p-value del estadístico F es menor a cierto criterio –usualmente menor que 0.05– podemos rechazar esta hipótesis de nulidad."
   ]
  },
  {
   "cell_type": "markdown",
   "metadata": {},
   "source": [
    "En el resumen del modelo, podemos ver que ambas variables son significativas y que el modelo creado explica alrededor de un 70% de la variación en la variable de respuesta (mpg). Asimismo, podemos ver que el modelo es mejor que un modelo sin variables. Con este modelo, procedemos a hacer las predicciones sobre el conjunto de datos de prueba."
   ]
  },
  {
   "cell_type": "markdown",
   "metadata": {},
   "source": [
    "## Evaluación"
   ]
  },
  {
   "cell_type": "markdown",
   "metadata": {},
   "source": [
    "Se realiza una evaluación de los residuos de la regresión lineal."
   ]
  },
  {
   "cell_type": "markdown",
   "metadata": {},
   "source": [
    "### Residuos normales\n",
    "![Residuos normales](img/summary_resi.png)\n",
    "### Residuos anormales\n",
    "![Residuos anormales](img/summary_resi_ano.png)"
   ]
  },
  {
   "cell_type": "code",
   "execution_count": 15,
   "metadata": {},
   "outputs": [
    {
     "data": {
      "image/png": "[encoded data removed]",
      "text/plain": [
       "Plot with title \"Normal Q-Q Plot\""
      ]
     },
     "metadata": {},
     "output_type": "display_data"
    }
   ],
   "source": [
    "residuos<-rstandard(reg.mpg) # residuos estándares del modelo ajustado (completo) \n",
    "par(mfrow=c(1,3)) # divide la ventana en una fila y tres columnas \n",
    "hist(residuos) # histograma de los residuos estandarizados \n",
    "boxplot(residuos) # diagrama de cajas de los residuos estandarizados \n",
    "qqnorm(residuos) # gráfico de cuantiles de los residuos estandarizados \n",
    "qqline(residuos)  \n",
    "par(mfrow=c(1,1)) # devuelve la pantalla a su estado original"
   ]
  },
  {
   "cell_type": "code",
   "execution_count": 24,
   "metadata": {},
   "outputs": [
    {
     "data": {
      "image/png": "[encoded data removed]",
      "text/plain": [
       "Plot with title \"3D Scatterplot\""
      ]
     },
     "metadata": {},
     "output_type": "display_data"
    }
   ],
   "source": [
    "library(\"scatterplot3d\")\n",
    "library(rgl)\n",
    "s3d<-scatterplot3d(autos$hp, autos$weight,autos$mpg,  pch=16, highlight.3d = TRUE, type=\"h\",main=\"3D Scatterplot\", angle = 100)\n",
    "#s3d$plane3d(reg.mpg)\n",
    "s3d$plane3d(reg.mpg, lty.box = \"solid\")\n"
   ]
  },
  {
   "cell_type": "code",
   "execution_count": 14,
   "metadata": {},
   "outputs": [
    {
     "ename": "ERROR",
     "evalue": "Error in hist.default(autos.prueba$mpg - autos.prueba$Prediccion, breaks = 50, : character(0)\n",
     "output_type": "error",
     "traceback": [
      "Error in hist.default(autos.prueba$mpg - autos.prueba$Prediccion, breaks = 50, : character(0)\nTraceback:\n",
      "1. hist(autos.prueba$mpg - autos.prueba$Prediccion, breaks = 50, \n .     main = \"Distribución de los Residuos en Prueba\", xlab = \"residuos\")",
      "2. hist.default(autos.prueba$mpg - autos.prueba$Prediccion, breaks = 50, \n .     main = \"Distribución de los Residuos en Prueba\", xlab = \"residuos\")",
      "3. stop(gettextf(\"hist.default: pretty() error, breaks=%s\", format(breaks)), \n .     domain = NA)"
     ]
    }
   ],
   "source": [
    "hist(autos.prueba$mpg - autos.prueba$Prediccion, \n",
    "     breaks = 50,\n",
    "     main = 'Distribución de los Residuos en Prueba',\n",
    "     xlab = 'residuos')\n"
   ]
  },
  {
   "cell_type": "code",
   "execution_count": 26,
   "metadata": {},
   "outputs": [
    {
     "ename": "ERROR",
     "evalue": "Error in xy.coords(x, y, xlabel, ylabel, log): 'x' and 'y' lengths differ\n",
     "output_type": "error",
     "traceback": [
      "Error in xy.coords(x, y, xlabel, ylabel, log): 'x' and 'y' lengths differ\nTraceback:\n",
      "1. plot(y = autos.prueba$mpg - autos.prueba$Prediccion, x = autos.prueba$mpg, \n .     main = \"Distribución de los residuos por mpg\", xlab = \"mpg\", \n .     ylab = \"residuos\")",
      "2. plot.default(y = autos.prueba$mpg - autos.prueba$Prediccion, \n .     x = autos.prueba$mpg, main = \"Distribución de los residuos por mpg\", \n .     xlab = \"mpg\", ylab = \"residuos\")",
      "3. xy.coords(x, y, xlabel, ylabel, log)",
      "4. stop(\"'x' and 'y' lengths differ\")"
     ]
    }
   ],
   "source": [
    "plot(y = autos.prueba$mpg - autos.prueba$Prediccion,\n",
    "     x = autos.prueba$mpg,\n",
    "     main = 'Distribución de los residuos por mpg',\n",
    "     xlab = 'mpg',\n",
    "     ylab = 'residuos')"
   ]
  },
  {
   "cell_type": "markdown",
   "metadata": {},
   "source": [
    "Se realizará el proceso para obtener valores de predicción a partir del modelo de regresión lineal multiple generado."
   ]
  },
  {
   "cell_type": "code",
   "execution_count": 53,
   "metadata": {},
   "outputs": [
    {
     "name": "stdout",
     "output_type": "stream",
     "text": [
      "'data.frame':\t123 obs. of  7 variables:\n",
      " $ mpg       : num  16 14 15 24 21 10 17 14 13 18 ...\n",
      " $ cyl       : int  8 8 8 4 6 8 6 8 8 6 ...\n",
      " $ disp      : num  304 454 383 113 200 360 250 400 400 258 ...\n",
      " $ hp        : num  150 220 170 95 85 215 100 175 170 110 ...\n",
      " $ weight    : num  3433 4354 3563 2372 2587 ...\n",
      " $ acc       : num  12 9 10 15 16 14 16 12 12 14 ...\n",
      " $ Prediccion: num  18.9 10.5 17.3 27.6 26.8 ...\n"
     ]
    },
    {
     "data": {
      "text/html": [
       "<table>\n",
       "<thead><tr><th></th><th scope=col>mpg</th><th scope=col>cyl</th><th scope=col>disp</th><th scope=col>hp</th><th scope=col>weight</th><th scope=col>acc</th><th scope=col>Prediccion</th></tr></thead>\n",
       "<tbody>\n",
       "\t<tr><th scope=row>7</th><td>14       </td><td>8        </td><td>454      </td><td>220      </td><td>4354     </td><td> 9       </td><td>10.452448</td></tr>\n",
       "\t<tr><th scope=row>26</th><td>10       </td><td>8        </td><td>360      </td><td>215      </td><td>4615     </td><td>14       </td><td> 9.119747</td></tr>\n",
       "\t<tr><th scope=row>39</th><td>14       </td><td>8        </td><td>400      </td><td>175      </td><td>4464     </td><td>12       </td><td>11.741480</td></tr>\n",
       "\t<tr><th scope=row>43</th><td>13       </td><td>8        </td><td>400      </td><td>170      </td><td>4746     </td><td>12       </td><td>10.284192</td></tr>\n",
       "\t<tr><th scope=row>54</th><td>35       </td><td>4        </td><td> 72      </td><td> 69      </td><td>1613     </td><td>18       </td><td>33.229251</td></tr>\n",
       "\t<tr><th scope=row>64</th><td>15       </td><td>8        </td><td>318      </td><td>150      </td><td>4135     </td><td>14       </td><td>14.772024</td></tr>\n",
       "\t<tr><th scope=row>90</th><td>12       </td><td>8        </td><td>429      </td><td>198      </td><td>4952     </td><td>12       </td><td> 7.853929</td></tr>\n",
       "\t<tr><th scope=row>94</th><td>13       </td><td>8        </td><td>440      </td><td>215      </td><td>4735     </td><td>11       </td><td> 8.407822</td></tr>\n",
       "\t<tr><th scope=row>116</th><td>16       </td><td>8        </td><td>400      </td><td>230      </td><td>4278     </td><td>10       </td><td>10.471861</td></tr>\n",
       "\t<tr><th scope=row>144</th><td>32       </td><td>4        </td><td> 83      </td><td> 61      </td><td>2003     </td><td>19       </td><td>31.260673</td></tr>\n",
       "\t<tr><th scope=row>180</th><td>33       </td><td>4        </td><td> 91      </td><td> 53      </td><td>1795     </td><td>18       </td><td>32.839855</td></tr>\n",
       "\t<tr><th scope=row>187</th><td>16       </td><td>8        </td><td>318      </td><td>150      </td><td>4190     </td><td>13       </td><td>14.445725</td></tr>\n",
       "\t<tr><th scope=row>219</th><td>34       </td><td>4        </td><td> 85      </td><td> 70      </td><td>1945     </td><td>17       </td><td>31.216444</td></tr>\n",
       "\t<tr><th scope=row>221</th><td>17       </td><td>8        </td><td>260      </td><td>110      </td><td>4060     </td><td>19       </td><td>16.942870</td></tr>\n",
       "\t<tr><th scope=row>230</th><td>16       </td><td>8        </td><td>400      </td><td>190      </td><td>4325     </td><td>12       </td><td>11.918916</td></tr>\n",
       "\t<tr><th scope=row>235</th><td>26       </td><td>4        </td><td>140      </td><td> 89      </td><td>2755     </td><td>16       </td><td>25.591150</td></tr>\n",
       "\t<tr><th scope=row>237</th><td>34       </td><td>4        </td><td> 98      </td><td> 83      </td><td>2075     </td><td>16       </td><td>29.884277</td></tr>\n",
       "\t<tr><th scope=row>243</th><td>43       </td><td>4        </td><td> 90      </td><td> 48      </td><td>1985     </td><td>22       </td><td>31.928377</td></tr>\n",
       "\t<tr><th scope=row>246</th><td>39       </td><td>4        </td><td> 85      </td><td> 70      </td><td>2070     </td><td>19       </td><td>30.474855</td></tr>\n",
       "\t<tr><th scope=row>247</th><td>36       </td><td>4        </td><td> 91      </td><td> 60      </td><td>1800     </td><td>16       </td><td>32.508160</td></tr>\n",
       "\t<tr><th scope=row>249</th><td>19       </td><td>8        </td><td>318      </td><td>140      </td><td>3735     </td><td>13       </td><td>17.576581</td></tr>\n",
       "\t<tr><th scope=row>268</th><td>31       </td><td>4        </td><td>105      </td><td> 75      </td><td>2230     </td><td>15       </td><td>29.309885</td></tr>\n",
       "\t<tr><th scope=row>279</th><td>22       </td><td>6        </td><td>231      </td><td>115      </td><td>3245     </td><td>15       </td><td>21.562292</td></tr>\n",
       "\t<tr><th scope=row>299</th><td>24       </td><td>8        </td><td>260      </td><td> 90      </td><td>3420     </td><td>22       </td><td>21.602751</td></tr>\n",
       "\t<tr><th scope=row>300</th><td>34       </td><td>4        </td><td>105      </td><td> 70      </td><td>2200     </td><td>13       </td><td>29.703603</td></tr>\n",
       "\t<tr><th scope=row>302</th><td>32       </td><td>4        </td><td> 85      </td><td> 65      </td><td>2020     </td><td>19       </td><td>30.987228</td></tr>\n",
       "\t<tr><th scope=row>309</th><td>38       </td><td>4        </td><td> 89      </td><td> 60      </td><td>1968     </td><td>19       </td><td>31.511465</td></tr>\n",
       "\t<tr><th scope=row>310</th><td>32       </td><td>4        </td><td> 98      </td><td> 70      </td><td>2120     </td><td>16       </td><td>30.178220</td></tr>\n",
       "\t<tr><th scope=row>323</th><td>41       </td><td>4        </td><td> 85      </td><td> 65      </td><td>2110     </td><td>19       </td><td>30.453284</td></tr>\n",
       "\t<tr><th scope=row>327</th><td>30       </td><td>4        </td><td>146      </td><td> 67      </td><td>3250     </td><td>22       </td><td>23.603700</td></tr>\n",
       "\t<tr><th scope=row>333</th><td>35       </td><td>4        </td><td>122      </td><td> 88      </td><td>2500     </td><td>15       </td><td>27.147138</td></tr>\n",
       "\t<tr><th scope=row>343</th><td>32       </td><td>4        </td><td> 97      </td><td> 67      </td><td>2065     </td><td>18       </td><td>30.633961</td></tr>\n",
       "\t<tr><th scope=row>344</th><td>37       </td><td>4        </td><td> 85      </td><td> 65      </td><td>1975     </td><td>19       </td><td>31.254199</td></tr>\n",
       "\t<tr><th scope=row>349</th><td>30       </td><td>4        </td><td> 98      </td><td> 65      </td><td>2380     </td><td>21       </td><td>28.851452</td></tr>\n",
       "\t<tr><th scope=row>353</th><td>33       </td><td>4        </td><td>119      </td><td>100      </td><td>2615     </td><td>15       </td><td>25.947109</td></tr>\n",
       "\t<tr><th scope=row>357</th><td>25       </td><td>6        </td><td>168      </td><td>116      </td><td>2900     </td><td>13       </td><td>23.565930</td></tr>\n",
       "\t<tr><th scope=row>360</th><td>27       </td><td>8        </td><td>350      </td><td>105      </td><td>3725     </td><td>19       </td><td>19.146065</td></tr>\n",
       "\t<tr><th scope=row>365</th><td>34       </td><td>4        </td><td>112      </td><td> 88      </td><td>2395     </td><td>18       </td><td>27.770073</td></tr>\n",
       "\t<tr><th scope=row>368</th><td>27       </td><td>4        </td><td>151      </td><td> 90      </td><td>2735     </td><td>18       </td><td>25.666657</td></tr>\n",
       "\t<tr><th scope=row>370</th><td>36       </td><td>4        </td><td>105      </td><td> 74      </td><td>1980     </td><td>15       </td><td>30.836210</td></tr>\n",
       "\t<tr><th scope=row>373</th><td>38       </td><td>4        </td><td>105      </td><td> 63      </td><td>2125     </td><td>15       </td><td>30.450588</td></tr>\n",
       "\t<tr><th scope=row>375</th><td>36       </td><td>4        </td><td>120      </td><td> 88      </td><td>2160     </td><td>15       </td><td>29.164260</td></tr>\n",
       "\t<tr><th scope=row>379</th><td>32       </td><td>4        </td><td> 91      </td><td> 67      </td><td>1965     </td><td>16       </td><td>31.227232</td></tr>\n",
       "\t<tr><th scope=row>388</th><td>27       </td><td>4        </td><td>140      </td><td> 86      </td><td>2790     </td><td>16       </td><td>25.512947</td></tr>\n",
       "\t<tr><th scope=row>389</th><td>44       </td><td>4        </td><td> 97      </td><td> 52      </td><td>2130     </td><td>25       </td><td>30.895545</td></tr>\n",
       "\t<tr><th scope=row>391</th><td>28       </td><td>4        </td><td>120      </td><td> 79      </td><td>2625     </td><td>19       </td><td>26.793876</td></tr>\n",
       "</tbody>\n",
       "</table>\n"
      ],
      "text/latex": [
       "\\begin{tabular}{r|lllllll}\n",
       "  & mpg & cyl & disp & hp & weight & acc & Prediccion\\\\\n",
       "\\hline\n",
       "\t7 & 14        & 8         & 454       & 220       & 4354      &  9        & 10.452448\\\\\n",
       "\t26 & 10        & 8         & 360       & 215       & 4615      & 14        &  9.119747\\\\\n",
       "\t39 & 14        & 8         & 400       & 175       & 4464      & 12        & 11.741480\\\\\n",
       "\t43 & 13        & 8         & 400       & 170       & 4746      & 12        & 10.284192\\\\\n",
       "\t54 & 35        & 4         &  72       &  69       & 1613      & 18        & 33.229251\\\\\n",
       "\t64 & 15        & 8         & 318       & 150       & 4135      & 14        & 14.772024\\\\\n",
       "\t90 & 12        & 8         & 429       & 198       & 4952      & 12        &  7.853929\\\\\n",
       "\t94 & 13        & 8         & 440       & 215       & 4735      & 11        &  8.407822\\\\\n",
       "\t116 & 16        & 8         & 400       & 230       & 4278      & 10        & 10.471861\\\\\n",
       "\t144 & 32        & 4         &  83       &  61       & 2003      & 19        & 31.260673\\\\\n",
       "\t180 & 33        & 4         &  91       &  53       & 1795      & 18        & 32.839855\\\\\n",
       "\t187 & 16        & 8         & 318       & 150       & 4190      & 13        & 14.445725\\\\\n",
       "\t219 & 34        & 4         &  85       &  70       & 1945      & 17        & 31.216444\\\\\n",
       "\t221 & 17        & 8         & 260       & 110       & 4060      & 19        & 16.942870\\\\\n",
       "\t230 & 16        & 8         & 400       & 190       & 4325      & 12        & 11.918916\\\\\n",
       "\t235 & 26        & 4         & 140       &  89       & 2755      & 16        & 25.591150\\\\\n",
       "\t237 & 34        & 4         &  98       &  83       & 2075      & 16        & 29.884277\\\\\n",
       "\t243 & 43        & 4         &  90       &  48       & 1985      & 22        & 31.928377\\\\\n",
       "\t246 & 39        & 4         &  85       &  70       & 2070      & 19        & 30.474855\\\\\n",
       "\t247 & 36        & 4         &  91       &  60       & 1800      & 16        & 32.508160\\\\\n",
       "\t249 & 19        & 8         & 318       & 140       & 3735      & 13        & 17.576581\\\\\n",
       "\t268 & 31        & 4         & 105       &  75       & 2230      & 15        & 29.309885\\\\\n",
       "\t279 & 22        & 6         & 231       & 115       & 3245      & 15        & 21.562292\\\\\n",
       "\t299 & 24        & 8         & 260       &  90       & 3420      & 22        & 21.602751\\\\\n",
       "\t300 & 34        & 4         & 105       &  70       & 2200      & 13        & 29.703603\\\\\n",
       "\t302 & 32        & 4         &  85       &  65       & 2020      & 19        & 30.987228\\\\\n",
       "\t309 & 38        & 4         &  89       &  60       & 1968      & 19        & 31.511465\\\\\n",
       "\t310 & 32        & 4         &  98       &  70       & 2120      & 16        & 30.178220\\\\\n",
       "\t323 & 41        & 4         &  85       &  65       & 2110      & 19        & 30.453284\\\\\n",
       "\t327 & 30        & 4         & 146       &  67       & 3250      & 22        & 23.603700\\\\\n",
       "\t333 & 35        & 4         & 122       &  88       & 2500      & 15        & 27.147138\\\\\n",
       "\t343 & 32        & 4         &  97       &  67       & 2065      & 18        & 30.633961\\\\\n",
       "\t344 & 37        & 4         &  85       &  65       & 1975      & 19        & 31.254199\\\\\n",
       "\t349 & 30        & 4         &  98       &  65       & 2380      & 21        & 28.851452\\\\\n",
       "\t353 & 33        & 4         & 119       & 100       & 2615      & 15        & 25.947109\\\\\n",
       "\t357 & 25        & 6         & 168       & 116       & 2900      & 13        & 23.565930\\\\\n",
       "\t360 & 27        & 8         & 350       & 105       & 3725      & 19        & 19.146065\\\\\n",
       "\t365 & 34        & 4         & 112       &  88       & 2395      & 18        & 27.770073\\\\\n",
       "\t368 & 27        & 4         & 151       &  90       & 2735      & 18        & 25.666657\\\\\n",
       "\t370 & 36        & 4         & 105       &  74       & 1980      & 15        & 30.836210\\\\\n",
       "\t373 & 38        & 4         & 105       &  63       & 2125      & 15        & 30.450588\\\\\n",
       "\t375 & 36        & 4         & 120       &  88       & 2160      & 15        & 29.164260\\\\\n",
       "\t379 & 32        & 4         &  91       &  67       & 1965      & 16        & 31.227232\\\\\n",
       "\t388 & 27        & 4         & 140       &  86       & 2790      & 16        & 25.512947\\\\\n",
       "\t389 & 44        & 4         &  97       &  52       & 2130      & 25        & 30.895545\\\\\n",
       "\t391 & 28        & 4         & 120       &  79       & 2625      & 19        & 26.793876\\\\\n",
       "\\end{tabular}\n"
      ],
      "text/markdown": [
       "\n",
       "| <!--/--> | mpg | cyl | disp | hp | weight | acc | Prediccion | \n",
       "|---|---|---|---|---|---|---|---|---|---|---|---|---|---|---|---|---|---|---|---|---|---|---|---|---|---|---|---|---|---|---|---|---|---|---|---|---|---|---|---|---|---|---|---|---|---|\n",
       "| 7 | 14        | 8         | 454       | 220       | 4354      |  9        | 10.452448 | \n",
       "| 26 | 10        | 8         | 360       | 215       | 4615      | 14        |  9.119747 | \n",
       "| 39 | 14        | 8         | 400       | 175       | 4464      | 12        | 11.741480 | \n",
       "| 43 | 13        | 8         | 400       | 170       | 4746      | 12        | 10.284192 | \n",
       "| 54 | 35        | 4         |  72       |  69       | 1613      | 18        | 33.229251 | \n",
       "| 64 | 15        | 8         | 318       | 150       | 4135      | 14        | 14.772024 | \n",
       "| 90 | 12        | 8         | 429       | 198       | 4952      | 12        |  7.853929 | \n",
       "| 94 | 13        | 8         | 440       | 215       | 4735      | 11        |  8.407822 | \n",
       "| 116 | 16        | 8         | 400       | 230       | 4278      | 10        | 10.471861 | \n",
       "| 144 | 32        | 4         |  83       |  61       | 2003      | 19        | 31.260673 | \n",
       "| 180 | 33        | 4         |  91       |  53       | 1795      | 18        | 32.839855 | \n",
       "| 187 | 16        | 8         | 318       | 150       | 4190      | 13        | 14.445725 | \n",
       "| 219 | 34        | 4         |  85       |  70       | 1945      | 17        | 31.216444 | \n",
       "| 221 | 17        | 8         | 260       | 110       | 4060      | 19        | 16.942870 | \n",
       "| 230 | 16        | 8         | 400       | 190       | 4325      | 12        | 11.918916 | \n",
       "| 235 | 26        | 4         | 140       |  89       | 2755      | 16        | 25.591150 | \n",
       "| 237 | 34        | 4         |  98       |  83       | 2075      | 16        | 29.884277 | \n",
       "| 243 | 43        | 4         |  90       |  48       | 1985      | 22        | 31.928377 | \n",
       "| 246 | 39        | 4         |  85       |  70       | 2070      | 19        | 30.474855 | \n",
       "| 247 | 36        | 4         |  91       |  60       | 1800      | 16        | 32.508160 | \n",
       "| 249 | 19        | 8         | 318       | 140       | 3735      | 13        | 17.576581 | \n",
       "| 268 | 31        | 4         | 105       |  75       | 2230      | 15        | 29.309885 | \n",
       "| 279 | 22        | 6         | 231       | 115       | 3245      | 15        | 21.562292 | \n",
       "| 299 | 24        | 8         | 260       |  90       | 3420      | 22        | 21.602751 | \n",
       "| 300 | 34        | 4         | 105       |  70       | 2200      | 13        | 29.703603 | \n",
       "| 302 | 32        | 4         |  85       |  65       | 2020      | 19        | 30.987228 | \n",
       "| 309 | 38        | 4         |  89       |  60       | 1968      | 19        | 31.511465 | \n",
       "| 310 | 32        | 4         |  98       |  70       | 2120      | 16        | 30.178220 | \n",
       "| 323 | 41        | 4         |  85       |  65       | 2110      | 19        | 30.453284 | \n",
       "| 327 | 30        | 4         | 146       |  67       | 3250      | 22        | 23.603700 | \n",
       "| 333 | 35        | 4         | 122       |  88       | 2500      | 15        | 27.147138 | \n",
       "| 343 | 32        | 4         |  97       |  67       | 2065      | 18        | 30.633961 | \n",
       "| 344 | 37        | 4         |  85       |  65       | 1975      | 19        | 31.254199 | \n",
       "| 349 | 30        | 4         |  98       |  65       | 2380      | 21        | 28.851452 | \n",
       "| 353 | 33        | 4         | 119       | 100       | 2615      | 15        | 25.947109 | \n",
       "| 357 | 25        | 6         | 168       | 116       | 2900      | 13        | 23.565930 | \n",
       "| 360 | 27        | 8         | 350       | 105       | 3725      | 19        | 19.146065 | \n",
       "| 365 | 34        | 4         | 112       |  88       | 2395      | 18        | 27.770073 | \n",
       "| 368 | 27        | 4         | 151       |  90       | 2735      | 18        | 25.666657 | \n",
       "| 370 | 36        | 4         | 105       |  74       | 1980      | 15        | 30.836210 | \n",
       "| 373 | 38        | 4         | 105       |  63       | 2125      | 15        | 30.450588 | \n",
       "| 375 | 36        | 4         | 120       |  88       | 2160      | 15        | 29.164260 | \n",
       "| 379 | 32        | 4         |  91       |  67       | 1965      | 16        | 31.227232 | \n",
       "| 388 | 27        | 4         | 140       |  86       | 2790      | 16        | 25.512947 | \n",
       "| 389 | 44        | 4         |  97       |  52       | 2130      | 25        | 30.895545 | \n",
       "| 391 | 28        | 4         | 120       |  79       | 2625      | 19        | 26.793876 | \n",
       "\n",
       "\n"
      ],
      "text/plain": [
       "    mpg cyl disp hp  weight acc Prediccion\n",
       "7   14  8   454  220 4354    9  10.452448 \n",
       "26  10  8   360  215 4615   14   9.119747 \n",
       "39  14  8   400  175 4464   12  11.741480 \n",
       "43  13  8   400  170 4746   12  10.284192 \n",
       "54  35  4    72   69 1613   18  33.229251 \n",
       "64  15  8   318  150 4135   14  14.772024 \n",
       "90  12  8   429  198 4952   12   7.853929 \n",
       "94  13  8   440  215 4735   11   8.407822 \n",
       "116 16  8   400  230 4278   10  10.471861 \n",
       "144 32  4    83   61 2003   19  31.260673 \n",
       "180 33  4    91   53 1795   18  32.839855 \n",
       "187 16  8   318  150 4190   13  14.445725 \n",
       "219 34  4    85   70 1945   17  31.216444 \n",
       "221 17  8   260  110 4060   19  16.942870 \n",
       "230 16  8   400  190 4325   12  11.918916 \n",
       "235 26  4   140   89 2755   16  25.591150 \n",
       "237 34  4    98   83 2075   16  29.884277 \n",
       "243 43  4    90   48 1985   22  31.928377 \n",
       "246 39  4    85   70 2070   19  30.474855 \n",
       "247 36  4    91   60 1800   16  32.508160 \n",
       "249 19  8   318  140 3735   13  17.576581 \n",
       "268 31  4   105   75 2230   15  29.309885 \n",
       "279 22  6   231  115 3245   15  21.562292 \n",
       "299 24  8   260   90 3420   22  21.602751 \n",
       "300 34  4   105   70 2200   13  29.703603 \n",
       "302 32  4    85   65 2020   19  30.987228 \n",
       "309 38  4    89   60 1968   19  31.511465 \n",
       "310 32  4    98   70 2120   16  30.178220 \n",
       "323 41  4    85   65 2110   19  30.453284 \n",
       "327 30  4   146   67 3250   22  23.603700 \n",
       "333 35  4   122   88 2500   15  27.147138 \n",
       "343 32  4    97   67 2065   18  30.633961 \n",
       "344 37  4    85   65 1975   19  31.254199 \n",
       "349 30  4    98   65 2380   21  28.851452 \n",
       "353 33  4   119  100 2615   15  25.947109 \n",
       "357 25  6   168  116 2900   13  23.565930 \n",
       "360 27  8   350  105 3725   19  19.146065 \n",
       "365 34  4   112   88 2395   18  27.770073 \n",
       "368 27  4   151   90 2735   18  25.666657 \n",
       "370 36  4   105   74 1980   15  30.836210 \n",
       "373 38  4   105   63 2125   15  30.450588 \n",
       "375 36  4   120   88 2160   15  29.164260 \n",
       "379 32  4    91   67 1965   16  31.227232 \n",
       "388 27  4   140   86 2790   16  25.512947 \n",
       "389 44  4    97   52 2130   25  30.895545 \n",
       "391 28  4   120   79 2625   19  26.793876 "
      ]
     },
     "metadata": {},
     "output_type": "display_data"
    },
    {
     "name": "stdout",
     "output_type": "stream",
     "text": [
      "'data.frame':\t77 obs. of  7 variables:\n",
      " $ mpg       : num  16 15 24 21 17 18 18 28 31 27 ...\n",
      " $ cyl       : int  8 8 4 6 6 6 6 4 4 4 ...\n",
      " $ disp      : num  304 383 113 200 250 258 250 116 71 97 ...\n",
      " $ hp        : num  150 170 95 85 100 110 88 90 65 60 ...\n",
      " $ weight    : num  3433 3563 2372 2587 3329 ...\n",
      " $ acc       : num  12 10 15 16 16 14 15 14 19 19 ...\n",
      " $ Prediccion: num  18.9 17.3 27.6 26.8 21.7 ...\n"
     ]
    }
   ],
   "source": [
    "autos.prueba$Prediccion <- predict(reg.mpg, newdata = autos.prueba)\n",
    "str(autos.prueba)\n",
    "\n",
    "autoss<-autos.prueba[autos.prueba$mpg>=autos.prueba$Prediccion,]\n",
    "autoss\n",
    "\n",
    "autoss2<-autos.prueba[autos.prueba$mpg<=autos.prueba$Prediccion,]\n",
    "str(autoss2)\n"
   ]
  },
  {
   "cell_type": "code",
   "execution_count": 1,
   "metadata": {},
   "outputs": [
    {
     "ename": "ERROR",
     "evalue": "Error in predict(reg.mpg, newdata = valoresApredecir): objeto 'reg.mpg' no encontrado\n",
     "output_type": "error",
     "traceback": [
      "Error in predict(reg.mpg, newdata = valoresApredecir): objeto 'reg.mpg' no encontrado\nTraceback:\n",
      "1. predict(reg.mpg, newdata = valoresApredecir)"
     ]
    }
   ],
   "source": [
    "valoresApredecir <- data.frame(hp=103, weight=2999)\n",
    "valoresApredecir.prediccion <-predict(reg.mpg, newdata = valoresApredecir)\n",
    "valoresApredecir.prediccion"
   ]
  },
  {
   "cell_type": "markdown",
   "metadata": {},
   "source": [
    "## Resultados\n",
    "De acuerdo con la evaluación hecha, el modelo solo predice un 70% de la variabilidad de los datos, por lo cual no se recomienda su uso en ambientes donde se necesite una precision mas alta. Debe mejorar la calidad de los datos debido a que muchos de estos datos no tienen una alta correlacion entre si, que permita subir el rango de predicción de los datos."
   ]
  },
  {
   "cell_type": "code",
   "execution_count": null,
   "metadata": {},
   "outputs": [],
   "source": []
  }
 ],
 "metadata": {
  "kernelspec": {
   "display_name": "R",
   "language": "R",
   "name": "ir"
  },
  "language_info": {
   "codemirror_mode": "r",
   "file_extension": ".r",
   "mimetype": "text/x-r-source",
   "name": "R",
   "pygments_lexer": "r",
   "version": "3.5.1"
  }
 },
 "nbformat": 4,
 "nbformat_minor": 2
}
