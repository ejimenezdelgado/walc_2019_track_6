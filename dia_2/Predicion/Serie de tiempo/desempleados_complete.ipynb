{
 "cells": [
  {
   "cell_type": "markdown",
   "metadata": {
    "_cell_guid": "e02ea650-0004-4bf0-89bd-56589aa9f988",
    "_uuid": "25ab604d37d22dfd0909e3756bac1dfea9384a4c"
   },
   "source": [
    "# Serie de tiempo\n",
    "Una serie temporal o cronológica es una secuencia de datos, observaciones o valores, medidos en determinados momentos y ordenados cronológicamente. Los datos pueden estar espaciados a intervalos iguales (como la temperatura en un observatorio meteorológico en días sucesivos al mediodía) o desiguales (como el peso de una persona en sucesivas mediciones en el consultorio médico, la farmacia, etc.)\n",
    "\n",
    "### Autores\n",
    "   * Efrén Jiménez\n",
    "\n",
    "## Análisis del Problema\n",
    "\n",
    "##### Breve historia del empleo en los Estados Unidos.\n",
    "\n",
    "Durante la década de 1940, el Departamento de Trabajo de los EE. UU., Específicamente la Oficina de Estadísticas Laborales (BLS), comenzó a recopilar información sobre el empleo a través de encuestas de hogares mensuales. Otras series de datos están disponibles hasta 1912. La tasa de desempleo varió desde un 1% durante la Primera Guerra Mundial hasta un 25% durante la Gran Depresión (en la mayoría de los países comenzó en 1929 y duró hasta 1941). la depresión más larga, profunda y extendida del siglo XX). Más recientemente, alcanzó un máximo de 10.8% en noviembre de 1982 y 10.0% en octubre de 2009. El desempleo tiende a aumentar durante las recesiones y cae durante las expansiones. De 1948 a 2015, el desempleo promedió alrededor del 5,8%. Los Estados Unidos han experimentado 11 recesiones desde el final de la posguerra en 1948.\n",
    "\n",
    "![work](img/dataset-cover.jpg)\n",
    "\n"
   ]
  },
  {
   "cell_type": "markdown",
   "metadata": {},
   "source": [
    "##### Algunas definiciones básicas\n",
    "\n",
    "La Oficina de Estadísticas Laborales de los Estados Unidos ha definido los conceptos básicos de empleo de la siguiente manera:\n",
    "\n",
    "- Las personas con empleo son * empleadas *.\n",
    "- Las personas que están desempleadas, en busca de empleo y disponibles para trabajar están * desempleadas *.\n",
    "- Las personas que no están empleadas ni desempleadas no están en la fuerza laboral.\n",
    "\n",
    "¿Quién no está en la fuerza laboral?\n",
    "\n",
    "- La fuerza laboral está formada por personas empleadas y desempleadas que tienen 16 años o más.\n",
    "- El resto, aquellos que no tienen trabajo y no están buscando uno, se cuentan como \"no en la fuerza laboral\". Muchos de los que no están en la fuerza laboral van a la escuela o están jubilados. Las responsabilidades familiares mantienen a otros fuera de la fuerza laboral.\n",
    "- Las personas confinadas a instituciones como las prisiones o en servicio activo en las Fuerzas Armadas están excluidas de los cálculos de la fuerza laboral.\n",
    "\n",
    "#####  Tasas de desempleo\n",
    "\n",
    "Hay una variedad de medidas utilizadas para rastrear el estado del mercado laboral de los Estados Unidos. Cada uno proporciona una visión de los factores que afectan el empleo. A continuación se presentan algunos de los más comunes:\n",
    "\n",
    "- Siempre hay algo de desempleo, con personas que cambian de trabajo y nuevos participantes en la fuerza laboral que buscan trabajo. Esto se conoce como desempleo friccional. Por este motivo, la Reserva Federal apunta a la ** tasa natural de desempleo o NAIRU **, que fue de alrededor del 5% en 2015.\n",
    "- ** La tasa de desempleo (U-3) **, medida como el número de personas desempleadas dividida por la fuerza laboral civil, aumentó de 5.0% en diciembre de 2007 a un máximo de 10.0% en octubre de 2009, antes de caer al nivel bajo del 4,7% en mayo de 2016. Esta medida excluye a las personas que no están en la fuerza laboral, lo que puede distorsionar su interpretación si un gran número de personas en edad de trabajar se desanime y deja de buscar trabajo.\n",
    "- ** La tasa de desempleo (U-6) ** es una medida más amplia del desempleo, que trata a los trabajadores adicionales como desempleados (por ejemplo, los empleados a tiempo parcial por razones económicas, etc.). La tasa U-6 aumentó de 8.8% en diciembre de 2007 a un máximo de 17.1% en noviembre de 2009, antes de caer constantemente a 9.7% en mayo de 2016.\n",
    "\n",
    "#####  Resumen de los datos utilizados\n",
    "\n",
    "Los datos utilizados a los fines de este informe representan las estadísticas de desempleo en el área local desde enero de 1990 hasta diciembre de 2016, desglosadas por estado y mes. La versión formateada de los datos en formato CSV para los fines de este análisis se obtuvo de [Kaggle] (https://www.kaggle.com/jayrav13/unemployment-by-county-us). Los datos sin formato sin procesar están disponibles aquí en el [sitio web de la Oficina de Estadísticas Laborales de los Estados Unidos] (https://data.bls.gov/map/MapToolServlet?survey=la&map=county&seasonal=u).\n",
    "\n",
    "** Nota: ** Estas tasas de desempleo son tasas generales mensuales U-3 y no están ajustadas por temporada ni categorizadas por edad, sexo, nivel de educación, etc. Tenga en cuenta que en realidad, las tasas de desempleo que se reportan generalmente se ajustan por estacionalidad. (El ajuste estacional es una técnica estadística que intenta medir y eliminar las influencias de patrones estacionales predecibles para revelar cómo el empleo y el desempleo cambian de un mes a otro)."
   ]
  },
  {
   "cell_type": "markdown",
   "metadata": {},
   "source": [
    "## Entendimiento de los Datos\n",
    "\n",
    "Con el fin de analizar y tratar de predecir el desempleo en Estados Unidos se obtuvieron 885548 observaciones y 5 variables. Los siguientes datos fueron extraidos de diferentes estudios durante 27 años \n",
    "\n",
    "\n",
    "- Year  : numérica, con un rango de 9 a 46.60.\n",
    "- Month : categórica ordinal  \"February\" \"February\" \"February\" \"February\" ...\n",
    "- State : categórica ordinal  \"Mississippi\" \"Mississippi\" \"Mississippi\" \"Mississippi\" ...\n",
    "- County: categórica ordinal  \"Newton County\" \"Panola County\" \"Monroe County\" \"Hinds County\" ...\n",
    "- Rate  : numérica  6.1 9.4 7.9 6.1 10.6 6.9 7.9 14.3 4.5 11.1 ..."
   ]
  },
  {
   "cell_type": "markdown",
   "metadata": {},
   "source": [
    "## Exploración de los Datos"
   ]
  },
  {
   "cell_type": "code",
   "execution_count": 9,
   "metadata": {
    "_cell_guid": "88ac75b4-8b26-4704-aa9e-20153f21a551",
    "_uuid": "65a06fbb457f02564a867503a60c22a8ccce7f29"
   },
   "outputs": [
    {
     "name": "stdout",
     "output_type": "stream",
     "text": [
      "'data.frame':\t885548 obs. of  5 variables:\n",
      " $ Year  : int  2015 2015 2015 2015 2015 2015 2015 2015 2015 2015 ...\n",
      " $ Month : chr  \"February\" \"February\" \"February\" \"February\" ...\n",
      " $ State : chr  \"Mississippi\" \"Mississippi\" \"Mississippi\" \"Mississippi\" ...\n",
      " $ County: chr  \"Newton County\" \"Panola County\" \"Monroe County\" \"Hinds County\" ...\n",
      " $ Rate  : num  6.1 9.4 7.9 6.1 10.6 6.9 7.9 14.3 4.5 11.1 ...\n"
     ]
    },
    {
     "data": {
      "image/png": "[encoded data removed]",
      "text/plain": [
       "Plot with title \"Tasa media anual de desempleo en Estados Unidos\""
      ]
     },
     "metadata": {},
     "output_type": "display_data"
    }
   ],
   "source": [
    "## Lee el archivo csv\n",
    "unemp.data <- read.csv('output.csv', header = TRUE, stringsAsFactors = FALSE)\n",
    "# Obtener información general sobre el conjunto de datos \n",
    "str(unemp.data)\n",
    "# Tasa de desempleo anual para los Estados Unidos desde 1990 hasta 2016\n",
    "Annual.rate <- sapply(split(unemp.data$Rate, unemp.data$Year), mean)\n",
    "Year = c(1990:2016)\n",
    "plot(Year, Annual.rate,  main = \"Tasa media anual de desempleo en Estados Unidos\")\n",
    "lines(Year, Annual.rate)"
   ]
  },
  {
   "cell_type": "code",
   "execution_count": null,
   "metadata": {
    "_cell_guid": "be0f79ad-5eb0-4cd1-90e3-9c098146e998",
    "_uuid": "7e1f3f84fccb5242491f987414802cc598a6146b"
   },
   "outputs": [],
   "source": []
  },
  {
   "cell_type": "markdown",
   "metadata": {
    "_cell_guid": "6ca5ed0c-bf97-46c2-97c0-5266827dcb15",
    "_uuid": "08ea4a6c9ec518d30e7e7ff8419dcca9d2a6e71b"
   },
   "source": [
    "Este conjunto de datos abarca más de 3 recesiones. El país pasó por una recesión en 1990. El colapso de la burbuja de Internet y los ataques del 11 de septiembre empujaron al país a otra recesión en 2001, poco después de que George W. Bush asumiera el cargo. La crisis financiera de 2007 a 2009 dio lugar a una tercera recesión. Podemos ver el aumento correspondiente en las tasas de desempleo para estos períodos de tiempo en el gráfico anterior, el más marcado es el que muestra la reciente crisis financiera."
   ]
  },
  {
   "cell_type": "markdown",
   "metadata": {},
   "source": [
    "### Preparación del conjunto de datos para su análisis.\n",
    "Este conjunto de datos tiene casi 900 mil observaciones con aproximadamente 3 mil observaciones por cada mes de cada año desde 1990 hasta 2016. A continuación, encontremos la tasa mensual promedio de desempleo para cada uno de los 27 años. Tendremos 12 observaciones por cada año de esta manera. Crearemos un conjunto de datos abreviado con estas tasas medias mensuales."
   ]
  },
  {
   "cell_type": "code",
   "execution_count": 10,
   "metadata": {
    "_cell_guid": "0cfefb88-bb0e-4827-8512-4d52f83572a0",
    "_uuid": "dd7b23d385caf829b2dfad3c14cee45ecad04ab4"
   },
   "outputs": [],
   "source": [
    "# Dividir en conjuntos de datos más pequeños clasificados por año\n",
    "sub.1990 <- subset(unemp.data, unemp.data[,1] == 1990)\n",
    "sub.1991 <- subset(unemp.data, unemp.data[,1] == 1991)\n",
    "sub.1992 <- subset(unemp.data, unemp.data[,1] == 1992)\n",
    "sub.1993 <- subset(unemp.data, unemp.data[,1] == 1993)\n",
    "sub.1994 <- subset(unemp.data, unemp.data[,1] == 1994)\n",
    "sub.1995 <- subset(unemp.data, unemp.data[,1] == 1995)\n",
    "sub.1996 <- subset(unemp.data, unemp.data[,1] == 1996)\n",
    "sub.1997 <- subset(unemp.data, unemp.data[,1] == 1997)\n",
    "sub.1998 <- subset(unemp.data, unemp.data[,1] == 1998)\n",
    "sub.1999 <- subset(unemp.data, unemp.data[,1] == 1999)\n",
    "sub.2000 <- subset(unemp.data, unemp.data[,1] == 2000)\n",
    "sub.2001 <- subset(unemp.data, unemp.data[,1] == 2001)\n",
    "sub.2002 <- subset(unemp.data, unemp.data[,1] == 2002)\n",
    "sub.2003 <- subset(unemp.data, unemp.data[,1] == 2003)\n",
    "sub.2004 <- subset(unemp.data, unemp.data[,1] == 2004)\n",
    "sub.2005 <- subset(unemp.data, unemp.data[,1] == 2005)\n",
    "sub.2006 <- subset(unemp.data, unemp.data[,1] == 2006)\n",
    "sub.2007 <- subset(unemp.data, unemp.data[,1] == 2007)\n",
    "sub.2008 <- subset(unemp.data, unemp.data[,1] == 2008)\n",
    "sub.2009 <- subset(unemp.data, unemp.data[,1] == 2009)\n",
    "sub.2010 <- subset(unemp.data, unemp.data[,1] == 2010)\n",
    "sub.2011 <- subset(unemp.data, unemp.data[,1] == 2011)\n",
    "sub.2012 <- subset(unemp.data, unemp.data[,1] == 2012)\n",
    "sub.2013 <- subset(unemp.data, unemp.data[,1] == 2013)\n",
    "sub.2014 <- subset(unemp.data, unemp.data[,1] == 2014)\n",
    "sub.2015 <- subset(unemp.data, unemp.data[,1] == 2015)\n",
    "sub.2016 <- subset(unemp.data, unemp.data[,1] == 2016)"
   ]
  },
  {
   "cell_type": "code",
   "execution_count": 11,
   "metadata": {
    "_cell_guid": "d4b6aea3-d7c9-4181-aa64-de4e5fa42c30",
    "_uuid": "e7fbc60478abdeb9719a5fbaf07f5b6671e600db"
   },
   "outputs": [],
   "source": [
    "#Preparar los datos para el análisis de series de tiempo\n",
    "# Tasa de empleo mensual promedio ordenada por año para todos los EE. UU.\n",
    "mean1990 <- sapply(split(sub.1990$Rate, factor(sub.1990$Month, month.name, ordered=TRUE)), mean) \n",
    "mean1991 <- sapply(split(sub.1991$Rate, factor(sub.1991$Month, month.name, ordered=TRUE)), mean) \n",
    "mean1992 <- sapply(split(sub.1992$Rate, factor(sub.1992$Month, month.name, ordered=TRUE)), mean) \n",
    "mean1993 <- sapply(split(sub.1993$Rate, factor(sub.1993$Month, month.name, ordered=TRUE)), mean) \n",
    "mean1994 <- sapply(split(sub.1994$Rate, factor(sub.1994$Month, month.name, ordered=TRUE)), mean) \n",
    "mean1995 <- sapply(split(sub.1995$Rate, factor(sub.1995$Month, month.name, ordered=TRUE)), mean) \n",
    "mean1996 <- sapply(split(sub.1996$Rate, factor(sub.1996$Month, month.name, ordered=TRUE)), mean) \n",
    "mean1997 <- sapply(split(sub.1997$Rate, factor(sub.1997$Month, month.name, ordered=TRUE)), mean) \n",
    "mean1998 <- sapply(split(sub.1998$Rate, factor(sub.1998$Month, month.name, ordered=TRUE)), mean) \n",
    "mean1999 <- sapply(split(sub.1999$Rate, factor(sub.1999$Month, month.name, ordered=TRUE)), mean) \n",
    "mean2000 <- sapply(split(sub.2000$Rate, factor(sub.2000$Month, month.name, ordered=TRUE)), mean) \n",
    "mean2001 <- sapply(split(sub.2001$Rate, factor(sub.2001$Month, month.name, ordered=TRUE)), mean) \n",
    "mean2002 <- sapply(split(sub.2002$Rate, factor(sub.2002$Month, month.name, ordered=TRUE)), mean) \n",
    "mean2003 <- sapply(split(sub.2003$Rate, factor(sub.2003$Month, month.name, ordered=TRUE)), mean) \n",
    "mean2004 <- sapply(split(sub.2004$Rate, factor(sub.2004$Month, month.name, ordered=TRUE)), mean) \n",
    "mean2005 <- sapply(split(sub.2005$Rate, factor(sub.2005$Month, month.name, ordered=TRUE)), mean) \n",
    "mean2006 <- sapply(split(sub.2006$Rate, factor(sub.2006$Month, month.name, ordered=TRUE)), mean) \n",
    "mean2007 <- sapply(split(sub.2007$Rate, factor(sub.2007$Month, month.name, ordered=TRUE)), mean) \n",
    "mean2008 <- sapply(split(sub.2008$Rate, factor(sub.2008$Month, month.name, ordered=TRUE)), mean) \n",
    "mean2009 <- sapply(split(sub.2009$Rate, factor(sub.2009$Month, month.name, ordered=TRUE)), mean) \n",
    "mean2010 <- sapply(split(sub.2010$Rate, factor(sub.2010$Month, month.name, ordered=TRUE)), mean) \n",
    "mean2011 <- sapply(split(sub.2011$Rate, factor(sub.2011$Month, month.name, ordered=TRUE)), mean) \n",
    "mean2012 <- sapply(split(sub.2012$Rate, factor(sub.2012$Month, month.name, ordered=TRUE)), mean) \n",
    "mean2013 <- sapply(split(sub.2013$Rate, factor(sub.2013$Month, month.name, ordered=TRUE)), mean) \n",
    "mean2014 <- sapply(split(sub.2014$Rate, factor(sub.2014$Month, month.name, ordered=TRUE)), mean) \n",
    "mean2015 <- sapply(split(sub.2015$Rate, factor(sub.2015$Month, month.name, ordered=TRUE)), mean) \n",
    "mean2016 <- sapply(split(sub.2016$Rate, factor(sub.2016$Month, month.name, ordered=TRUE)), mean) "
   ]
  },
  {
   "cell_type": "code",
   "execution_count": 12,
   "metadata": {
    "_cell_guid": "52fab72a-360e-4e53-895e-2578f49c365e",
    "_uuid": "ae89ba2120383e5fe5e9c2fce643554a713581e9"
   },
   "outputs": [],
   "source": [
    "#Crear un marco de datos de tasas medias mensuales por año\n",
    "mean.monthly.rate = data.frame('year'=c(rep(1990,12),rep(1991,12),rep(1992,12),rep(1993,12),rep(1994,12),rep(1995,12),\n",
    "                         rep(1996,12),rep(1997,12),rep(1998,12),rep(1999,12),rep(2000,12),rep(2001,12),rep(2002,12),rep(2003,12),\n",
    "                         rep(2004,12),rep(2005,12),rep(2006,12),rep(2007,12),rep(2008,12),rep(2009,12),rep(2010,12),\n",
    "                         rep(2011,12),rep(2012,12),rep(2013,12),rep(2014,12),rep(2015,12),rep(2016,12)),\n",
    "                'month' = rep(c('Jan','Feb','Mar','Apr','May','Jun','Jul','Aug','Sep','Oct','Nov','Dec'),27),\n",
    "                'rate' = c(mean1990,mean1991,mean1992,mean1993,mean1994,mean1995,mean1996,mean1997,mean1998,mean1999,\n",
    "                           mean2000,mean2001,mean2002,mean2003,mean2004,mean2005,mean2006,mean2007,mean2008,mean2009,\n",
    "                           mean2010,mean2011,mean2012,mean2013,mean2014,mean2015,mean2016))"
   ]
  },
  {
   "cell_type": "code",
   "execution_count": 13,
   "metadata": {
    "_cell_guid": "30d29ce7-dec5-4d3c-84f5-ea52041fa15e",
    "_uuid": "1cdbab240742680ad1154783af744731dd30746f"
   },
   "outputs": [
    {
     "data": {
      "text/html": [
       "<table>\n",
       "<caption>A data.frame: 6 × 3</caption>\n",
       "<thead>\n",
       "\t<tr><th scope=col>year</th><th scope=col>month</th><th scope=col>rate</th></tr>\n",
       "\t<tr><th scope=col>&lt;dbl&gt;</th><th scope=col>&lt;fct&gt;</th><th scope=col>&lt;dbl&gt;</th></tr>\n",
       "</thead>\n",
       "<tbody>\n",
       "\t<tr><td>1990</td><td>Jan</td><td>7.055016</td></tr>\n",
       "\t<tr><td>1990</td><td>Feb</td><td>7.123685</td></tr>\n",
       "\t<tr><td>1990</td><td>Mar</td><td>6.516672</td></tr>\n",
       "\t<tr><td>1990</td><td>Apr</td><td>6.006778</td></tr>\n",
       "\t<tr><td>1990</td><td>May</td><td>5.614321</td></tr>\n",
       "\t<tr><td>1990</td><td>Jun</td><td>5.704363</td></tr>\n",
       "</tbody>\n",
       "</table>\n"
      ],
      "text/latex": [
       "A data.frame: 6 × 3\n",
       "\\begin{tabular}{r|lll}\n",
       " year & month & rate\\\\\n",
       " <dbl> & <fct> & <dbl>\\\\\n",
       "\\hline\n",
       "\t 1990 & Jan & 7.055016\\\\\n",
       "\t 1990 & Feb & 7.123685\\\\\n",
       "\t 1990 & Mar & 6.516672\\\\\n",
       "\t 1990 & Apr & 6.006778\\\\\n",
       "\t 1990 & May & 5.614321\\\\\n",
       "\t 1990 & Jun & 5.704363\\\\\n",
       "\\end{tabular}\n"
      ],
      "text/markdown": [
       "\n",
       "A data.frame: 6 × 3\n",
       "\n",
       "| year &lt;dbl&gt; | month &lt;fct&gt; | rate &lt;dbl&gt; |\n",
       "|---|---|---|\n",
       "| 1990 | Jan | 7.055016 |\n",
       "| 1990 | Feb | 7.123685 |\n",
       "| 1990 | Mar | 6.516672 |\n",
       "| 1990 | Apr | 6.006778 |\n",
       "| 1990 | May | 5.614321 |\n",
       "| 1990 | Jun | 5.704363 |\n",
       "\n"
      ],
      "text/plain": [
       "  year month rate    \n",
       "1 1990 Jan   7.055016\n",
       "2 1990 Feb   7.123685\n",
       "3 1990 Mar   6.516672\n",
       "4 1990 Apr   6.006778\n",
       "5 1990 May   5.614321\n",
       "6 1990 Jun   5.704363"
      ]
     },
     "metadata": {},
     "output_type": "display_data"
    },
    {
     "name": "stdout",
     "output_type": "stream",
     "text": [
      "'data.frame':\t324 obs. of  3 variables:\n",
      " $ year : num  1990 1990 1990 1990 1990 1990 1990 1990 1990 1990 ...\n",
      " $ month: Factor w/ 12 levels \"Apr\",\"Aug\",\"Dec\",..: 5 4 8 1 9 7 6 2 12 11 ...\n",
      " $ rate : num  7.06 7.12 6.52 6.01 5.61 ...\n"
     ]
    }
   ],
   "source": [
    "#Las primeras filas de este conjunto de datos\n",
    "head(mean.monthly.rate)\n",
    "str(mean.monthly.rate)"
   ]
  },
  {
   "cell_type": "markdown",
   "metadata": {
    "_cell_guid": "fae0b0e1-82f7-46ab-827b-c7b384f8000c",
    "_uuid": "a608c6f91e0303fb078f8fe5407785e26938310c"
   },
   "source": [
    "Exiten 324 observaciones en este nuevo conjunto de datos. Hemos reducido de casi 3k observaciones por mes por año a una observación por mes por año al tomar el promedio mensual. Este conjunto de datos ahora está listo para su posterior análisis.\n",
    "\n",
    "### Trabajando con series de tiempo en R\n",
    "\n",
    "R contiene varias clases de series de tiempo. En este caso, trabajaremos con la clase `ts` básica. Una clase poderosa de `zoo` proporciona más capacidades. El paquete `xts` agrega extensibilidad a la clase` zoo`. Muchas otras clases de series de tiempo R están disponibles.\n",
    "\n",
    "Los siguientes paquetes son necesarios para su posterior análisis:"
   ]
  },
  {
   "cell_type": "code",
   "execution_count": 14,
   "metadata": {
    "_cell_guid": "b31d4513-6408-450e-81b8-1d8244f17a11",
    "_uuid": "8090f7b2f382e820ce2bc1035f007668a7e31303"
   },
   "outputs": [],
   "source": [
    "#Evitar mostrar warning messages\n",
    "options(warn=-1)\n",
    "# Cargar paquetes y funciones requeridos\n",
    "require(repr)\n",
    "require(forecast)"
   ]
  },
  {
   "cell_type": "markdown",
   "metadata": {
    "_cell_guid": "78b3c729-fef5-4ce1-aa18-6b6bcec69531",
    "_uuid": "b9e5b7e6833971d230886e14fa654926190cc848"
   },
   "source": [
    "Ahora, vamos a crear un objeto de series de tiempo de clase de R ts simple para la tasa de desempleo nacional de los Estados Unidos a partir del conjunto de datos anterior."
   ]
  },
  {
   "cell_type": "code",
   "execution_count": 15,
   "metadata": {
    "_cell_guid": "1bdeb15d-1f00-4b87-9437-740956cb8da7",
    "_uuid": "5804452b41b1c12b0501191c3730ce80cdbaa53b"
   },
   "outputs": [
    {
     "data": {
      "image/png": "[encoded data removed]",
      "text/plain": [
       "Plot with title \"Gráfico de series de tiempo de la tasa de desempleo en los Estados Unidos\""
      ]
     },
     "metadata": {},
     "output_type": "display_data"
    },
    {
     "data": {
      "image/png": "[encoded data removed]",
      "text/plain": [
       "Plot with title \"Serie temporal de registro Tasa de desempleo en los Estados Unidos\""
      ]
     },
     "metadata": {},
     "output_type": "display_data"
    }
   ],
   "source": [
    "#Convierte a series de tiempo usando la función ts\n",
    "US.UnempRate.ts <- ts(mean.monthly.rate[,3], start = 1990, freq = 12)\n",
    "\n",
    "#Gráfico the time series\n",
    "options(repr.pmales.extlot.width=8, repr.plot.height=4)\n",
    "plot(US.UnempRate.ts, main = 'Gráfico de series de tiempo de la tasa de desempleo en los Estados Unidos')\n",
    "\n",
    "options(repr.pmales.extlot.width=8, repr.plot.height=4)\n",
    "plot(log(US.UnempRate.ts), main = 'Serie temporal de registro Tasa de desempleo en los Estados Unidos')"
   ]
  },
  {
   "cell_type": "markdown",
   "metadata": {
    "_cell_guid": "ea37ce88-1b9c-4418-b7dd-414f0030f29c",
    "_uuid": "a260b6fc90301336b56b59df32c7e8de9a636fae"
   },
   "source": [
    "Decimos que una serie de tiempo con una variación constante es **estacionaria**. Las propiedades de una serie temporal estacionaria no varían con el tiempo.\n",
    "\n",
    "Existe un patrón **estacional** cuando una serie está influenciada por factores estacionales (por ejemplo, el trimestre del año, el mes o el día de la semana). La estacionalidad es siempre *de un período fijo y conocido*. Por lo tanto, las series temporales estacionales a veces se denominan **periódicas** series temporales.\n",
    "\n",
    "Existe un patrón **cíclico** cuando los datos muestran subidas y caídas que *no son de período fijo*. Por ejemplo, los ciclos económicos que suelen durar varios años, pero de antemano se desconoce la duración del ciclo actual.\n",
    "\n",
    "Existe una **tendencia** cuando hay un aumento o disminución a largo plazo en los datos. No tiene que ser lineal. A veces nos referiremos a una tendencia que \"cambia de dirección\" cuando podría ir de una tendencia creciente a una tendencia decreciente.\n",
    "\n",
    "En el gráfico anterior, notamos las siguientes propiedades de esta serie de tiempo.\n",
    "\n",
    "- Esta serie temporal tiene una tendencia significativa.\n",
    "- Tiene un componente estacional.\n",
    "- Tiene un patrón cíclico mostrado por el aumento y la caída de las tasas de desempleo correspondientes a las recesiones y expansiones.\n",
    "- La duración del ciclo (en años) varía con el tiempo.\n",
    "- El gráfico de la serie logarítmica transformada parece tener un tamaño ligeramente más uniforme para el componente estacional que el no transformado. Así que vamos a utilizar la serie de log transformado para un análisis más detallado\n",
    "\n",
    "Cualquier serie temporal con una tendencia implica que varía con el tiempo, lo que significa que no es estacionario**.\n",
    "\n",
    "Una serie temporal estacionaria sin patrón estacional o cíclico y sin tendencia perceptible se dice que es **independiente distribuida de manera idéntica** o **i.i.d.** An i.i.d. Las series de tiempo tienen una distribución normal con una distribución en forma de campana y una gráfica Q-Q de línea recta. Tal serie de tiempo también se llama ruido blanco.\n",
    "\n",
    "Vamos a trazar la distribución de nuestras series de tiempo a continuación:"
   ]
  },
  {
   "cell_type": "code",
   "execution_count": 16,
   "metadata": {
    "_cell_guid": "6c85eebf-d454-494e-a25d-518e78db5da3",
    "_uuid": "1102c410663b759d5acbcdd5f2c7fdbbbe778b2e"
   },
   "outputs": [
    {
     "data": {
      "image/png": "[encoded data removed]",
      "text/plain": [
       "Plot with title \"Q-Q Normal plot of US Unemp Rate\""
      ]
     },
     "metadata": {},
     "output_type": "display_data"
    }
   ],
   "source": [
    "# Gráfico la distribución - histograma y QQ de la serie temporal\n",
    "dist.ts = function(df, col = 'residual', bins = 40)\n",
    "{\n",
    "  par(mfrow = c(1,2))\n",
    "  temp = as.vector(df)\n",
    "  breaks = seq(min(temp), max(temp), length.out = (bins + 1))\n",
    "  hist(temp, breaks = breaks, main = paste('Distribution of', col), xlab = col)\n",
    "  qqnorm(temp, main = paste('Q-Q Normal plot of', col))\n",
    "  par(mfrow = c(1,1))\n",
    "}\n",
    "\n",
    "options(repr.pmales.extlot.width=8, repr.plot.height=4)\n",
    "dist.ts(log(US.UnempRate.ts), col = 'US Unemp Rate')"
   ]
  },
  {
   "cell_type": "markdown",
   "metadata": {
    "_cell_guid": "c2b58ee2-4c83-468e-b24f-543259480311",
    "_uuid": "802dfe3e874160b590bf952c076f839a658d4ddf"
   },
   "source": [
    "La gráfica Q-Q no es una línea recta y, por lo tanto, esto no es un i.i.d. distribución normal. Esto confirma nuestros hallazgos iniciales de que este conjunto de datos tiene ciertos patrones y tendencias inherentes.\n",
    "\n",
    "A continuación exploremos algunas formas de detectar patrones.\n",
    "\n",
    "**Autocorrelación**, también conocida como correlación en serie, es la correlación de una serie de tiempo con una copia retrasada de sí misma. Informalmente, es la similitud entre las observaciones en función del tiempo de retraso entre ellas. El análisis de la autocorrelación es una herramienta matemática para encontrar patrones repetitivos, como la presencia de periodicidad o estacionalidad.\n",
    "\n",
    "En estadística, la autocorrelación de un proceso aleatorio es la correlación de Pearson entre los valores del proceso en diferentes momentos, en función de los dos tiempos o del retraso. Esto se denomina función de correlación automática o ACF. El ACF es una de las herramientas utilizadas para encontrar patrones en los datos. Específicamente, el ACF le indica la correlación entre puntos separados por varios retrasos de tiempo. Tenga en cuenta que para cualquier serie, la autocorrleación en el retardo cero es igual a uno.\n",
    "\n",
    "También podemos definir una segunda orden **autocorrelación parcial**. La función de autocorrelación parcial (PACF) proporciona la correlación parcial de una serie de tiempo con sus propios valores rezagados, controlando los valores de la serie de tiempo en todos los rezagos más cortos. Contrasta con la función de autocorrelación, que no controla para otros retrasos. Esta función desempeña un papel importante en los análisis de datos dirigidos a identificar la extensión del retraso en un modelo autorregresivo (AR), que describiremos en breve.\n",
    "\n",
    "Ahora, vamos a trazar el ACF y PACF de nuestros datos de tasa de desempleo"
   ]
  },
  {
   "cell_type": "code",
   "execution_count": 17,
   "metadata": {
    "_cell_guid": "63fb82b0-b907-4fb6-81f7-628995bf4d4e",
    "_uuid": "1fa09f8df6eebbc6f1e323c34511d771fdf3a636"
   },
   "outputs": [
    {
     "data": {
      "image/png": "[encoded data removed]",
      "text/plain": [
       "Plot with title \"PACF de Tasa de desempleado US\""
      ]
     },
     "metadata": {},
     "output_type": "display_data"
    }
   ],
   "source": [
    "#Funciones de autocorrelación y autocorrelación parcial\n",
    "plot.acf <- function(df, col = 'remainder', is.df =TRUE)\n",
    "{\n",
    "  if(is.df) temp <- df[, col]\n",
    "  else temp <- df\n",
    "  par(mfrow = c(2,1))\n",
    "  acf(temp, main = paste('ACF de', col))\n",
    "  pacf(temp, main = paste('PACF de', col))\n",
    "  par(mfrow = c(1,1))\n",
    "}\n",
    "      \n",
    "options(repr.pmales.extlot.width=8, repr.plot.height=6)\n",
    "plot.acf(log(US.UnempRate.ts), col = 'Tasa de desempleado US', is.df = F)"
   ]
  },
  {
   "cell_type": "markdown",
   "metadata": {
    "_cell_guid": "e9dd39bd-6f56-4fb7-9d8b-4d212810cbec",
    "_uuid": "728aa67b145027d7baa80a09c3840e0859977da2"
   },
   "source": [
    "Las líneas de puntos azules en los gráficos ACF y PACF son los intervalos de confianza del 95% para los valores de correlación. Las líneas verticales muestran la correlación. Cualquier línea vertical que cruce las líneas punteadas azules indica un valor de correlación significativo. Un i.i.d. las series de tiempo normalmente distribuidas no tendrán valores significativos de ACF o PACF más allá del retraso 0. En este caso, el gráfico de ACF tiene varios retrasos significativos no cero y muestra cierto patrón de aumento y caída. También el ACF está disminuyendo o decayendo lentamente. La gráfica PACF muestra valores significativos para más de un retraso, lo que indica que podría haber una tendencia. Esto claramente no es una serie temporal estacionaria.\n",
    "\n",
    "El proceso de extracción de la tendencia, el ciclo y los componentes estacionales se denomina descomposición. A continuación, veremos los métodos de descomposición.\n",
    "\n",
    "**Descomposición basada en tasas de cambio**\n",
    "\n",
    "Esta es una técnica importante para todos los tipos de análisis de series de tiempo, especialmente para el ajuste estacional. Busca construir, a partir de una serie temporal observada, una serie de componentes (que podrían usarse para reconstruir el original mediante adiciones o multiplicaciones) donde cada una de ellas tiene una cierta característica o tipo de comportamiento. Por ejemplo, las series de tiempo generalmente se descomponen en:\n",
    "\n",
    "$ T_t $, el componente de tendencia en el tiempo t, que refleja la progresión a largo plazo de la serie.\n",
    "\n",
    "$ C_t $, el componente cíclico en el momento t, que describe fluctuaciones repetidas pero no periódicas.\n",
    "\n",
    "$ S_t $, el componente estacional en el tiempo t, que refleja la estacionalidad.\n",
    "\n",
    "$ I_t $, el componente irregular (o \"ruido\") en el tiempo t, que describe influencias aleatorias e irregulares. Esta es la parte de la serie que no se puede atribuir a los componentes estacionales, de ciclo o de tendencia y se conoce como residual, resto o error. Por lo tanto, una serie temporal que utiliza un modelo aditivo se puede considerar como:\n",
    "\n",
    "$ y_t $ = $ T_t $ + $ C_t $ + $ S_t $ + $ I_t $\n",
    "\n",
    "mientras que, un modelo multiplicativo sería:\n",
    "\n",
    "$ y_t $ = $ T_t $ x $ C_t $ x $ S_t $ x $ I_t $\n",
    "\n",
    "Se usaría un modelo aditivo cuando las variaciones en torno a la tendencia no varíen con el nivel de las series temporales, mientras que como modelo multiplicativo sería apropiado si la tendencia es proporcional al nivel de las series temporales.\n",
    "\n",
    "### Descomposición de STL\n",
    "\n",
    "A veces, la tendencia y los componentes cíclicos se agrupan en uno, llamado componente de tendencia-ciclo. El componente de ciclo de tendencia se puede denominar simplemente componente de \"tendencia\", aunque puede contener un comportamiento cíclico. Por ejemplo, una descomposición estacional de series de tiempo, conocida como **S** easonal & **T** rend **descomposición** utilizando **L** oess o **STL**, descompone una serie de tiempo en componentes estacionales, de tendencia e irregulares utilizando loess y grafican los componentes por separado, por lo que el componente cíclico (si está presente en los datos) se incluye en el gráfico del componente de \"tendencia\".\n",
    "\n",
    "Como su nombre indica, este modelo hace lo siguiente:\n",
    "\n",
    "- La tendencia se elimina utilizando un modelo de regresión LOESS.\n",
    "- El componente estacional se elimina mediante una regresión en componentes periódicos.\n",
    "- El resto se conoce como el residual.\n",
    "\n",
    "A continuación, aplicaremos el modelo de descomposición STL a nuestras series de tiempo transformadas de registro y veremos si esto elimina efectivamente la tendencia y la estacionalidad."
   ]
  },
  {
   "cell_type": "code",
   "execution_count": 18,
   "metadata": {
    "_cell_guid": "40e6ffba-76d7-4654-89e2-8b941fad6991",
    "_uuid": "a625c47b8fa3adaa72f777b4cfd729f3b4e3f6f8"
   },
   "outputs": [
    {
     "name": "stdout",
     "output_type": "stream",
     "text": [
      " Time-Series [1:324, 1:3] from 1990 to 2017: 0.1571 0.1441 0.096 -0.0243 -0.0507 ...\n",
      " - attr(*, \"dimnames\")=List of 2\n",
      "  ..$ : NULL\n",
      "  ..$ : chr [1:3] \"seasonal\" \"trend\" \"remainder\"\n"
     ]
    },
    {
     "data": {
      "image/png": "[encoded data removed]",
      "text/plain": [
       "Plot with title \"Decompositon of US Unemp Rate with loess span =  0.13\""
      ]
     },
     "metadata": {},
     "output_type": "display_data"
    },
    {
     "data": {
      "image/png": "[encoded data removed]",
      "text/plain": [
       "Plot with title \"PACF de remainder\""
      ]
     },
     "metadata": {},
     "output_type": "display_data"
    }
   ],
   "source": [
    "# Función para la descomposición STL de una serie de tiempo en componentes\n",
    "ts.decomp <- function(df, col = 'Series Name', span = 0.13, Mult = TRUE)\n",
    "{\n",
    "  if(Mult) temp = log(df)  else temp = df\n",
    "  spans = span * length(temp)  \n",
    "  fit <- stl(temp, s.window = \"periodic\", t.window = spans)\n",
    "  plot(fit, main = paste('Decompositon of',col,'with loess span = ', as.character(span)))\n",
    "  fit$time.series\n",
    "}\n",
    "\n",
    "US.Unemp.decomp <- ts.decomp(log(US.UnempRate.ts), col = 'US Unemp Rate', Mult = FALSE)\n",
    "str(US.Unemp.decomp)\n",
    "\n",
    "#Plot the ACF & PACF of the remainder\n",
    "options(repr.pmales.extlot.width=8, repr.plot.height=6)\n",
    "plot.acf(US.Unemp.decomp[, 3], is.df = FALSE)"
   ]
  },
  {
   "cell_type": "markdown",
   "metadata": {
    "_cell_guid": "b99e2e5a-6962-4280-b390-336f7d46c08a",
    "_uuid": "8afd5c16d7313e60e92cd13713aee7b4ccc1ad76"
   },
   "source": [
    "Si el proceso STL ha eliminado la tendencia y los patrones con éxito, la distribución del resto o residual debe ser i.i.d. con ACF y PACF que no muestran retrasos significativos distintos de cero. De los trazados de ACF y PACF del residuo, todavía vemos algunos valores significativos de retardo no cero. Así que el proceso STL no ha eliminado la tendencia o los patrones completamente.\n",
    "\n",
    "## Modelos ARIMA para la serie residual.\n",
    "\n",
    "Ahora que hemos investigado las propiedades básicas de las series de tiempo y el método de descomposición de STL, investiguemos los modelos para tratar los residuos. Trabajaremos con lo que se conoce y los modelos **modelo autorregresivo integrado de promedio móvil** o **ARIMA**. En su núcleo, estos modelos son solo casos especiales de regresión lineal.\n",
    "\n",
    "### Modelo Autoregresivo\n",
    "\n",
    "Los valores de una serie de tiempo **autoregrisiva** o **AR** se determinan mediante una combinación lineal de los valores pasados. En otras palabras, el modelo AR representa la correlación serial en los valores de la serie de tiempo. Podemos escribir el valor de una serie autorregresiva o **ordenar p** o **AR (p)** series en el momento t como:\n",
    "\n",
    "$$ x_t = \\ alpha_1 x_ {t-1} + \\ alpha_2 x_ {t-2} \\ dots \\ alpha_p x_ {t-p} + w_t $$\n",
    "\n",
    "Un proceso AR tiene las siguientes propiedades:\n",
    "\n",
    "- $ \\ rho_0 = 1 $ siempre.\n",
    "- $ p_k = \\ alpha ^ k $\n",
    "- Número de valores de PACF distintos de cero = p.\n",
    "\n",
    "Los modelos AR son específicamente para **series temporales estacionarias**. Si la varianza no es constante o el componente de tendencia no se ha eliminado, los modelos AR no producirán resultados estadísticos.\n",
    "\n",
    "### Modelo de media móvil\n",
    "\n",
    "Para un modelo **de media móvil** o **MA**, el valor de la serie de tiempo en el tiempo `t` está determinado por una combinación lineal de términos de ruido blanco pasados. En otras palabras, el modelo de MA explica la correlación de series en términos de ruido. Podemos escribir el modelo MA (q) como la combinación lineal de los últimos términos de ruido blanco `q` $ w_i $:\n",
    "\n",
    "$$ x_t = w_t + \\ beta_1 w_ {t-1} + \\ beta_2 w_ {t-2} + \\ cdots + \\ beta_q w_ {t-q} $$\n",
    "\n",
    "Un proceso de MA tiene las siguientes propiedades:\n",
    "\n",
    "- $ \\ rho_0 = 1 $ siempre. (Auto correlación en el retraso 0)\n",
    "- Número de $ \\ rho_k distinto de cero; k \\ ne 0 $ valores = q. (auto correlación en el retraso k)\n",
    "\n",
    "Los modelos MA son específicamente para **series de tiempo estacionarias**. Si la varianza no es constante o el componente de tendencia no se ha eliminado, los modelos MA no producirán resultados estadísticos.\n",
    "\n",
    "### El modelo de media móvil autoregresivo\n",
    "\n",
    "Podemos combinar los modelos AR y MA para crear un **modelo de media móvil autorregresiva** o **ARMA**. Este modelo explica la correlación serial tanto en términos de ruido como en valores. Podemos escribir un modelo ARMA de orden `(p, q)` como:\n",
    "\n",
    "$$ x_t = \\ alpha_1 x_ {t-1} + \\ alpha_2 x_ {t-2} \\ dots \\ alpha_p x_ {t-p}\n",
    "w_t + \\ beta_1 w_ {t-1} + \\ beta_2 w_ {t-2} + \\ cdots + \\ beta_q w_ {t-q} $$\n",
    "\n",
    "### Modelo de media móvil integrada autoregresiva\n",
    "\n",
    "El modelo **de media móvil integrada autorregresiva**, o **ARIMA** agrega un término integrador al modelo ARMA. El componente de integración realiza la diferenciación para modelar un componente de paseo aleatorio. El componente integrante modela una de las **partes no estacionarias** de una serie de tiempo. El modelo ARIMA está definido por órdenes p, d, q. El orden del operador de diferenciación del término integrador está definido por `d`.\n",
    "\n",
    "Ahora, intentemos estimar los parámetros ARIMA (p, d, q) de la serie de tiempo (recuerde, esta es una serie de tiempo no estacionaria) e imprimimos un resumen del mejor modelo y trazamos el ACF y el PACF del residual."
   ]
  },
  {
   "cell_type": "code",
   "execution_count": 26,
   "metadata": {
    "_cell_guid": "7d1f51b9-32ba-43b7-ab54-70358a2b0947",
    "_uuid": "d1b40f09e1a8be96fbf12115c1347090edd0f9c7"
   },
   "outputs": [
    {
     "name": "stdout",
     "output_type": "stream",
     "text": [
      "\n",
      "Call:\n",
      "arima(x = ts, order = order, include.mean = FALSE)\n",
      "\n",
      "Coefficients:\n",
      "         ar1      ma1\n",
      "      0.8087  -0.0436\n",
      "s.e.  0.0382   0.0577\n",
      "\n",
      "sigma^2 estimated as 0.0007505:  log likelihood = 705.32,  aic = -1404.64\n",
      "\n",
      "Call:\n",
      "arima(x = ts, order = order, include.mean = FALSE)\n",
      "\n",
      "Coefficients:\n",
      "          ma1\n",
      "      -0.1288\n",
      "s.e.   0.0516\n",
      "\n",
      "sigma^2 estimated as 0.0008241:  log likelihood = 688.52,  aic = -1373.05\n",
      "\n",
      "Call:\n",
      "arima(x = ts, order = order, include.mean = FALSE)\n",
      "\n",
      "Coefficients:\n",
      "         ar1      ma1     ma2      ma3\n",
      "      0.7174  -0.9800  0.2555  -0.2754\n",
      "s.e.  0.0575   0.0701  0.0774   0.0696\n",
      "\n",
      "sigma^2 estimated as 0.0007203:  log likelihood = 708.32,  aic = -1406.63\n",
      "\n",
      "Call:\n",
      "arima(x = ts, order = order, include.mean = FALSE)\n",
      "\n",
      "Coefficients:\n",
      "          ma1      ma2      ma3      ma4      ma5\n",
      "      -0.1625  -0.0053  -0.1550  -0.2964  -0.0006\n",
      "s.e.   0.0580   0.0614   0.0731   0.0618   0.0617\n",
      "\n",
      "sigma^2 estimated as 0.000757:  log likelihood = 701.95,  aic = -1391.89\n",
      "\n",
      "Call:\n",
      "arima(x = ts, order = order, include.mean = FALSE)\n",
      "\n",
      "Coefficients:\n",
      "         ar1      ar2      ma1     ma2      ma3\n",
      "      0.8605  -0.1226  -1.1136  0.3919  -0.2783\n",
      "s.e.  0.2490   0.2017   0.2403  0.2359   0.0687\n",
      "\n",
      "sigma^2 estimated as 0.0007191:  log likelihood = 708.54,  aic = -1405.09\n",
      "\n",
      "Call:\n",
      "arima(x = ts, order = order, include.mean = FALSE)\n",
      "\n",
      "Coefficients:\n",
      "          ar1     ar2     ar3     ma1     ma2     ma3     ma4\n",
      "      -1.0076  0.2590  0.7093  1.8248  1.3592  0.5135  0.2456\n",
      "s.e.   0.0557  0.0958  0.0563  0.0696  0.1589  0.1603  0.0702\n",
      "\n",
      "sigma^2 estimated as 0.0006552:  log likelihood = 725.9,  aic = -1435.8\n",
      "\n",
      "Call:\n",
      "arima(x = ts, order = order, include.mean = FALSE)\n",
      "\n",
      "Coefficients:\n",
      "         ar1      ar2      ar3      ar4      ma1     ma2     ma3     ma4\n",
      "      1.0415  -0.2645  -0.1388  -0.0450  -0.2926  0.2524  0.1708  0.0666\n",
      "s.e.  0.1885   0.2460   0.2557   0.1586   0.1803  0.1862  0.1637  0.0779\n",
      "         ma5\n",
      "      0.3459\n",
      "s.e.  0.0618\n",
      "\n",
      "sigma^2 estimated as 0.0006718:  log likelihood = 722.95,  aic = -1425.89\n",
      "\n",
      "Call:\n",
      "arima(x = ts, order = order, include.mean = FALSE)\n",
      "\n",
      "Coefficients:\n",
      "          ar1     ar2     ar3      ar4     ma1      ma2      ma3      ma4\n",
      "      -0.8034  0.4454  0.6207  -0.1675  0.6331  -0.6143  -0.7050  -0.0755\n",
      "s.e.   0.3228  0.3061  0.1442   0.2595  0.3158   0.2735   0.2231   0.3362\n",
      "          ma5\n",
      "      -0.2382\n",
      "s.e.   0.0740\n",
      "\n",
      "sigma^2 estimated as 0.0006557:  log likelihood = 722.13,  aic = -1424.27\n",
      "Sigma^2 of the original series =  0.046737234933687"
     ]
    }
   ],
   "source": [
    "#ARIMA model estimation for STL remainder\n",
    "ts.model = function(ts, col = 'remainder', order = c(0,0,1))\n",
    "{\n",
    "  mod = arima(ts, order = order, include.mean = FALSE)\n",
    "  print(mod)\n",
    "  mod\n",
    "}\n",
    "\n",
    "arima.estimate1 <- ts.model(US.Unemp.decomp[, 3], order = c(1,0,1))#ARIMA(1,0,1) model\n",
    "arima.estimate2 <- ts.model(US.Unemp.decomp[, 3], order = c(0,1,1))#ARIMA(0,1,1) model\n",
    "arima.estimate3 <- ts.model(US.Unemp.decomp[, 3], order = c(1,1,3))#ARIMA(1,1,3) model \n",
    "arima.estimate4 <- ts.model(US.Unemp.decomp[, 3], order = c(0,1,5))#ARIMA(0,1,5) model\n",
    "arima.estimate5 <- ts.model(US.Unemp.decomp[, 3], order = c(2,1,3))#ARIMA(2,1,3) model\n",
    "arima.estimate6 <- ts.model(US.Unemp.decomp[, 3], order = c(3,0,4))#ARIMA(3,0,4) model\n",
    "arima.estimate7 <- ts.model(US.Unemp.decomp[, 3], order = c(4,0,5))#ARIMA(4,0,5) model\n",
    "arima.estimate8 <- ts.model(US.Unemp.decomp[, 3], order = c(4,1,5))#ARIMA(4,1,5) model\n",
    "\n",
    "cat(paste('Sigma^2 of the original series = ', as.character(var(log(US.UnempRate.ts)))))"
   ]
  },
  {
   "cell_type": "markdown",
   "metadata": {
    "_cell_guid": "13f8132d-baba-43d9-9a14-3b4272732ee4",
    "_uuid": "05821df83b115e21614972049055617b5b2f9742"
   },
   "source": [
    "**De los resultados anteriores notamos que:**\n",
    "\n",
    "El modelo ARIMA (3,0,4) con los siguientes coeficientes tiene el menor AIC (Criterios de información de Akaike)\n",
    "\n",
    "**Coeficientes:**\n",
    "\n",
    "| - | ar1 | ar2 | ar3 | ma1 | ma2 | ma3 | ma4 |\n",
    "| - | -------- | ------- | -------- | -------- | -------- | ---- ---- | -------- |\n",
    "| - | -1.0076 | 0,2590 | 0.7093 | 1.8248 | 1.3592 | 0.5135 | 0.2456 |\n",
    "| es decir. | 0.0557 | 0.0958 | 0.0563 | 0.0696 | 0,1589 | 0.1603 | 0.0702 |\n",
    "\n",
    "sigma ^ 2 estimado como 0.0006552: probabilidad de registro = 725.9, aic = -1435.8\n",
    "\n",
    "- Todos los coeficientes son significativos (el error estándar asociado con estos coeficientes es algunas veces más pequeño que el valor del coeficiente en sí)\n",
    "- El $ \\ sigma ^ 2 $ o la varianza de la serie residual es un orden de magnitud menor que la serie original.\n",
    "\n",
    "Así que este es el mejor modelo de ajuste para los residuos. Grafiquemos el ACF y el PACF de esto y observemos si este modelo eliminó el componente estacional y de tendencia del residuo o resto."
   ]
  },
  {
   "cell_type": "code",
   "execution_count": 27,
   "metadata": {
    "_cell_guid": "2d5cf8f0-b373-42e9-8d6e-389429ebdf34",
    "_uuid": "c66d93ae33ac6272123a4b034efe03bf6366fe63"
   },
   "outputs": [
    {
     "data": {
      "image/png": "[encoded data removed]",
      "text/plain": [
       "Plot with title \"PACF de ARIMA(3,0,4) estimate\""
      ]
     },
     "metadata": {},
     "output_type": "display_data"
    }
   ],
   "source": [
    "plot.acf(arima.estimate6$resid[-1], col = 'ARIMA(3,0,4) estimate', is.df = F)"
   ]
  },
  {
   "cell_type": "markdown",
   "metadata": {
    "_cell_guid": "e352c95d-378a-4f4e-867f-ff12462d86d8",
    "_uuid": "9ad637b313c71e58174e25ecffe2d3cb3d8474e1"
   },
   "source": [
    "- Desde el gráfico ACF, notamos retrasos significativos que no son cero, lo que indica que el componente AR no se eliminó completamente\n",
    "- El gráfico PACF tiene valores significativos que indican que el componente MA no se eliminó completamente\n",
    "- Ambos gráficos tienen valores significativamente menos significativos en comparación con los del resto de descomposición de STL, lo que indica que puede ser una buena estimación para el resto de STL\n",
    "\n",
    "### Evaluación\n",
    "\n",
    "El paquete R `forecast` en particular, tiene herramientas para estimar automáticamente los modelos ** ARIMA ** estacionales y utilizar estos modelos para hacer pronósticos futuros.\n",
    "\n",
    "La función `auto.arima` del paquete` forecast` hace lo siguiente:\n",
    "\n",
    "- Realiza una regresión progresiva progresiva a partir del orden máximo de cada coeficiente para encontrar el modelo ARIMA estacional óptimo. La opimización se realiza utilizando los Criterios de Información de Akaike (AIC) y los Criterios de Información Bayesiana (BIC).\n",
    "- El modelo ARIMA estacional puede escribirse como ARIMA (p, d, q) (P, D, Q). Ya hemos explorado el modelo estándar de ARIMA, ARIMA (p, d, q). Los términos estacionales adicionales modelan el comportamiento estacional y de tendencia:\n",
    "  - P es el orden del modelo autorregresivo estacional.\n",
    "  - D es el orden de un operador diferenciador o integrador, que modela la tendencia.\n",
    "  - Q es el orden del modelo de media móvil estacional.\n",
    "  \n",
    "Los ** Criterios de Información Bayesiana ** o ** BIC ** están estrechamente relacionados con los Criterios de Información de Akaike. El BIC pesa el número de parámetros en el modelo por el registro del número de observaciones.\n",
    "\n",
    "Esta es la parte interesante. Utilizaremos `auto.arima` para ajustar un modelo lineal a nuestra serie de tiempo mensual de tasa de desempleo nacional y lo usaremos para pronosticar las tasas de desempleo futuras, es decir, lo usaremos para pronosticar las tasas de desempleo de enero a diciembre de 2017. Ya tenemos las tasas reales o observadas disponibles para enero a julio de 2017 en [sitio web de BLS] (https://data.bls.gov/timeseries/LNU04000000). Podemos comparar las tasas pronosticadas con las tasas reales para ver si nuestro modelo es adecuado o no."
   ]
  },
  {
   "cell_type": "code",
   "execution_count": 28,
   "metadata": {
    "_cell_guid": "b891ae46-72b9-4f4a-abff-ebe43c445b60",
    "_uuid": "39e55f63fb31bd710755e3c48d9d48fbe736216f"
   },
   "outputs": [
    {
     "name": "stdout",
     "output_type": "stream",
     "text": [
      "Series: US.UnempRate.ts \n",
      "ARIMA(2,0,1)(1,1,2)[12] \n",
      "\n",
      "Coefficients:\n",
      "         ar1      ar2      ma1     sar1     sma1     sma2\n",
      "      1.9550  -0.9582  -0.9053  -0.0051  -0.6822  -0.0813\n",
      "s.e.  0.0309   0.0302   0.0522   0.3560   0.3501   0.2604\n",
      "\n",
      "sigma^2 estimated as 0.03243:  log likelihood=88.76\n",
      "AIC=-163.53   AICc=-163.16   BIC=-137.33\n",
      "\n",
      "Training set error measures:\n",
      "                       ME      RMSE       MAE         MPE     MAPE      MASE\n",
      "Training set 0.0004808074 0.1750221 0.1350883 -0.03191109 2.247973 0.2160431\n",
      "                    ACF1\n",
      "Training set -0.05488138\n"
     ]
    }
   ],
   "source": [
    "fit.US.Unemp <- auto.arima(US.UnempRate.ts)\n",
    "summary(fit.US.Unemp)"
   ]
  },
  {
   "cell_type": "markdown",
   "metadata": {
    "_cell_guid": "0e520a0b-52d9-4f47-b953-10b207ec89c1",
    "_uuid": "1c6327a1acde63173cdc93a22aaf4b77817d7328"
   },
   "source": [
    "De estos resultados notamos los siguientes puntos:\n",
    "\n",
    "- El modelo estimado es ARIMA (1,1,4) (0,0,2).\n",
    "- Sigma ^ 2 de la serie original = 0.046737234933687\n",
    "- sigma ^ 2 del modelo estimado = 0.001906\n",
    "- Los errores estándar de los coeficientes del modelo son generalmente un orden de magnitud menor que los valores de los coeficientes del modelo. Todos los coeficientes de este modelo parecen ser significativos\n",
    "- Se producen una serie de métricas de error que incluyen:\n",
    "  - Error medio, ME.\n",
    "  - Error cuadrático medio, RMSE.\n",
    "  - Error absoluto medio, MAE.\n",
    "  - Error de predicción media, MPE, error de predicción absoluta media, MAPE y error de cuadratura absoluta media, o MASE. El error de predicción se calcula actualizando iterativamente el modelo en una ventana en expansión y midiendo el error de predecir el siguiente valor más allá de la ventana. Tenga en cuenta que el ** MAPE es bastante alto ** en comparación con los otros errores.\n",
    "  - ACF1 es la correlación del modelo residual en el primer desfase distinto de cero, o retardo 1, que no es significativo en este caso.\n",
    "  \n",
    "Usaremos el modelo óptimo estimado para hacer predicciones en el futuro."
   ]
  },
  {
   "cell_type": "code",
   "execution_count": 30,
   "metadata": {
    "_cell_guid": "6e0e61b0-3ce1-4919-9a0c-130a3b4f101d",
    "_uuid": "172cd31ec5ef8617ccb09aaf99ac76c49bb64004"
   },
   "outputs": [
    {
     "name": "stdout",
     "output_type": "stream",
     "text": [
      "\n",
      "Forecast method: ARIMA(2,0,1)(1,1,2)[12]\n",
      "\n",
      "Model Information:\n",
      "Series: US.UnempRate.ts \n",
      "ARIMA(2,0,1)(1,1,2)[12] \n",
      "\n",
      "Coefficients:\n",
      "         ar1      ar2      ma1     sar1     sma1     sma2\n",
      "      1.9550  -0.9582  -0.9053  -0.0051  -0.6822  -0.0813\n",
      "s.e.  0.0309   0.0302   0.0522   0.3560   0.3501   0.2604\n",
      "\n",
      "sigma^2 estimated as 0.03243:  log likelihood=88.76\n",
      "AIC=-163.53   AICc=-163.16   BIC=-137.33\n",
      "\n",
      "Error measures:\n",
      "                       ME      RMSE       MAE         MPE     MAPE      MASE\n",
      "Training set 0.0004808074 0.1750221 0.1350883 -0.03191109 2.247973 0.2160431\n",
      "                    ACF1\n",
      "Training set -0.05488138\n",
      "\n",
      "Forecasts:\n",
      "         Point Forecast    Lo 80    Hi 80    Lo 95    Hi 95\n",
      "Jan 2017       5.865629 5.634826 6.096431 5.512646 6.218611\n",
      "Feb 2017       5.801936 5.467323 6.136550 5.290189 6.313684\n",
      "Mar 2017       5.561066 5.141887 5.980246 4.919986 6.202146\n",
      "Apr 2017       4.857379 4.363354 5.351404 4.101833 5.612924\n",
      "May 2017       4.882656 4.320060 5.445252 4.022239 5.743072\n",
      "Jun 2017       5.328808 4.702285 5.955331 4.370624 6.286992\n",
      "Jul 2017       5.391305 4.704619 6.077990 4.341110 6.441500\n",
      "Aug 2017       5.168399 4.424799 5.911999 4.031161 6.305637\n",
      "Sep 2017       4.882870 4.085285 5.680454 3.663070 6.102670\n",
      "Oct 2017       4.822091 3.973247 5.670934 3.523897 6.120284\n",
      "Nov 2017       4.933426 4.035913 5.830940 3.560798 6.306055\n",
      "Dec 2017       5.295307 4.351616 6.238997 3.852057 6.738557\n"
     ]
    },
    {
     "data": {
      "image/png": "[encoded data removed]",
      "text/plain": [
       "Plot with title \"Forecasts from ARIMA(2,0,1)(1,1,2)[12]\""
      ]
     },
     "metadata": {},
     "output_type": "display_data"
    }
   ],
   "source": [
    "unemp.forecast <- forecast\n",
    "fit.US.Unemp, h=12)\n",
    "summary(unemp.forecast)\n",
    "plot(unemp.forecast)"
   ]
  },
  {
   "cell_type": "markdown",
   "metadata": {
    "_cell_guid": "80e3b1be-449d-422a-89cc-8dbd6030f756",
    "_uuid": "72488451e0b9081c2277c3e5f0cab608a6ea7249"
   },
   "source": [
    "La línea azul en el gráfico anterior muestra las tasas pronosticadas y el frotis gris denota los intervalos de confianza.\n",
    "\n",
    "Notamos que el 80% y el 95% de los intervalos de confianza son casi proporcionales al valor pronosticado en sí mismo y se hacen cada vez más amplios a medida que avanza el tiempo. Esto implica que la varianza puede estar aumentando con el tiempo, o la heterocedasticidad. Eso significa que esto puede no ser adecuado para nuestros datos de desempleo.\n",
    "\n",
    "A continuación, comparemos los valores pronosticados con los valores reales (no ajustados por estacionalidad) obtenidos del sitio web de BLS en paralelo:"
   ]
  },
  {
   "cell_type": "code",
   "execution_count": 31,
   "metadata": {
    "_cell_guid": "191a114e-a881-40fd-aa66-5af4cb71707c",
    "_uuid": "80814eeb78ff232168f005e927a8a8505b56edaf"
   },
   "outputs": [
    {
     "data": {
      "text/html": [
       "<table>\n",
       "<caption>A data.frame: 7 × 4</caption>\n",
       "<thead>\n",
       "\t<tr><th scope=col>año</th><th scope=col>mes</th><th scope=col>pronosticado</th><th scope=col>actual</th></tr>\n",
       "\t<tr><th scope=col>&lt;dbl&gt;</th><th scope=col>&lt;fct&gt;</th><th scope=col>&lt;dbl&gt;</th><th scope=col>&lt;dbl&gt;</th></tr>\n",
       "</thead>\n",
       "<tbody>\n",
       "\t<tr><td>2017</td><td>Jan</td><td>5.36</td><td>5.1</td></tr>\n",
       "\t<tr><td>2017</td><td>Feb</td><td>5.41</td><td>4.9</td></tr>\n",
       "\t<tr><td>2017</td><td>Mar</td><td>5.31</td><td>4.6</td></tr>\n",
       "\t<tr><td>2017</td><td>Apr</td><td>4.96</td><td>4.1</td></tr>\n",
       "\t<tr><td>2017</td><td>May</td><td>4.79</td><td>4.1</td></tr>\n",
       "\t<tr><td>2017</td><td>Jun</td><td>5.14</td><td>4.5</td></tr>\n",
       "\t<tr><td>2017</td><td>Jul</td><td>5.10</td><td>4.6</td></tr>\n",
       "</tbody>\n",
       "</table>\n"
      ],
      "text/latex": [
       "A data.frame: 7 × 4\n",
       "\\begin{tabular}{r|llll}\n",
       " año & mes & pronosticado & actual\\\\\n",
       " <dbl> & <fct> & <dbl> & <dbl>\\\\\n",
       "\\hline\n",
       "\t 2017 & Jan & 5.36 & 5.1\\\\\n",
       "\t 2017 & Feb & 5.41 & 4.9\\\\\n",
       "\t 2017 & Mar & 5.31 & 4.6\\\\\n",
       "\t 2017 & Apr & 4.96 & 4.1\\\\\n",
       "\t 2017 & May & 4.79 & 4.1\\\\\n",
       "\t 2017 & Jun & 5.14 & 4.5\\\\\n",
       "\t 2017 & Jul & 5.10 & 4.6\\\\\n",
       "\\end{tabular}\n"
      ],
      "text/markdown": [
       "\n",
       "A data.frame: 7 × 4\n",
       "\n",
       "| año &lt;dbl&gt; | mes &lt;fct&gt; | pronosticado &lt;dbl&gt; | actual &lt;dbl&gt; |\n",
       "|---|---|---|---|\n",
       "| 2017 | Jan | 5.36 | 5.1 |\n",
       "| 2017 | Feb | 5.41 | 4.9 |\n",
       "| 2017 | Mar | 5.31 | 4.6 |\n",
       "| 2017 | Apr | 4.96 | 4.1 |\n",
       "| 2017 | May | 4.79 | 4.1 |\n",
       "| 2017 | Jun | 5.14 | 4.5 |\n",
       "| 2017 | Jul | 5.10 | 4.6 |\n",
       "\n"
      ],
      "text/plain": [
       "  año  mes pronosticado actual\n",
       "1 2017 Jan 5.36         5.1   \n",
       "2 2017 Feb 5.41         4.9   \n",
       "3 2017 Mar 5.31         4.6   \n",
       "4 2017 Apr 4.96         4.1   \n",
       "5 2017 May 4.79         4.1   \n",
       "6 2017 Jun 5.14         4.5   \n",
       "7 2017 Jul 5.10         4.6   "
      ]
     },
     "metadata": {},
     "output_type": "display_data"
    }
   ],
   "source": [
    "forecast.vs.actual = data.frame('año' = c(rep(2017,7)), 'mes' = c('Jan','Feb','Mar','Apr','May','Jun','Jul'),\n",
    "                         'pronosticado'=c(round(exp(1.678036),2),round(exp(1.687569),2),round(exp(1.668689),2),\n",
    "                                round(exp(1.601984),2),round(exp(1.567450),2), round(exp(1.636896),2),round(exp(1.629164),2)),\n",
    "                         'actual' = c(5.1,4.9,4.6,4.1,4.1,4.5,4.6))\n",
    "head(forecast.vs.actual, 7)"
   ]
  },
  {
   "cell_type": "markdown",
   "metadata": {
    "_cell_guid": "db4a6118-66db-485f-8deb-752106ac4821",
    "_uuid": "8be8951484dac6d1493f7fd22a9872350af5d7cb"
   },
   "source": [
    "Esto muestra que a medida que avanzamos en el tiempo, los valores pronosticados van más y más lejos de la marca, lo que implica que esto no es un buen ajuste para nuestros datos.\n",
    "\n",
    "### Resumen\n",
    "\n",
    "Analizamos la tasa de desempleo nacional de los EE. UU. (U-3, no ajustada por estacionalidad), originalmente condensada del sitio web de BLS, como una serie de tiempo univariable de 1990 a 2016 y utilizamos los métodos ARIMA para predecir las tasas para 2017. Realizamos las siguientes observaciones:\n",
    "\n",
    "- La serie de tiempo no es estacionaria.\n",
    "- Tiene un componente estacional y una tendencia y un componente cíclico.\n",
    "- Utilizamos la descomposición de STL para eliminar la tendencia y los componentes estacionales de la serie y encontramos que un modelo ARIMA (3,0,4) es un buen ajuste para el resto de la serie.\n",
    "- Utilizamos la función `auto.arima` del paquete` forecast` para encontrar el modelo ARIMA más adecuado y lo usamos para pronosticar la tasa de desempleo en 2017.\n",
    "- Realizamos una comparación visual del valor pronosticado y los valores reales obtenidos del [sitio web de BLS] (https://data.bls.gov/timeseries/LNU04000000) de enero a julio de 2017 y encontramos que los valores pronosticados se alejan aún más de los valores reales a medida que avanza el tiempo, lo que implica que este modelo no es un buen ajuste\n",
    "\n",
    "### Conclusión\n",
    "\n",
    "Nuestro objetivo fue estudiar las tasas de desempleo U-3 no ajustadas estacionalmente como una serie de tiempo univariada y encontrar modelos lineales que describieran las variaciones de manera efectiva. STL descompuso la serie de tiempo y ajustamos un modelo ARIMA (p, d, q) al resto. También ajustamos un modelo ARIMA (p, d, q) (P, D, Q) y lo usamos para pronosticar las tasas de desempleo para 2017. Después de comparar algunos de los valores reales con los valores pronosticados, llegamos a la conclusión de que este modelo no es bueno. ajuste.\n",
    "\n",
    "En realidad, existen varios modelos que podríamos explorar e incluir otros factores o características para modelar nuestra tasa de desempleo y ayudarnos a hacer un mejor pronóstico, pero eso está fuera del alcance de este análisis."
   ]
  },
  {
   "cell_type": "code",
   "execution_count": null,
   "metadata": {},
   "outputs": [],
   "source": []
  }
 ],
 "metadata": {
  "kernelspec": {
   "display_name": "R",
   "language": "R",
   "name": "ir"
  },
  "language_info": {
   "codemirror_mode": "r",
   "file_extension": ".r",
   "mimetype": "text/x-r-source",
   "name": "R",
   "pygments_lexer": "r",
   "version": "3.5.1"
  }
 },
 "nbformat": 4,
 "nbformat_minor": 1
}
